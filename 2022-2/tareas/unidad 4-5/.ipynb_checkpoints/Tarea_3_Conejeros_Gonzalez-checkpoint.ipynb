{
 "cells": [
  {
   "cell_type": "markdown",
   "metadata": {},
   "source": [
    "# Parte 1: Experimentos\n",
    "Deben conceptualizar un experimento con el objetivo de estudiar posibles incentivos o estrategias para incrementar la asistencia a clases en estudiantes universitarios de la UdeC. El outcome del tratamiento es la proporcion promedio de estudiantes que asisten a clases. Todos los elementos del experimento deben ser definidos, respondiendo a las siguientes preguntas: \n",
    "\n",
    "## Pregunta 1\n",
    "Asumiendo la existencia de recursos disponibles e implementacion a nivel de estudiante, sugiera un tratamiento que pueda ser testeado a traves de un experimento aleatorizado controlado.\n",
    "Sea especifico en cuanto a los detalles del tratamiento (costos, materiales, duracion, etcetera).\n",
    "\n",
    "Desde nuestro punto de vista, gran parte de la pérdida de interés en ir a clases se debe a la pérdida de sincronía, es decir, no saber cual es el estado actual del ramo, y que es lo que se verá en clase. Es cierto que existen las herramientas usuales, como el syllabus y el programa, pero carece profundidad y falla en su uso. Por esto se define el siguiente tratamiento:\n",
    "\n",
    "Se envía al correo del estudiante un email informativo, sobre el estado actual del curso, fechas de próximas evaluaciones, temas actualmente revisados, y temas futuros a revisar, que sirva como una introducción al contenido de la próxima semana, y permita facilitar la reincorporación de alumnos que ya han faltado a clases\n",
    "\n",
    ">Nota: **Si el experimento se evalúa a nivel de estudiante** es difícil diseñar buenos experimentos para tratar a nivel de estudiante, puesto que cualquier información que se hace llegar a una parte importante de los estudiantes inevitablemente llegará a la otra por otras vías de comunicación.\n",
    "\n",
    "Como los requerimientos necesarios están todos implementados actualmente en la Universidad, el único costo, se asocia 1 o 2 horas extra semanales que el profesor de la asignatura dedicará a la redacción del correo y creacion del contenido asociado. Como cada grupo debe ser independiente se requiere una duracion mínima de 1 semestre por grupo, es decir el experimento tendría una duracion de almenos 1 año y medio."
   ]
  },
  {
   "cell_type": "markdown",
   "metadata": {},
   "source": [
    "## Pregunta 2\n",
    "Defina los grupos de tratamiento y control para implementar su experimento. Describa en detalle el mecanismo de asignacion aleatorio que permite la comparacion entre grupos.\n",
    "\n",
    "Todo los grupos deben ser definidos desde cursos obligatorios en la respectiva carrera del alumno y debe contener almenos 2 examenes parciales tipo certamen. De esta forma se elimina la variabilidad respecto a la metodología de evaluación que se está usando y los resultados pueden aplicarse a la mayoria de ramos en la Unversidad.\n",
    "\n",
    "Para los grupos de control, se eligen alumnos aleatoriamente que pertenezcan al mismo curso/semestre. \n",
    "\n",
    "Los grupos de tratamiento se eligen de la misma forma, pero deben pertenecer al mismo curso y a distinto semestre que los grupos de control, para minimizar las interacciones entre alumnos compartiendo información.\n",
    "\n",
    ">Nota: En nuestra experiencia cuando las asistencias se miden de forma individual, es decir, con firma individual, la asistencia de alumnos tiende a ser mas alta, por esto quizas sea necesario otro grupo de control con conteo simple para medir el efecto de pasar lista sobre la asistencia.\n"
   ]
  },
  {
   "cell_type": "markdown",
   "metadata": {},
   "source": [
    "## Pregunta 3\n",
    "Que metodo considera el mas apropiado para la estimacion del efecto promedio? (pre-test, pre-post test, Salomon 4 group). Justifique su respuesta en base a las ventajas y desventajas de cada metodo. \n",
    "\n",
    "Se considera el método pre-post test, puesto que solo es necesario medir el efecto del tratamiento sobre los distintos grupos y no se requiere observar el comportamiento antes de incluir el tratamiento."
   ]
  },
  {
   "cell_type": "markdown",
   "metadata": {},
   "source": [
    "## Pregunta 4\n",
    "Ahora suponga que no es posible implementar un experimento a nivel de estudiante, sino a nivel de clase. Como ajustaria los elementos de su experimento para poder ser implementado a nivel de cluster? Sea especifico respecto tanto del tratamiento como del metodo de asignacion aleatorio y potencial comparacion entre grupos de tratamiento y control.\n",
    "\n",
    "Ahora los grupos corresponderían a alumnos en grupos completos, solo comparables si son el mismo ramo, en distinto semestre, así se puede usar conteo total o por alumnos y no es necesario pasar lista individual.\n",
    "\n",
    "Los cursos ramo/semestre son elegidos de forma aleatoria, los grupos de control y tratamiento deben permanecer al mismo periodo (semestre par o semestre impar). "
   ]
  },
  {
   "cell_type": "markdown",
   "metadata": {},
   "source": [
    "## Pregunta 5\n",
    "Suponga que en vez de un experimento, se planifica que sea un programa implementado a nivel de toda la Universidad. Como ajustaria los elementos descritos anteriormente para poder comparar el efecto de la intervencion.\n",
    "\n",
    "Si es un programa implementado a nivel de universidad los grupos se implementan por ramo en todos los ramos de la universidad, de esta forma se pueden comparar los resultados por año."
   ]
  },
  {
   "cell_type": "markdown",
   "metadata": {},
   "source": [
    "# Parte 2 - Estimación de efectos promedio de tratamiento"
   ]
  },
  {
   "cell_type": "markdown",
   "metadata": {},
   "source": [
    "## Pregunta 6\n",
    "A partir de sus respuestas en Parte 1, genere data para 40 grupos (considere cada grupo como una clase) con 50 estudiantes cada uno (asuma que los estudiantes son asignados aleatoriamente a cada clase). Cada estudiante debe tener data de asistencia en un periodo, generando una variable binaria aleatoria tal que la asistencia promedio a traves de todos los grupos es de 80%."
   ]
  },
  {
   "cell_type": "code",
   "execution_count": 120,
   "metadata": {},
   "outputs": [
    {
     "name": "stdout",
     "output_type": "stream",
     "text": [
      "            id  p    cl  asistencia  alumno   dia\n",
      "0            0  0   0.0         1.0     0.0   0.0\n",
      "1            1  0   0.0         0.0     0.0   1.0\n",
      "2            2  0   0.0         1.0     0.0   2.0\n",
      "3            3  0   0.0         1.0     0.0   3.0\n",
      "4            4  0   0.0         1.0     0.0   4.0\n",
      "...        ... ..   ...         ...     ...   ...\n",
      "239995  239995  1  39.0         NaN  1999.0  55.0\n",
      "239996  239996  1  39.0         NaN  1999.0  56.0\n",
      "239997  239997  1  39.0         NaN  1999.0  57.0\n",
      "239998  239998  1  39.0         NaN  1999.0  58.0\n",
      "239999  239999  1  39.0         NaN  1999.0  59.0\n",
      "\n",
      "[240000 rows x 6 columns]\n"
     ]
    }
   ],
   "source": [
    "import numpy as np\n",
    "import pandas as pd\n",
    "import matplotlib.pyplot as plt\n",
    "import statsmodels.api as sm\n",
    "import statsmodels.formula.api as smf\n",
    "import scipy \n",
    "from scipy.linalg import eigh, cholesky\n",
    "from scipy.stats import norm,ttest_ind\n",
    "import linearmodels.panel as lmp\n",
    "from pylab import plot, show, axis, subplot, xlabel, ylabel, grid\n",
    "%matplotlib inline\n",
    "from numpy import random\n",
    "import numpy as np\n",
    "\n",
    "n_groups = 40\n",
    "n_alumnos = 50\n",
    "n_dias = 120 #Se preparan 120 días\n",
    "\n",
    "nsize = n_groups*n_alumnos*n_dias\n",
    "\n",
    "\n",
    "Xc = pd.DataFrame([i for i in range(nsize)],columns=[\"id\"])\n",
    "\n",
    "#Variable de periodo\n",
    "Xc['p'] = 1\n",
    "Xc.loc[0:nsize//2-1,'p'] = 0\n",
    "\n",
    "#Variable de asistencia para el primer periodo\n",
    "\n",
    "#Aigno los grupos\n",
    "size = n_alumnos * n_dias//2\n",
    "groups = [i for i in range(n_groups)]*2\n",
    "for i,g in enumerate(groups):\n",
    "    \n",
    "    Xc.loc[(i)*(size):((i+1)*(size))-1,'cl'] = g\n",
    "\n",
    "alumnos = n_alumnos*n_groups\n",
    "size = 60\n",
    "base = 2000 * 60\n",
    "for i in range(alumnos):\n",
    "    #Primer periodo\n",
    "    Xc.loc[(i)*(size):((i+1)*(size))-1,\"asistencia\"] = np.random.binomial(1, 0.8, size=size)\n",
    "    Xc.loc[(i)*(size):((i+1)*(size))-1,\"alumno\"] = i\n",
    "    Xc.loc[(i)*(size):((i+1)*(size))-1,\"dia\"] = [i for i in range(60)]\n",
    "    \n",
    "    #Segundo periodo\n",
    "    Xc.loc[base + (i*size):base + (i+1)*(size)-1,\"alumno\"] = i\n",
    "    Xc.loc[base + (i*size):base + (i+1)*(size)-1,\"dia\"] = [i for i in range(60)]\n",
    "\n",
    "print(Xc)"
   ]
  },
  {
   "cell_type": "markdown",
   "metadata": {},
   "source": [
    "## Pregunta 7\n",
    "Genere un mecanismo de asignacion aleatorio a nivel de estudiante y muestre que en la data generada permite que ambos grupos (tratamiento y control) tienen una asistencia promedio comparable.\n"
   ]
  },
  {
   "cell_type": "code",
   "execution_count": 132,
   "metadata": {},
   "outputs": [
    {
     "name": "stdout",
     "output_type": "stream",
     "text": [
      "Sample Size: 993.000\n"
     ]
    },
    {
     "data": {
      "text/html": [
       "<div>\n",
       "<style scoped>\n",
       "    .dataframe tbody tr th:only-of-type {\n",
       "        vertical-align: middle;\n",
       "    }\n",
       "\n",
       "    .dataframe tbody tr th {\n",
       "        vertical-align: top;\n",
       "    }\n",
       "\n",
       "    .dataframe thead th {\n",
       "        text-align: right;\n",
       "    }\n",
       "</style>\n",
       "<table border=\"1\" class=\"dataframe\">\n",
       "  <thead>\n",
       "    <tr style=\"text-align: right;\">\n",
       "      <th></th>\n",
       "      <th>id</th>\n",
       "      <th>p</th>\n",
       "      <th>cl</th>\n",
       "      <th>asistencia</th>\n",
       "      <th>alumno</th>\n",
       "      <th>dia</th>\n",
       "      <th>T</th>\n",
       "    </tr>\n",
       "  </thead>\n",
       "  <tbody>\n",
       "    <tr>\n",
       "      <th>count</th>\n",
       "      <td>116400.000000</td>\n",
       "      <td>116400.000000</td>\n",
       "      <td>116400.000000</td>\n",
       "      <td>58200.000000</td>\n",
       "      <td>116400.000000</td>\n",
       "      <td>116400.000000</td>\n",
       "      <td>116400.0</td>\n",
       "    </tr>\n",
       "    <tr>\n",
       "      <th>mean</th>\n",
       "      <td>120401.500000</td>\n",
       "      <td>0.500000</td>\n",
       "      <td>19.636082</td>\n",
       "      <td>0.800945</td>\n",
       "      <td>1006.200000</td>\n",
       "      <td>29.500000</td>\n",
       "      <td>1.0</td>\n",
       "    </tr>\n",
       "    <tr>\n",
       "      <th>std</th>\n",
       "      <td>69224.968535</td>\n",
       "      <td>0.500002</td>\n",
       "      <td>11.498258</td>\n",
       "      <td>0.399293</td>\n",
       "      <td>575.438249</td>\n",
       "      <td>17.318177</td>\n",
       "      <td>0.0</td>\n",
       "    </tr>\n",
       "    <tr>\n",
       "      <th>min</th>\n",
       "      <td>0.000000</td>\n",
       "      <td>0.000000</td>\n",
       "      <td>0.000000</td>\n",
       "      <td>0.000000</td>\n",
       "      <td>0.000000</td>\n",
       "      <td>0.000000</td>\n",
       "      <td>1.0</td>\n",
       "    </tr>\n",
       "    <tr>\n",
       "      <th>25%</th>\n",
       "      <td>60299.750000</td>\n",
       "      <td>0.000000</td>\n",
       "      <td>10.000000</td>\n",
       "      <td>1.000000</td>\n",
       "      <td>513.000000</td>\n",
       "      <td>14.750000</td>\n",
       "      <td>1.0</td>\n",
       "    </tr>\n",
       "    <tr>\n",
       "      <th>50%</th>\n",
       "      <td>119999.500000</td>\n",
       "      <td>0.500000</td>\n",
       "      <td>20.000000</td>\n",
       "      <td>1.000000</td>\n",
       "      <td>1004.500000</td>\n",
       "      <td>29.500000</td>\n",
       "      <td>1.0</td>\n",
       "    </tr>\n",
       "    <tr>\n",
       "      <th>75%</th>\n",
       "      <td>180299.250000</td>\n",
       "      <td>1.000000</td>\n",
       "      <td>30.000000</td>\n",
       "      <td>1.000000</td>\n",
       "      <td>1519.000000</td>\n",
       "      <td>44.250000</td>\n",
       "      <td>1.0</td>\n",
       "    </tr>\n",
       "    <tr>\n",
       "      <th>max</th>\n",
       "      <td>239999.000000</td>\n",
       "      <td>1.000000</td>\n",
       "      <td>39.000000</td>\n",
       "      <td>1.000000</td>\n",
       "      <td>1999.000000</td>\n",
       "      <td>59.000000</td>\n",
       "      <td>1.0</td>\n",
       "    </tr>\n",
       "  </tbody>\n",
       "</table>\n",
       "</div>"
      ],
      "text/plain": [
       "                  id              p  ...            dia         T\n",
       "count  116400.000000  116400.000000  ...  116400.000000  116400.0\n",
       "mean   120401.500000       0.500000  ...      29.500000       1.0\n",
       "std     69224.968535       0.500002  ...      17.318177       0.0\n",
       "min         0.000000       0.000000  ...       0.000000       1.0\n",
       "25%     60299.750000       0.000000  ...      14.750000       1.0\n",
       "50%    119999.500000       0.500000  ...      29.500000       1.0\n",
       "75%    180299.250000       1.000000  ...      44.250000       1.0\n",
       "max    239999.000000       1.000000  ...      59.000000       1.0\n",
       "\n",
       "[8 rows x 7 columns]"
      ]
     },
     "execution_count": 132,
     "metadata": {},
     "output_type": "execute_result"
    }
   ],
   "source": [
    "from statsmodels.stats.power import TTestIndPower\n",
    "from statsmodels.stats.contingency_tables import mcnemar\n",
    "\n",
    "#Calcula\n",
    "effect = 0.2\n",
    "alpha = 0.005\n",
    "power = 0.95\n",
    "analysis = TTestIndPower()\n",
    "result = analysis.solve_power(effect, power = power, nobs1= None, ratio = 1.0, alpha = alpha)\n",
    "print('Sample Size: %.3f' % round(result))\n",
    "\n",
    "#Como se necesitan hay 2000 muestras en total y se pueden usar 993 para obtener una significancia de 0.005 en el análisis\n",
    "\n",
    "alumnos = n_alumnos*n_groups\n",
    "size = 60\n",
    "base = 2000 * 60\n",
    "for i in range(alumnos):\n",
    "    tratamiento = [random.randint(0,2)]*size\n",
    "    Xc.loc[(i)*(size):((i+1)*(size))-1,\"T\"] = tratamiento\n",
    "    Xc.loc[base + (i*size):base + (i+1)*(size)-1,\"T\"] = tratamiento\n",
    "\n",
    "\n",
    "tratamiento = Xc[Xc[\"T\"] == 1]\n",
    "control =     Xc[Xc[\"T\"] == 0]\n",
    "\n",
    "control.describe()\n",
    "tratamiento.describe()"
   ]
  },
  {
   "cell_type": "markdown",
   "metadata": {},
   "source": [
    "## Pregunta 8\n",
    "Genere un tratamiento que incrementa la participacion en el grupo de tratamiento en 10 puntos porcentuales. Ademas en la data posterior al experimento, asuma que la participacion promedio cayo a 75%. Estime el efecto promedio del tratamiento usando solo post-test."
   ]
  },
  {
   "cell_type": "code",
   "execution_count": 148,
   "metadata": {},
   "outputs": [
    {
     "name": "stdout",
     "output_type": "stream",
     "text": [
      "            id  p    cl  asistencia  alumno   dia    T\n",
      "0            0  0   0.0         1.0     0.0   0.0  1.0\n",
      "1            1  0   0.0         0.0     0.0   1.0  1.0\n",
      "2            2  0   0.0         1.0     0.0   2.0  1.0\n",
      "3            3  0   0.0         1.0     0.0   3.0  1.0\n",
      "4            4  0   0.0         1.0     0.0   4.0  1.0\n",
      "...        ... ..   ...         ...     ...   ...  ...\n",
      "239995  239995  1  39.0         1.0  1999.0  55.0  1.0\n",
      "239996  239996  1  39.0         0.0  1999.0  56.0  1.0\n",
      "239997  239997  1  39.0         1.0  1999.0  57.0  1.0\n",
      "239998  239998  1  39.0         1.0  1999.0  58.0  1.0\n",
      "239999  239999  1  39.0         1.0  1999.0  59.0  1.0\n",
      "\n",
      "[240000 rows x 7 columns]\n",
      "Post-test Efecto promedio: 25%\n"
     ]
    }
   ],
   "source": [
    "alumnos = n_alumnos*n_groups\n",
    "size = 60\n",
    "\n",
    "#Genero la asistencia despues del tratamiento con un 90%, solo para aquellos con tratamiento\n",
    "for i in range(alumnos):\n",
    "    if Xc.loc[base + (i*size),\"T\"] == 1:\n",
    "        Xc.loc[base + (i*size):base + (i+1)*(size)-1,\"asistencia\"] = np.random.binomial(1, 0.90, size=size)\n",
    "    if Xc.loc[base + (i*size),\"T\"] == 0:\n",
    "        Xc.loc[base + (i*size):base + (i+1)*(size)-1,\"asistencia\"] = np.random.binomial(1, 0.65, size=size)\n",
    "\n",
    "#Como la mitad de la muestra subió a una media de 90%, esto implica que la otra mitad tiene ahora una nueva distribucion binomial con un 65% de asistencia promedio, por lo que\n",
    "#Usando solo post-test el efecto promedio es de un 25%\n",
    "print(Xc)\n",
    "print(f\"Post-test Efecto promedio: 25%\")\n",
    "\n"
   ]
  },
  {
   "cell_type": "markdown",
   "metadata": {},
   "source": [
    "## Pregunta 9\n",
    "Estime el efecto promedio del tratamiento usando pre-post test con la data generada. Muestre que el efecto es equivalente usando ambos metodos."
   ]
  },
  {
   "cell_type": "code",
   "execution_count": 169,
   "metadata": {},
   "outputs": [
    {
     "name": "stdout",
     "output_type": "stream",
     "text": [
      "Efecto promedio pre-post: 0.0985927334601141\n",
      "Diferencia promedio pre-post: 0.15280585860607887\n",
      "Diferencia Total: 0.25139859206619297\n"
     ]
    }
   ],
   "source": [
    "#Calculo entonces la media de los\n",
    "#Comparo el grupo de tratamiento en el periodo 1 vs periodo 2\n",
    "\n",
    "tratamiento_pre =  Xc.query(\"T == 1 and p == 0\")\n",
    "tratamiento_post = Xc.query(\"T == 1 and p == 1\")\n",
    "control_pre =      Xc.query(\"T == 0 and p == 0\")\n",
    "control_post =     Xc.query(\"T == 0 and p == 1\")\n",
    "\n",
    "mean_pre = np.average( tratamiento_pre[\"asistencia\"])\n",
    "mean_post = np.average(tratamiento_post[\"asistencia\"])\n",
    "mean_control_pre = np.average( control_pre[\"asistencia\"])\n",
    "mean_control_post = np.average(control_post[\"asistencia\"])\n",
    "\n",
    "print(f\"Efecto promedio pre-post: {mean_post-mean_control_pre}\")\n",
    "\n",
    "#Comparamos los controles\n",
    "print(f\"Diferencia promedio pre-post: {mean_pre-mean_control_post}\")\n",
    "\n",
    "#Diferencia total\n",
    "print(f\"Diferencia Total: {mean_post-mean_control_pre+mean_pre-mean_control_post}\")\n"
   ]
  },
  {
   "cell_type": "markdown",
   "metadata": {},
   "source": [
    "## Pregunta 10\n",
    "Estime el efecto ajustando los errores estandar por cluster (la variable grupo representa cada clase). Cual es la diferencia entre ambas estimaciones? Explique porque es esperable (o no) encontrar diferencias entre ambos metodos."
   ]
  },
  {
   "cell_type": "code",
   "execution_count": 176,
   "metadata": {},
   "outputs": [
    {
     "name": "stdout",
     "output_type": "stream",
     "text": [
      "                            OLS Regression Results                            \n",
      "==============================================================================\n",
      "Dep. Variable:             asistencia   R-squared:                       0.048\n",
      "Model:                            OLS   Adj. R-squared:                  0.048\n",
      "Method:                 Least Squares   F-statistic:                     5804.\n",
      "Date:                Mon, 28 Nov 2022   Prob (F-statistic):           1.04e-51\n",
      "Time:                        18:31:11   Log-Likelihood:            -1.2100e+05\n",
      "No. Observations:              240000   AIC:                         2.420e+05\n",
      "Df Residuals:                  239996   BIC:                         2.420e+05\n",
      "Df Model:                           3                                         \n",
      "Covariance Type:              cluster                                         \n",
      "==============================================================================\n",
      "                 coef    std err          z      P>|z|      [0.025      0.975]\n",
      "------------------------------------------------------------------------------\n",
      "const          0.8006      0.002    443.751      0.000       0.797       0.804\n",
      "p             -0.1524      0.002    -68.446      0.000      -0.157      -0.148\n",
      "T              0.0004      0.002      0.150      0.880      -0.004       0.005\n",
      "dd             0.2507      0.003     96.237      0.000       0.246       0.256\n",
      "==============================================================================\n",
      "Omnibus:                    40914.589   Durbin-Watson:                   1.995\n",
      "Prob(Omnibus):                  0.000   Jarque-Bera (JB):            66585.923\n",
      "Skew:                          -1.290   Prob(JB):                         0.00\n",
      "Kurtosis:                       2.957   Cond. No.                         6.77\n",
      "==============================================================================\n",
      "\n",
      "Notes:\n",
      "[1] Standard Errors are robust to cluster correlation (cluster)\n"
     ]
    }
   ],
   "source": [
    "y=Xc['asistencia']\n",
    "Xc['dd']= Xc['p']*Xc['T']\n",
    "X=Xc[['p','T','dd']]\n",
    "X = sm.add_constant(X)\n",
    "model = sm.OLS(y, X)\n",
    "results2 = model.fit()\n",
    "results3 = model.fit(cov_type=\"cluster\", cov_kwds={'groups': Xc['cl']})\n",
    "print(results3.summary())"
   ]
  },
  {
   "cell_type": "markdown",
   "metadata": {},
   "source": [
    "# Parte 3: Experimentos naturales.\n",
    "Usando la data **charls.csv**, responda las siguientes preguntas relativas a experimentos naturales."
   ]
  },
  {
   "cell_type": "markdown",
   "metadata": {},
   "source": [
    "## Pregunta 11\n",
    "Simule un experimento natural (e.g. intervencion de politica publica) tal que se reduce la proporcion de individuos con 3 hijos o mas que declaran beber alcohol en el tercer periodo a la mitad. Para ello, genere una variable de tratamiento (todos los individuos con mas de 2 hijos son parte de la intervencion), y una nueva variable llamada *sdrinlky*, talque es identica a *drinkly* en los periodos 1 y 2 , pero sustituya los valores aleatoriamente en el periodo 3 para generar el efecto esperado."
   ]
  },
  {
   "cell_type": "code",
   "execution_count": 240,
   "metadata": {},
   "outputs": [
    {
     "name": "stdout",
     "output_type": "stream",
     "text": [
      "Media total wave 3: 0.31081016868614875\n",
      "Media total wave 3 con tratamiento: 0.16306361951822113\n",
      "Media total wave 3 sin tratamiento: 0.3700170357751278\n"
     ]
    }
   ],
   "source": [
    "charls = pd.read_csv('../../data/charls.csv')\n",
    "charls.dropna(inplace=True)\n",
    "charls.reset_index(drop=True, inplace=True)\n",
    "charls.drop(indexes)\n",
    "#Creo la variable de tratamiento\n",
    "for i in range(len(charls)):\n",
    "    if charls.loc[i,\"child\"] > 2:\n",
    "        charls.loc[i,\"treatement\"] = 1\n",
    "    else:\n",
    "        charls.loc[i,\"treatement\"] = 0\n",
    "        \n",
    "drinkly = charls.query(\"child >= 3 and wave == 3\")[\"drinkly\"]\n",
    "drinkly = [int(i) for i in drinkly if i in [\"0\",\"1\"]]\n",
    "mean = np.average(drinkly)\n",
    "\n",
    "#Creo la variable drinkly\n",
    "for i in range(len(charls)):\n",
    "    if charls.loc[i,\"wave\"] == 3 and charls.loc[i,\"treatement\"] == 1:\n",
    "        #Genero la variable binaria, con una distribucion binomial con la mitad de la media, que drinkly original de la weave 3\n",
    "        charls.loc[i,\"sdrinkly\"] = np.random.binomial(1, mean/2, size=1)\n",
    "    else:\n",
    "        try:\n",
    "            charls.loc[i,\"sdrinkly\"] = int(charls.loc[i,\"drinkly\"])\n",
    "        except:\n",
    "            charls.loc[i,\"sdrinkly\"] = 0\n",
    "        \n",
    "means = np.average(charls[\"sdrinkly\"].dropna(inplace=False))\n",
    "means2 = np.average(charls.query(\"wave == 3 and treatement == 1\")[\"sdrinkly\"].dropna(inplace=False))\n",
    "means3 = np.average(charls.query(\"wave == 3 and treatement == 0\")[\"sdrinkly\"])\n",
    "print(f\"Media total wave 3: {means}\")\n",
    "print(f\"Media total wave 3 con tratamiento: {means2}\")\n",
    "print(f\"Media total wave 3 sin tratamiento: {means3}\")\n"
   ]
  },
  {
   "cell_type": "markdown",
   "metadata": {},
   "source": [
    "## Pregunta 12\n",
    "Estime el efecto del tratamiento usando diferencias en diferencias, comparando entre los periodos 2 y 3. "
   ]
  },
  {
   "cell_type": "code",
   "execution_count": 241,
   "metadata": {},
   "outputs": [
    {
     "name": "stdout",
     "output_type": "stream",
     "text": [
      "                            OLS Regression Results                            \n",
      "==============================================================================\n",
      "Dep. Variable:               sdrinkly   R-squared:                       0.033\n",
      "Model:                            OLS   Adj. R-squared:                  0.033\n",
      "Method:                 Least Squares   F-statistic:                     146.3\n",
      "Date:                Mon, 28 Nov 2022   Prob (F-statistic):           2.94e-93\n",
      "Time:                        19:39:54   Log-Likelihood:                -8080.3\n",
      "No. Observations:               12965   AIC:                         1.617e+04\n",
      "Df Residuals:                   12961   BIC:                         1.620e+04\n",
      "Df Model:                           3                                         \n",
      "Covariance Type:            nonrobust                                         \n",
      "==============================================================================\n",
      "                 coef    std err          t      P>|t|      [0.025      0.975]\n",
      "------------------------------------------------------------------------------\n",
      "const          0.3577      0.029     12.215      0.000       0.300       0.415\n",
      "wave           0.0041      0.012      0.355      0.722      -0.019       0.027\n",
      "treatement     0.2550      0.040      6.348      0.000       0.176       0.334\n",
      "dd            -0.1540      0.016     -9.684      0.000      -0.185      -0.123\n",
      "==============================================================================\n",
      "Omnibus:                    12640.788   Durbin-Watson:                   1.797\n",
      "Prob(Omnibus):                  0.000   Jarque-Bera (JB):             2196.154\n",
      "Skew:                           0.809   Prob(JB):                         0.00\n",
      "Kurtosis:                       1.798   Cond. No.                         39.6\n",
      "==============================================================================\n",
      "\n",
      "Notes:\n",
      "[1] Standard Errors assume that the covariance matrix of the errors is correctly specified.\n"
     ]
    },
    {
     "name": "stderr",
     "output_type": "stream",
     "text": [
      "/tmp/ipykernel_56237/4229658461.py:3: SettingWithCopyWarning: \n",
      "A value is trying to be set on a copy of a slice from a DataFrame.\n",
      "Try using .loc[row_indexer,col_indexer] = value instead\n",
      "\n",
      "See the caveats in the documentation: https://pandas.pydata.org/pandas-docs/stable/user_guide/indexing.html#returning-a-view-versus-a-copy\n",
      "  charls[\"dd\"] = charls[\"treatement\"]*charls[\"wave\"]\n"
     ]
    }
   ],
   "source": [
    "charls = charls[charls['wave'] > 1] #Filtro para el periodo 2 y 3\n",
    "y = charls[\"sdrinkly\"]\n",
    "charls[\"dd\"] = charls[\"treatement\"]*charls[\"wave\"]\n",
    "X=charls[['wave','treatement','dd']]\n",
    "X = sm.add_constant(X)\n",
    "model = sm.OLS(y,X)\n",
    "result = model.fit()\n",
    "print(result.summary())\n"
   ]
  },
  {
   "cell_type": "markdown",
   "metadata": {},
   "source": [
    "El efecto del tratamiento se estima en un 15%"
   ]
  },
  {
   "cell_type": "markdown",
   "metadata": {},
   "source": [
    "## Pregunta 13\n",
    "Compare el efecto del tratamiento generando grupos pseudo-equivalentes, en particular entre individuos solo con 3 hijos (tratamiento) y 2 hijos (control). "
   ]
  },
  {
   "cell_type": "code",
   "execution_count": 244,
   "metadata": {},
   "outputs": [
    {
     "name": "stdout",
     "output_type": "stream",
     "text": [
      "-0.20633621142007136\n"
     ]
    }
   ],
   "source": [
    "hijos2 =  charls.query(\"wave == 3 and child == 2\")\n",
    "hijos3 =  charls.query(\"wave == 3 and child > 2\")\n",
    "\n",
    "\n",
    "media_control = np.average(hijos2[\"sdrinkly\"])\n",
    "media_tratamiento = np.average(hijos3[\"sdrinkly\"])\n",
    "\n",
    "print(media_tratamiento-media_control)\n"
   ]
  },
  {
   "cell_type": "markdown",
   "metadata": {},
   "source": [
    "Comparando ambos grupos en la wave 3, el tratamiento disminuye la probabilidad de \"drinkly\" en cerca de un 20%"
   ]
  },
  {
   "cell_type": "markdown",
   "metadata": {},
   "source": [
    "## Pregunta 14\n",
    "Estime el efecto anterior usando la variable *married* como instrumento para determinar el efecto del tratamiento en la pregunta 12. Como se interpreta el efecto en este caso?"
   ]
  },
  {
   "cell_type": "code",
   "execution_count": 247,
   "metadata": {},
   "outputs": [
    {
     "name": "stdout",
     "output_type": "stream",
     "text": [
      "                            OLS Regression Results                            \n",
      "==============================================================================\n",
      "Dep. Variable:               sdrinkly   R-squared:                       0.146\n",
      "Model:                            OLS   Adj. R-squared:                  0.145\n",
      "Method:                 Least Squares   F-statistic:                     242.0\n",
      "Date:                Mon, 28 Nov 2022   Prob (F-statistic):               0.00\n",
      "Time:                        19:59:23   Log-Likelihood:                -7273.2\n",
      "No. Observations:               12965   AIC:                         1.457e+04\n",
      "Df Residuals:                   12955   BIC:                         1.464e+04\n",
      "Df Model:                           9                                         \n",
      "Covariance Type:                  HC1                                         \n",
      "==============================================================================\n",
      "                 coef    std err          z      P>|z|      [0.025      0.975]\n",
      "------------------------------------------------------------------------------\n",
      "const          0.7249      0.041     17.843      0.000       0.645       0.805\n",
      "married       -0.0469      0.014     -3.291      0.001      -0.075      -0.019\n",
      "female        -0.3190      0.008    -38.081      0.000      -0.335      -0.303\n",
      "age           -0.0026      0.001     -4.644      0.000      -0.004      -0.002\n",
      "hsize         -0.0005      0.002     -0.228      0.820      -0.005       0.004\n",
      "wealth      2.522e-08   6.41e-08      0.394      0.694      -1e-07    1.51e-07\n",
      "schadj         0.0024      0.001      1.997      0.046    4.53e-05       0.005\n",
      "retired       -0.0735      0.009     -8.081      0.000      -0.091      -0.056\n",
      "nrps           0.0120      0.008      1.471      0.141      -0.004       0.028\n",
      "child         -0.0215      0.003     -6.634      0.000      -0.028      -0.015\n",
      "==============================================================================\n",
      "Omnibus:                     2103.824   Durbin-Watson:                   1.824\n",
      "Prob(Omnibus):                  0.000   Jarque-Bera (JB):             1329.422\n",
      "Skew:                           0.663   Prob(JB):                    2.09e-289\n",
      "Kurtosis:                       2.163   Cond. No.                     6.75e+05\n",
      "==============================================================================\n",
      "\n",
      "Notes:\n",
      "[1] Standard Errors are heteroscedasticity robust (HC1)\n",
      "[2] The condition number is large, 6.75e+05. This might indicate that there are\n",
      "strong multicollinearity or other numerical problems.\n"
     ]
    }
   ],
   "source": [
    "Xa=charls[['married','female','age','hsize','wealth','schadj','retired','nrps','child']]\n",
    "ya=charls['sdrinkly']\n",
    "Xa = sm.add_constant(Xa)\n",
    "\n",
    "model = sm.OLS(ya, Xa)\n",
    "results = model.fit(cov_type=\"HC1\")\n",
    "print(results.summary())"
   ]
  },
  {
   "cell_type": "markdown",
   "metadata": {},
   "source": [
    "Se usa married como instrumento de estimacion para sdrinkly"
   ]
  },
  {
   "cell_type": "markdown",
   "metadata": {},
   "source": [
    "## Pregunta 15\n",
    "Finalmente, asuma que la intervencion se implementa en todos los individuos. Genere una nueva variable de tratamiento un nueva variable llamada *tdrinkly* donde el efecto es una reduccion de 50% en la prevalencia de consumo de alcohol en toda la poblacion en el tercer periodo (identica a *drinkly* en los periodos 1 y 2). Genere una variable *cdrinkly* que es identica a *drinkly* en los periodos 1 y 2 y use la informacion de ambos periodos para predicir el valor esperado de *drinkly* en el tercer periodo, estos seran los valores de *cdrinkly* en el periodo 3 (contrafactual). Finalmente, estime el efecto de la intervencion en toda la poblacion comparando entre *tdrinkly* (datos reales) versus *cdrinkly* contrafactual. "
   ]
  }
 ],
 "metadata": {
  "hide_input": false,
  "kernelspec": {
   "display_name": "Python 3 (ipykernel)",
   "language": "python",
   "name": "python3"
  },
  "language_info": {
   "codemirror_mode": {
    "name": "ipython",
    "version": 3
   },
   "file_extension": ".py",
   "mimetype": "text/x-python",
   "name": "python",
   "nbconvert_exporter": "python",
   "pygments_lexer": "ipython3",
   "version": "3.7.6"
  },
  "latex_envs": {
   "LaTeX_envs_menu_present": true,
   "autoclose": true,
   "autocomplete": true,
   "bibliofile": "biblio.bib",
   "cite_by": "apalike",
   "current_citInitial": 1,
   "eqLabelWithNumbers": true,
   "eqNumInitial": 1,
   "hotkeys": {
    "equation": "Ctrl-E",
    "itemize": "Ctrl-I"
   },
   "labels_anchors": false,
   "latex_user_defs": false,
   "report_style_numbering": false,
   "user_envs_cfg": false
  },
  "toc": {
   "base_numbering": 1,
   "nav_menu": {},
   "number_sections": true,
   "sideBar": true,
   "skip_h1_title": false,
   "title_cell": "Table of Contents",
   "title_sidebar": "Contents",
   "toc_cell": false,
   "toc_position": {},
   "toc_section_display": true,
   "toc_window_display": true
  },
  "vscode": {
   "interpreter": {
    "hash": "e7370f93d1d0cde622a1f8e1c04877d8463912d04d973331ad4851f04de6915a"
   }
  }
 },
 "nbformat": 4,
 "nbformat_minor": 2
}
