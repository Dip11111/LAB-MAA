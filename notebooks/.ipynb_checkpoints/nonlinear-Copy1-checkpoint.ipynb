{
 "cells": [
  {
   "cell_type": "markdown",
   "metadata": {},
   "source": [
    "<font size=\"5\">Section 2: non linear models</font>"
   ]
  },
  {
   "cell_type": "markdown",
   "metadata": {},
   "source": [
    "### Housekeeping\n",
    "\n",
    "#### import libraries\n",
    "\n",
    "Pandas for data management, statsmodels, numpy and sklearn for analysis, matplotlib for visualization. Other libraries as needed for specific tasks (e.g. semopy for SEM). Remember to use the bash terminal or the enviroment manager to add libraries.\n",
    "\n",
    "#### read data\n",
    "\n",
    "Read data files using pandas as noted below. We can clean and organize data in many ways (for example, using the **dropna** command over a dataset).\n",
    "\n",
    "#### describe data\n",
    "\n",
    "There are many was to analyze data and do descriptive statistics. A good command to start is ***head***, to describe a section of the data.\n"
   ]
  },
  {
   "cell_type": "code",
   "execution_count": 37,
   "metadata": {},
   "outputs": [],
   "source": [
    "import numpy as np\n",
    "import pandas as pd\n",
    "import matplotlib.pyplot as plt\n",
    "import statsmodels.api as sm\n",
    "import statsmodels.formula.api as smf\n",
    "import sklearn\n",
    "import scipy \n",
    "from scipy.stats import nbinom\n",
    "import seaborn as sns\n",
    "\n",
    "%matplotlib inline"
   ]
  },
  {
   "cell_type": "code",
   "execution_count": 2,
   "metadata": {},
   "outputs": [],
   "source": [
    "# higher ed data\n",
    "cned = pd.read_csv('../data/cned.csv')\n",
    "cned.dropna(inplace=True)\n"
   ]
  },
  {
   "cell_type": "code",
   "execution_count": 3,
   "metadata": {},
   "outputs": [
    {
     "data": {
      "text/html": [
       "<div>\n",
       "<style scoped>\n",
       "    .dataframe tbody tr th:only-of-type {\n",
       "        vertical-align: middle;\n",
       "    }\n",
       "\n",
       "    .dataframe tbody tr th {\n",
       "        vertical-align: top;\n",
       "    }\n",
       "\n",
       "    .dataframe thead th {\n",
       "        text-align: right;\n",
       "    }\n",
       "</style>\n",
       "<table border=\"1\" class=\"dataframe\">\n",
       "  <thead>\n",
       "    <tr style=\"text-align: right;\">\n",
       "      <th></th>\n",
       "      <th>region</th>\n",
       "      <th>idc</th>\n",
       "      <th>puntaje</th>\n",
       "      <th>nem</th>\n",
       "      <th>ingreso2</th>\n",
       "      <th>vacantes</th>\n",
       "      <th>ingreso</th>\n",
       "      <th>year</th>\n",
       "      <th>stem</th>\n",
       "      <th>area</th>\n",
       "    </tr>\n",
       "  </thead>\n",
       "  <tbody>\n",
       "    <tr>\n",
       "      <th>0</th>\n",
       "      <td>7</td>\n",
       "      <td>7404</td>\n",
       "      <td>713.0</td>\n",
       "      <td>645.0</td>\n",
       "      <td>26.0</td>\n",
       "      <td>38.0</td>\n",
       "      <td>138</td>\n",
       "      <td>2019</td>\n",
       "      <td>0</td>\n",
       "      <td>Art/Humanities</td>\n",
       "    </tr>\n",
       "    <tr>\n",
       "      <th>1</th>\n",
       "      <td>7</td>\n",
       "      <td>7405</td>\n",
       "      <td>643.0</td>\n",
       "      <td>637.0</td>\n",
       "      <td>28.0</td>\n",
       "      <td>39.0</td>\n",
       "      <td>104</td>\n",
       "      <td>2019</td>\n",
       "      <td>0</td>\n",
       "      <td>Art/Humanities</td>\n",
       "    </tr>\n",
       "    <tr>\n",
       "      <th>2</th>\n",
       "      <td>7</td>\n",
       "      <td>7402</td>\n",
       "      <td>674.0</td>\n",
       "      <td>692.0</td>\n",
       "      <td>278.0</td>\n",
       "      <td>314.0</td>\n",
       "      <td>1318</td>\n",
       "      <td>2019</td>\n",
       "      <td>0</td>\n",
       "      <td>Art/Humanities</td>\n",
       "    </tr>\n",
       "    <tr>\n",
       "      <th>3</th>\n",
       "      <td>7</td>\n",
       "      <td>7406</td>\n",
       "      <td>663.0</td>\n",
       "      <td>655.0</td>\n",
       "      <td>79.0</td>\n",
       "      <td>103.0</td>\n",
       "      <td>438</td>\n",
       "      <td>2019</td>\n",
       "      <td>0</td>\n",
       "      <td>Art/Humanities</td>\n",
       "    </tr>\n",
       "    <tr>\n",
       "      <th>4</th>\n",
       "      <td>7</td>\n",
       "      <td>7408</td>\n",
       "      <td>642.0</td>\n",
       "      <td>610.0</td>\n",
       "      <td>41.0</td>\n",
       "      <td>59.0</td>\n",
       "      <td>148</td>\n",
       "      <td>2019</td>\n",
       "      <td>0</td>\n",
       "      <td>Art/Humanities</td>\n",
       "    </tr>\n",
       "  </tbody>\n",
       "</table>\n",
       "</div>"
      ],
      "text/plain": [
       "   region   idc  puntaje    nem  ingreso2  vacantes  ingreso  year  stem  \\\n",
       "0       7  7404    713.0  645.0      26.0      38.0      138  2019     0   \n",
       "1       7  7405    643.0  637.0      28.0      39.0      104  2019     0   \n",
       "2       7  7402    674.0  692.0     278.0     314.0     1318  2019     0   \n",
       "3       7  7406    663.0  655.0      79.0     103.0      438  2019     0   \n",
       "4       7  7408    642.0  610.0      41.0      59.0      148  2019     0   \n",
       "\n",
       "             area  \n",
       "0  Art/Humanities  \n",
       "1  Art/Humanities  \n",
       "2  Art/Humanities  \n",
       "3  Art/Humanities  \n",
       "4  Art/Humanities  "
      ]
     },
     "execution_count": 3,
     "metadata": {},
     "output_type": "execute_result"
    }
   ],
   "source": [
    "cned.reset_index(drop=True, inplace=True)\n",
    "cned.head()"
   ]
  },
  {
   "cell_type": "code",
   "execution_count": 6,
   "metadata": {},
   "outputs": [
    {
     "data": {
      "text/plain": [
       "<matplotlib.collections.PathCollection at 0x1fc5b0d9d48>"
      ]
     },
     "execution_count": 6,
     "metadata": {},
     "output_type": "execute_result"
    },
    {
     "data": {
      "image/png": "[encoded data removed]",
      "text/plain": [
       "<Figure size 432x288 with 1 Axes>"
      ]
     },
     "metadata": {
      "needs_background": "light"
     },
     "output_type": "display_data"
    }
   ],
   "source": [
    "plt.scatter(cned['nem'],cned['ingreso'])"
   ]
  },
  {
   "cell_type": "markdown",
   "metadata": {},
   "source": [
    "### OLS\n",
    "\n",
    "We can use statsmodels to estimate a simple OLS regression (linear probability model). "
   ]
  },
  {
   "cell_type": "code",
   "execution_count": 10,
   "metadata": {},
   "outputs": [
    {
     "name": "stdout",
     "output_type": "stream",
     "text": [
      "                            OLS Regression Results                            \n",
      "==============================================================================\n",
      "Dep. Variable:                   stem   R-squared:                       0.002\n",
      "Model:                            OLS   Adj. R-squared:                  0.002\n",
      "Method:                 Least Squares   F-statistic:                     5.016\n",
      "Date:                Wed, 31 Aug 2022   Prob (F-statistic):           0.000490\n",
      "Time:                        14:47:41   Log-Likelihood:                -5919.4\n",
      "No. Observations:                9065   AIC:                         1.185e+04\n",
      "Df Residuals:                    9060   BIC:                         1.188e+04\n",
      "Df Model:                           4                                         \n",
      "Covariance Type:            nonrobust                                         \n",
      "==============================================================================\n",
      "                 coef    std err          t      P>|t|      [0.025      0.975]\n",
      "------------------------------------------------------------------------------\n",
      "const          9.9501      4.999      1.990      0.047       0.151      19.749\n",
      "puntaje        0.0003      0.000      1.600      0.110   -7.38e-05       0.001\n",
      "nem           -0.0002      0.000     -1.289      0.198      -0.001       0.000\n",
      "vacantes      -0.0004      0.000     -3.732      0.000      -0.001      -0.000\n",
      "year          -0.0048      0.002     -1.934      0.053      -0.010    6.47e-05\n",
      "==============================================================================\n",
      "Omnibus:                   107523.746   Durbin-Watson:                   0.003\n",
      "Prob(Omnibus):                  0.000   Jarque-Bera (JB):             1641.860\n",
      "Skew:                           0.782   Prob(JB):                         0.00\n",
      "Kurtosis:                       1.622   Cond. No.                     2.23e+06\n",
      "==============================================================================\n",
      "\n",
      "Notes:\n",
      "[1] Standard Errors assume that the covariance matrix of the errors is correctly specified.\n",
      "[2] The condition number is large, 2.23e+06. This might indicate that there are\n",
      "strong multicollinearity or other numerical problems.\n"
     ]
    }
   ],
   "source": [
    "y=cned['stem']\n",
    "X=cned[['puntaje','nem','vacantes','year']]\n",
    "X=sm.add_constant(X)\n",
    "model = sm.OLS(y, X)\n",
    "results = model.fit()\n",
    "print(results.summary())"
   ]
  },
  {
   "cell_type": "markdown",
   "metadata": {},
   "source": [
    "### Probit\n",
    "\n"
   ]
  },
  {
   "cell_type": "code",
   "execution_count": 11,
   "metadata": {},
   "outputs": [
    {
     "name": "stdout",
     "output_type": "stream",
     "text": [
      "Optimization terminated successfully.\n",
      "         Current function value: 0.623654\n",
      "         Iterations 5\n",
      "                          Probit Regression Results                           \n",
      "==============================================================================\n",
      "Dep. Variable:                   stem   No. Observations:                 9065\n",
      "Model:                         Probit   Df Residuals:                     9060\n",
      "Method:                           MLE   Df Model:                            4\n",
      "Date:                Thu, 21 Jul 2022   Pseudo R-squ.:                0.001818\n",
      "Time:                        22:34:51   Log-Likelihood:                -5653.4\n",
      "converged:                       True   LL-Null:                       -5663.7\n",
      "Covariance Type:            nonrobust   LLR p-value:                 0.0003804\n",
      "==============================================================================\n",
      "                 coef    std err          z      P>|z|      [0.025      0.975]\n",
      "------------------------------------------------------------------------------\n",
      "const         26.6035     14.039      1.895      0.058      -0.912      54.119\n",
      "puntaje        0.0010      0.001      1.646      0.100      -0.000       0.002\n",
      "nem           -0.0007      0.001     -1.321      0.187      -0.002       0.000\n",
      "vacantes      -0.0013      0.000     -3.763      0.000      -0.002      -0.001\n",
      "year          -0.0135      0.007     -1.936      0.053      -0.027       0.000\n",
      "==============================================================================\n",
      "       Probit Marginal Effects       \n",
      "=====================================\n",
      "Dep. Variable:                   stem\n",
      "Method:                          dydx\n",
      "At:                           overall\n",
      "==============================================================================\n",
      "                dy/dx    std err          z      P>|z|      [0.025      0.975]\n",
      "------------------------------------------------------------------------------\n",
      "puntaje        0.0003      0.000      1.647      0.100    -6.5e-05       0.001\n",
      "nem           -0.0002      0.000     -1.321      0.186      -0.001       0.000\n",
      "vacantes      -0.0005      0.000     -3.771      0.000      -0.001      -0.000\n",
      "year          -0.0048      0.002     -1.938      0.053      -0.010    5.55e-05\n",
      "==============================================================================\n"
     ]
    }
   ],
   "source": [
    "model = sm.Probit(y, X)\n",
    "probit_model = model.fit()\n",
    "print(probit_model.summary())\n",
    "\n",
    "mfx = probit_model.get_margeff()\n",
    "print(mfx.summary())"
   ]
  },
  {
   "cell_type": "markdown",
   "metadata": {},
   "source": [
    "### Logit"
   ]
  },
  {
   "cell_type": "code",
   "execution_count": 12,
   "metadata": {},
   "outputs": [
    {
     "name": "stdout",
     "output_type": "stream",
     "text": [
      "Optimization terminated successfully.\n",
      "         Current function value: 0.623656\n",
      "         Iterations 6\n",
      "                           Logit Regression Results                           \n",
      "==============================================================================\n",
      "Dep. Variable:                   stem   No. Observations:                 9065\n",
      "Model:                          Logit   Df Residuals:                     9060\n",
      "Method:                           MLE   Df Model:                            4\n",
      "Date:                Thu, 21 Jul 2022   Pseudo R-squ.:                0.001816\n",
      "Time:                        22:34:57   Log-Likelihood:                -5653.4\n",
      "converged:                       True   LL-Null:                       -5663.7\n",
      "Covariance Type:            nonrobust   LLR p-value:                 0.0003859\n",
      "==============================================================================\n",
      "                 coef    std err          z      P>|z|      [0.025      0.975]\n",
      "------------------------------------------------------------------------------\n",
      "const         43.8868     23.134      1.897      0.058      -1.455      89.229\n",
      "puntaje        0.0015      0.001      1.602      0.109      -0.000       0.003\n",
      "nem           -0.0010      0.001     -1.278      0.201      -0.003       0.001\n",
      "vacantes      -0.0021      0.001     -3.712      0.000      -0.003      -0.001\n",
      "year          -0.0222      0.011     -1.937      0.053      -0.045       0.000\n",
      "==============================================================================\n",
      "        Logit Marginal Effects       \n",
      "=====================================\n",
      "Dep. Variable:                   stem\n",
      "Method:                          dydx\n",
      "At:                           overall\n",
      "==============================================================================\n",
      "                dy/dx    std err          z      P>|z|      [0.025      0.975]\n",
      "------------------------------------------------------------------------------\n",
      "puntaje        0.0003      0.000      1.603      0.109   -7.27e-05       0.001\n",
      "nem           -0.0002      0.000     -1.279      0.201      -0.001       0.000\n",
      "vacantes      -0.0005      0.000     -3.721      0.000      -0.001      -0.000\n",
      "year          -0.0048      0.002     -1.939      0.053      -0.010    5.29e-05\n",
      "==============================================================================\n"
     ]
    }
   ],
   "source": [
    "model = sm.Logit(y, X)\n",
    "logit_model = model.fit()\n",
    "print(logit_model.summary())\n",
    "\n",
    "mfx = logit_model.get_margeff()\n",
    "print(mfx.summary())"
   ]
  },
  {
   "cell_type": "markdown",
   "metadata": {},
   "source": [
    "### Poisson"
   ]
  },
  {
   "cell_type": "code",
   "execution_count": 6,
   "metadata": {},
   "outputs": [
    {
     "data": {
      "text/plain": [
       "0    138\n",
       "1    104\n",
       "3    438\n",
       "4    148\n",
       "5    383\n",
       "Name: ingreso, dtype: int64"
      ]
     },
     "execution_count": 6,
     "metadata": {},
     "output_type": "execute_result"
    },
    {
     "data": {
      "image/png": "[encoded data removed]",
      "text/plain": [
       "<Figure size 640x480 with 1 Axes>"
      ]
     },
     "metadata": {},
     "output_type": "display_data"
    }
   ],
   "source": [
    "subset=cned.loc[cned['ingreso']<500]\n",
    "y=subset['ingreso']\n",
    "X=subset[['puntaje','nem','vacantes','year']]\n",
    "plt.hist(subset.ingreso)\n",
    "subset.ingreso.head()"
   ]
  },
  {
   "cell_type": "code",
   "execution_count": 7,
   "metadata": {},
   "outputs": [
    {
     "name": "stdout",
     "output_type": "stream",
     "text": [
      "                 Generalized Linear Model Regression Results                  \n",
      "==============================================================================\n",
      "Dep. Variable:                ingreso   No. Observations:                 8041\n",
      "Model:                            GLM   Df Residuals:                     8037\n",
      "Model Family:                 Poisson   Df Model:                            3\n",
      "Link Function:                    Log   Scale:                          1.0000\n",
      "Method:                          IRLS   Log-Likelihood:            -2.0395e+05\n",
      "Date:                Mon, 26 Sep 2022   Deviance:                   3.5249e+05\n",
      "Time:                        10:16:58   Pearson chi2:                 3.16e+05\n",
      "No. Iterations:                     6   Pseudo R-squ. (CS):              1.000\n",
      "Covariance Type:            nonrobust                                         \n",
      "==============================================================================\n",
      "                 coef    std err          z      P>|z|      [0.025      0.975]\n",
      "------------------------------------------------------------------------------\n",
      "puntaje        0.0002   3.49e-05      5.285      0.000       0.000       0.000\n",
      "nem            0.0031   3.05e-05    100.611      0.000       0.003       0.003\n",
      "vacantes       0.0111   2.13e-05    518.682      0.000       0.011       0.011\n",
      "year           0.0014      4e-06    348.067      0.000       0.001       0.001\n",
      "==============================================================================\n"
     ]
    }
   ],
   "source": [
    "poisson=sm.GLM(y,X,family=sm.families.Poisson()).fit()\n",
    "print(poisson.summary())"
   ]
  },
  {
   "cell_type": "code",
   "execution_count": 8,
   "metadata": {},
   "outputs": [
    {
     "name": "stdout",
     "output_type": "stream",
     "text": [
      "fitted lambda\n",
      "[208.98645684 203.53777853 438.06479834 ...  81.22697075  96.58979789\n",
      "  95.13085338]\n"
     ]
    }
   ],
   "source": [
    "print(\"fitted lambda\")\n",
    "print(poisson.mu)"
   ]
  },
  {
   "cell_type": "markdown",
   "metadata": {},
   "source": [
    "### Negative Binomial"
   ]
  },
  {
   "cell_type": "code",
   "execution_count": 10,
   "metadata": {},
   "outputs": [
    {
     "name": "stdout",
     "output_type": "stream",
     "text": [
      "                 Generalized Linear Model Regression Results                  \n",
      "==============================================================================\n",
      "Dep. Variable:                ingreso   No. Observations:                 8041\n",
      "Model:                            GLM   Df Residuals:                     8037\n",
      "Model Family:        NegativeBinomial   Df Model:                            3\n",
      "Link Function:                    Log   Scale:                          1.0000\n",
      "Method:                          IRLS   Log-Likelihood:                -49790.\n",
      "Date:                Mon, 26 Sep 2022   Deviance:                       2200.2\n",
      "Time:                        10:49:21   Pearson chi2:                 1.56e+03\n",
      "No. Iterations:                    12   Pseudo R-squ. (CS):             0.2119\n",
      "Covariance Type:            nonrobust                                         \n",
      "==============================================================================\n",
      "                 coef    std err          z      P>|z|      [0.025      0.975]\n",
      "------------------------------------------------------------------------------\n",
      "puntaje        0.0002      0.000      0.355      0.723      -0.001       0.001\n",
      "nem            0.0030      0.000      7.527      0.000       0.002       0.004\n",
      "vacantes       0.0184      0.000     43.479      0.000       0.018       0.019\n",
      "year           0.0012   5.85e-05     20.824      0.000       0.001       0.001\n",
      "==============================================================================\n"
     ]
    }
   ],
   "source": [
    "negbin=sm.GLM(y,X,family=sm.families.NegativeBinomial()).fit()\n",
    "print(negbin.summary())"
   ]
  },
  {
   "cell_type": "code",
   "execution_count": 10,
   "metadata": {},
   "outputs": [
    {
     "name": "stdout",
     "output_type": "stream",
     "text": [
      "fitted lambda\n",
      "[124.73205222 121.41207007 154.07280363 ...  68.35326312  73.99860129\n",
      "  71.20441307]\n"
     ]
    }
   ],
   "source": [
    "print(\"fitted lambda\")\n",
    "print(negbin.mu)"
   ]
  },
  {
   "cell_type": "markdown",
   "metadata": {},
   "source": [
    "### Test overdispersion\n",
    "\n",
    "A simple test for overdispersion can be determined with the results of the Poisson model, using the ratio of Pearson chi2 / Df Residuals. A value larger than 1 indicates overdispersion. In the case above (6), data suggets overdispersion.\n",
    "\n",
    "The Negative Binomial model estimated above is using a value of $\\theta$ (or $\\alpha=1/\\theta$) equal to 1. In order to determine the appropiate value of $\\alpha$, you can estimate a simple regression using the output of the Poisson model:\n",
    "\n",
    "1. Construct the following variable aux=$[(y-\\lambda)^2-\\lambda]/\\lambda$\n",
    "2. Regress the variable aux with $\\lambda$ as the only explanatory variable (no constant)\n",
    "3. The estimated value is an appropiate guess for $\\alpha=1/\\theta$\n",
    "\n",
    "In the model of the previous section, just use the options on sm.families.NegativeBinomial, in order to manually enter the value of alpha. See example below."
   ]
  },
  {
   "cell_type": "code",
   "execution_count": 9,
   "metadata": {},
   "outputs": [
    {
     "name": "stdout",
     "output_type": "stream",
     "text": [
      "                                 OLS Regression Results                                \n",
      "=======================================================================================\n",
      "Dep. Variable:                ingreso   R-squared (uncentered):                   0.396\n",
      "Model:                            OLS   Adj. R-squared (uncentered):              0.396\n",
      "Method:                 Least Squares   F-statistic:                              5275.\n",
      "Date:                Mon, 26 Sep 2022   Prob (F-statistic):                        0.00\n",
      "Time:                        10:17:03   Log-Likelihood:                         -44571.\n",
      "No. Observations:                8041   AIC:                                  8.914e+04\n",
      "Df Residuals:                    8040   BIC:                                  8.915e+04\n",
      "Df Model:                           1                                                  \n",
      "Covariance Type:            nonrobust                                                  \n",
      "==============================================================================\n",
      "                 coef    std err          t      P>|t|      [0.025      0.975]\n",
      "------------------------------------------------------------------------------\n",
      "x1             0.2208      0.003     72.631      0.000       0.215       0.227\n",
      "==============================================================================\n",
      "Omnibus:                    10267.981   Durbin-Watson:                   1.652\n",
      "Prob(Omnibus):                  0.000   Jarque-Bera (JB):          4810468.508\n",
      "Skew:                           6.647   Prob(JB):                         0.00\n",
      "Kurtosis:                     122.084   Cond. No.                         1.00\n",
      "==============================================================================\n",
      "\n",
      "Notes:\n",
      "[1] R² is computed without centering (uncentered) since the model does not contain a constant.\n",
      "[2] Standard Errors assume that the covariance matrix of the errors is correctly specified.\n"
     ]
    }
   ],
   "source": [
    "aux=((y-poisson.mu)**2-poisson.mu)/poisson.mu\n",
    "auxr=sm.OLS(aux,poisson.mu).fit()\n",
    "print(auxr.summary())"
   ]
  },
  {
   "cell_type": "code",
   "execution_count": 29,
   "metadata": {},
   "outputs": [
    {
     "name": "stdout",
     "output_type": "stream",
     "text": [
      "                 Generalized Linear Model Regression Results                  \n",
      "==============================================================================\n",
      "Dep. Variable:                ingreso   No. Observations:                 8041\n",
      "Model:                            GLM   Df Residuals:                     8037\n",
      "Model Family:        NegativeBinomial   Df Model:                            3\n",
      "Link Function:                    Log   Scale:                          1.0000\n",
      "Method:                          IRLS   Log-Likelihood:                -47029.\n",
      "Date:                Thu, 08 Sep 2022   Deviance:                       9596.2\n",
      "Time:                        21:53:44   Pearson chi2:                 6.89e+03\n",
      "No. Iterations:                    13   Pseudo R-squ. (CS):             0.6530\n",
      "Covariance Type:            nonrobust                                         \n",
      "==============================================================================\n",
      "                 coef    std err          z      P>|z|      [0.025      0.975]\n",
      "------------------------------------------------------------------------------\n",
      "puntaje        0.0001      0.000      0.649      0.516      -0.000       0.001\n",
      "nem            0.0030      0.000     15.906      0.000       0.003       0.003\n",
      "vacantes       0.0183      0.000     91.448      0.000       0.018       0.019\n",
      "year           0.0012   2.78e-05     44.007      0.000       0.001       0.001\n",
      "==============================================================================\n"
     ]
    }
   ],
   "source": [
    "negbin=sm.GLM(y,X,family=sm.families.NegativeBinomial(alpha=0.22)).fit()\n",
    "print(negbin.summary())"
   ]
  },
  {
   "cell_type": "markdown",
   "metadata": {},
   "source": [
    "<font size=\"3\">**Tarea 1**</font>\n",
    "\n",
    "<u> *Instrucciones* </u>\n",
    "\n",
    "Los resultados de los ejericicios propuestos se deben entregar como un notebook por correo electronico a *juancaros@udec.cl* a mas tardar el dia 11/04/23 hasta las 21:00. \n",
    "\n",
    "Es importante considerar que el código debe poder ejecutarse en cualquier computadora con la data original del repositorio. Recordar la convencion para el nombre de archivo ademas de incluir en su documento titulos y encabezados por seccion. La data a utilizar es **charls2.csv**.\n",
    "\n",
    "Las variables tienen la siguiente descripcion:\n",
    "\n",
    "- retin: 1 si planea planea retirarse\n",
    "- retage: cuando planea retirarse, medido en años desde la fecha de encuesta (0 implica retirado/a o no planea retirarse)\n",
    "- cesd: puntaje en la escala de salud mental (0-30)\n",
    "- child: numero de hijos\n",
    "- drinly: bebio el ultimo mes (binario)\n",
    "- hrsusu: horas promedio trabajo diario\n",
    "- hsize: tamano del hogar\n",
    "- female: 1 si es mujer, 0 si es hombre\n",
    "- intmonth: mes en que fue encuestado/a (1-12)\n",
    "- married: si esta casado/a (binario)\n",
    "- retired: 1 si esta retirado/a (binario)\n",
    "- schadj: años de escolaridad\n",
    "- urban: zona urbana (binario)\n",
    "- wealth: riqueza neta (miles RMB)\n",
    "- age: edad al entrar a la encuesta\n",
    "\n",
    "\n",
    "Preguntas:\n",
    "\n"
   ]
  },
  {
   "cell_type": "markdown",
   "metadata": {},
   "source": [
    "1. Cargar la base de datos *charls2.csv* en el ambiente. Identifique los tipos de datos que se encuentran en la base, realice estadisticas descriptivas sobre las variables importantes (Hint: Revisar la distribuciones, datos faltantes, outliers, etc.) y limpie las variables cuando sea necesario. \n",
    "\n",
    "**R:**  Se ajusto drinkly como variable numerica y se paso wealth a logs, ademas de agregar una variable que indica cuando wealth no existe, dwealth (se podria haber hecho lo mismo con cesd). En general solo se ven valores extremos en wealth, pero no amerita clasificarlos como outliers."
   ]
  },
  {
   "cell_type": "code",
   "execution_count": 100,
   "metadata": {},
   "outputs": [
    {
     "data": {
      "text/html": [
       "<div>\n",
       "<style scoped>\n",
       "    .dataframe tbody tr th:only-of-type {\n",
       "        vertical-align: middle;\n",
       "    }\n",
       "\n",
       "    .dataframe tbody tr th {\n",
       "        vertical-align: top;\n",
       "    }\n",
       "\n",
       "    .dataframe thead th {\n",
       "        text-align: right;\n",
       "    }\n",
       "</style>\n",
       "<table border=\"1\" class=\"dataframe\">\n",
       "  <thead>\n",
       "    <tr style=\"text-align: right;\">\n",
       "      <th></th>\n",
       "      <th>age</th>\n",
       "      <th>cesd</th>\n",
       "      <th>child</th>\n",
       "      <th>drinkly</th>\n",
       "      <th>female</th>\n",
       "      <th>hrsusu</th>\n",
       "      <th>hsize</th>\n",
       "      <th>intmonth</th>\n",
       "      <th>married</th>\n",
       "      <th>retage</th>\n",
       "      <th>retin</th>\n",
       "      <th>retired</th>\n",
       "      <th>schadj</th>\n",
       "      <th>urban</th>\n",
       "      <th>wealth</th>\n",
       "      <th>dwealth</th>\n",
       "      <th>lwealth</th>\n",
       "    </tr>\n",
       "  </thead>\n",
       "  <tbody>\n",
       "    <tr>\n",
       "      <th>count</th>\n",
       "      <td>9456.000000</td>\n",
       "      <td>8802.000000</td>\n",
       "      <td>9456.000000</td>\n",
       "      <td>9418.000000</td>\n",
       "      <td>9456.000000</td>\n",
       "      <td>9456.000000</td>\n",
       "      <td>9456.000000</td>\n",
       "      <td>9456.000000</td>\n",
       "      <td>9456.000000</td>\n",
       "      <td>9456.000000</td>\n",
       "      <td>9456.000000</td>\n",
       "      <td>9456.000000</td>\n",
       "      <td>9456.000000</td>\n",
       "      <td>9456.000000</td>\n",
       "      <td>8590.000000</td>\n",
       "      <td>9456.000000</td>\n",
       "      <td>9456.000000</td>\n",
       "    </tr>\n",
       "    <tr>\n",
       "      <th>mean</th>\n",
       "      <td>58.087035</td>\n",
       "      <td>9.034992</td>\n",
       "      <td>2.751586</td>\n",
       "      <td>0.334678</td>\n",
       "      <td>0.525275</td>\n",
       "      <td>2.552777</td>\n",
       "      <td>3.758249</td>\n",
       "      <td>7.495347</td>\n",
       "      <td>0.885364</td>\n",
       "      <td>1.390969</td>\n",
       "      <td>0.152602</td>\n",
       "      <td>0.183376</td>\n",
       "      <td>4.100888</td>\n",
       "      <td>0.213832</td>\n",
       "      <td>0.013671</td>\n",
       "      <td>0.091582</td>\n",
       "      <td>2.100429</td>\n",
       "    </tr>\n",
       "    <tr>\n",
       "      <th>std</th>\n",
       "      <td>9.462629</td>\n",
       "      <td>6.462808</td>\n",
       "      <td>1.400139</td>\n",
       "      <td>0.471903</td>\n",
       "      <td>0.499387</td>\n",
       "      <td>1.802885</td>\n",
       "      <td>1.823791</td>\n",
       "      <td>1.009306</td>\n",
       "      <td>0.318599</td>\n",
       "      <td>4.102102</td>\n",
       "      <td>0.359622</td>\n",
       "      <td>0.386995</td>\n",
       "      <td>3.574570</td>\n",
       "      <td>0.410032</td>\n",
       "      <td>0.431023</td>\n",
       "      <td>0.288450</td>\n",
       "      <td>0.671585</td>\n",
       "    </tr>\n",
       "    <tr>\n",
       "      <th>min</th>\n",
       "      <td>21.000000</td>\n",
       "      <td>0.000000</td>\n",
       "      <td>0.000000</td>\n",
       "      <td>0.000000</td>\n",
       "      <td>0.000000</td>\n",
       "      <td>0.000000</td>\n",
       "      <td>1.000000</td>\n",
       "      <td>1.000000</td>\n",
       "      <td>0.000000</td>\n",
       "      <td>0.000000</td>\n",
       "      <td>0.000000</td>\n",
       "      <td>0.000000</td>\n",
       "      <td>0.000000</td>\n",
       "      <td>0.000000</td>\n",
       "      <td>-10.000000</td>\n",
       "      <td>0.000000</td>\n",
       "      <td>-2.302585</td>\n",
       "    </tr>\n",
       "    <tr>\n",
       "      <th>25%</th>\n",
       "      <td>50.000000</td>\n",
       "      <td>4.000000</td>\n",
       "      <td>2.000000</td>\n",
       "      <td>0.000000</td>\n",
       "      <td>0.000000</td>\n",
       "      <td>0.000000</td>\n",
       "      <td>2.000000</td>\n",
       "      <td>7.000000</td>\n",
       "      <td>1.000000</td>\n",
       "      <td>0.000000</td>\n",
       "      <td>0.000000</td>\n",
       "      <td>0.000000</td>\n",
       "      <td>0.000000</td>\n",
       "      <td>0.000000</td>\n",
       "      <td>0.000000</td>\n",
       "      <td>0.000000</td>\n",
       "      <td>2.312535</td>\n",
       "    </tr>\n",
       "    <tr>\n",
       "      <th>50%</th>\n",
       "      <td>57.000000</td>\n",
       "      <td>8.000000</td>\n",
       "      <td>2.000000</td>\n",
       "      <td>0.000000</td>\n",
       "      <td>1.000000</td>\n",
       "      <td>3.555348</td>\n",
       "      <td>3.000000</td>\n",
       "      <td>7.000000</td>\n",
       "      <td>1.000000</td>\n",
       "      <td>0.000000</td>\n",
       "      <td>0.000000</td>\n",
       "      <td>0.000000</td>\n",
       "      <td>4.000000</td>\n",
       "      <td>0.000000</td>\n",
       "      <td>0.004000</td>\n",
       "      <td>0.000000</td>\n",
       "      <td>2.312832</td>\n",
       "    </tr>\n",
       "    <tr>\n",
       "      <th>75%</th>\n",
       "      <td>64.000000</td>\n",
       "      <td>13.000000</td>\n",
       "      <td>3.000000</td>\n",
       "      <td>1.000000</td>\n",
       "      <td>1.000000</td>\n",
       "      <td>4.025352</td>\n",
       "      <td>5.000000</td>\n",
       "      <td>8.000000</td>\n",
       "      <td>1.000000</td>\n",
       "      <td>0.000000</td>\n",
       "      <td>0.000000</td>\n",
       "      <td>0.000000</td>\n",
       "      <td>8.000000</td>\n",
       "      <td>0.000000</td>\n",
       "      <td>0.021875</td>\n",
       "      <td>0.000000</td>\n",
       "      <td>2.314514</td>\n",
       "    </tr>\n",
       "    <tr>\n",
       "      <th>max</th>\n",
       "      <td>100.000000</td>\n",
       "      <td>30.000000</td>\n",
       "      <td>10.000000</td>\n",
       "      <td>1.000000</td>\n",
       "      <td>1.000000</td>\n",
       "      <td>5.123964</td>\n",
       "      <td>16.000000</td>\n",
       "      <td>12.000000</td>\n",
       "      <td>1.000000</td>\n",
       "      <td>37.000000</td>\n",
       "      <td>1.000000</td>\n",
       "      <td>1.000000</td>\n",
       "      <td>16.000000</td>\n",
       "      <td>1.000000</td>\n",
       "      <td>9.001000</td>\n",
       "      <td>1.000000</td>\n",
       "      <td>2.949741</td>\n",
       "    </tr>\n",
       "  </tbody>\n",
       "</table>\n",
       "</div>"
      ],
      "text/plain": [
       "               age         cesd        child      drinkly       female  \\\n",
       "count  9456.000000  8802.000000  9456.000000  9418.000000  9456.000000   \n",
       "mean     58.087035     9.034992     2.751586     0.334678     0.525275   \n",
       "std       9.462629     6.462808     1.400139     0.471903     0.499387   \n",
       "min      21.000000     0.000000     0.000000     0.000000     0.000000   \n",
       "25%      50.000000     4.000000     2.000000     0.000000     0.000000   \n",
       "50%      57.000000     8.000000     2.000000     0.000000     1.000000   \n",
       "75%      64.000000    13.000000     3.000000     1.000000     1.000000   \n",
       "max     100.000000    30.000000    10.000000     1.000000     1.000000   \n",
       "\n",
       "            hrsusu        hsize     intmonth      married       retage  \\\n",
       "count  9456.000000  9456.000000  9456.000000  9456.000000  9456.000000   \n",
       "mean      2.552777     3.758249     7.495347     0.885364     1.390969   \n",
       "std       1.802885     1.823791     1.009306     0.318599     4.102102   \n",
       "min       0.000000     1.000000     1.000000     0.000000     0.000000   \n",
       "25%       0.000000     2.000000     7.000000     1.000000     0.000000   \n",
       "50%       3.555348     3.000000     7.000000     1.000000     0.000000   \n",
       "75%       4.025352     5.000000     8.000000     1.000000     0.000000   \n",
       "max       5.123964    16.000000    12.000000     1.000000    37.000000   \n",
       "\n",
       "             retin      retired       schadj        urban       wealth  \\\n",
       "count  9456.000000  9456.000000  9456.000000  9456.000000  8590.000000   \n",
       "mean      0.152602     0.183376     4.100888     0.213832     0.013671   \n",
       "std       0.359622     0.386995     3.574570     0.410032     0.431023   \n",
       "min       0.000000     0.000000     0.000000     0.000000   -10.000000   \n",
       "25%       0.000000     0.000000     0.000000     0.000000     0.000000   \n",
       "50%       0.000000     0.000000     4.000000     0.000000     0.004000   \n",
       "75%       0.000000     0.000000     8.000000     0.000000     0.021875   \n",
       "max       1.000000     1.000000    16.000000     1.000000     9.001000   \n",
       "\n",
       "           dwealth      lwealth  \n",
       "count  9456.000000  9456.000000  \n",
       "mean      0.091582     2.100429  \n",
       "std       0.288450     0.671585  \n",
       "min       0.000000    -2.302585  \n",
       "25%       0.000000     2.312535  \n",
       "50%       0.000000     2.312832  \n",
       "75%       0.000000     2.314514  \n",
       "max       1.000000     2.949741  "
      ]
     },
     "execution_count": 100,
     "metadata": {},
     "output_type": "execute_result"
    }
   ],
   "source": [
    "charls = pd.read_csv('../data/charls2.csv')\n",
    "charls = charls.replace({'.r': np.nan, '.m': np.nan, '.d': np.nan})\n",
    "charls['drinkly'] = charls['drinkly'].astype(float)\n",
    "charls['wealth']=charls['wealth']/100000\n",
    "charls['dwealth']=0\n",
    "charls.loc[charls['wealth'].isnull(), 'dwealth'] = 1\n",
    "charls['lwealth']=np.log(charls['wealth']-charls['wealth'].min()+0.1)\n",
    "charls.loc[charls['lwealth'].isnull(), 'lwealth'] = 0\n",
    "charls.reset_index(drop=True, inplace=True)\n",
    "charls.describe()"
   ]
  },
  {
   "cell_type": "code",
   "execution_count": 101,
   "metadata": {},
   "outputs": [
    {
     "data": {
      "text/plain": [
       "<Axes: >"
      ]
     },
     "execution_count": 101,
     "metadata": {},
     "output_type": "execute_result"
    },
    {
     "data": {
      "image/png": "[encoded data removed]",
      "text/plain": [
       "<Figure size 640x480 with 1 Axes>"
      ]
     },
     "metadata": {},
     "output_type": "display_data"
    }
   ],
   "source": [
    "sns.boxplot(data=charls, orient='h')"
   ]
  },
  {
   "cell_type": "markdown",
   "metadata": {},
   "source": [
    "\n",
    "2. Ejecute un modelo de probabilidad lineal (*MCO*) que permita explicar la probabilidad de que una persona que aun trabaja quiera retirarse (*retin*). Seleccione las variables dependientes a incluir en el modelo final e interprete su significado. \n",
    "\n",
    "**R:** Se excluye intmonth por ser irrelevante, y se excluyen aquellas observaciones que no tienen valor en wealth (al tratar de agregarlas con una variable dummy dwealth, se encuentra el mismo resultado, por lo cual no aportan al analisis). En vista de lo estimado, Aspectos socioeconomicos y de genero influyen en la probabilidad de querer retirarse (condicional en estar trabajando). Por ejemplo, mujeres tienen 4% menor probabilidad de querer retirarse, y la probabilidad incrementa en 0,78% por año de escolaridad. Otros aspectos demograficos no son relevantes, sin embargo aquellos que declaran beber en el mes pasado tambien son mas probables de querer retirarse (2,3%). "
   ]
  },
  {
   "cell_type": "code",
   "execution_count": 102,
   "metadata": {},
   "outputs": [
    {
     "name": "stdout",
     "output_type": "stream",
     "text": [
      "                            OLS Regression Results                            \n",
      "==============================================================================\n",
      "Dep. Variable:                  retin   R-squared:                       0.019\n",
      "Model:                            OLS   Adj. R-squared:                  0.017\n",
      "Method:                 Least Squares   F-statistic:                     12.25\n",
      "Date:                Mon, 24 Apr 2023   Prob (F-statistic):           3.33e-23\n",
      "Time:                        12:33:26   Log-Likelihood:                -3541.6\n",
      "No. Observations:                7194   AIC:                             7107.\n",
      "Df Residuals:                    7182   BIC:                             7190.\n",
      "Df Model:                          11                                         \n",
      "Covariance Type:                  HC0                                         \n",
      "==============================================================================\n",
      "                 coef    std err          z      P>|z|      [0.025      0.975]\n",
      "------------------------------------------------------------------------------\n",
      "const          0.1719      0.052      3.274      0.001       0.069       0.275\n",
      "age           -0.0006      0.001     -0.963      0.336      -0.002       0.001\n",
      "cesd          -0.0010      0.001     -1.420      0.156      -0.002       0.000\n",
      "child         -0.0064      0.004     -1.652      0.099      -0.014       0.001\n",
      "drinkly        0.0232      0.012      2.008      0.045       0.001       0.046\n",
      "female        -0.0386      0.012     -3.293      0.001      -0.062      -0.016\n",
      "hsize          0.0014      0.003      0.556      0.578      -0.004       0.007\n",
      "married        0.0117      0.016      0.720      0.471      -0.020       0.044\n",
      "hrsusu         0.0097      0.003      3.237      0.001       0.004       0.016\n",
      "schadj         0.0078      0.002      4.995      0.000       0.005       0.011\n",
      "urban          0.0065      0.012      0.551      0.581      -0.017       0.030\n",
      "lwealth        0.0095      0.007      1.366      0.172      -0.004       0.023\n",
      "==============================================================================\n",
      "Omnibus:                     1470.173   Durbin-Watson:                   1.489\n",
      "Prob(Omnibus):                  0.000   Jarque-Bera (JB):             2587.357\n",
      "Skew:                           1.463   Prob(JB):                         0.00\n",
      "Kurtosis:                       3.256   Cond. No.                         672.\n",
      "==============================================================================\n",
      "\n",
      "Notes:\n",
      "[1] Standard Errors are heteroscedasticity robust (HC0)\n"
     ]
    }
   ],
   "source": [
    "charls.reset_index(drop=True, inplace=True)\n",
    "X=charls[charls['retired'] == 0].reset_index(drop=True)\n",
    "X=X[['retin','age', 'cesd', 'child', 'drinkly', 'female', 'hsize','married', 'hrsusu', 'schadj', 'urban','lwealth']]\n",
    "X.dropna(inplace=True)\n",
    "y=X['retin']\n",
    "X=X[['age', 'cesd', 'child', 'drinkly', 'female', 'hsize','married', 'hrsusu', 'schadj', 'urban','lwealth']]\n",
    "X=sm.add_constant(X)\n",
    "model = sm.OLS(y, X)\n",
    "results = model.fit(cov_type='HC0')\n",
    "print(results.summary())"
   ]
  },
  {
   "cell_type": "markdown",
   "metadata": {},
   "source": [
    "3. Ejecute un modelo *probit* para responder a la pregunta 2. Seleccione las variables dependientes a incluir en el modelo final e interprete su significado. \n",
    "\n",
    "**R:** Notar que los resultados son bastante similares a OLS, aunque la precision en algunas variables es menor, como drinkly. Al mirar los efectos marginales, los resultados son arbitrariamente identicos."
   ]
  },
  {
   "cell_type": "code",
   "execution_count": 82,
   "metadata": {},
   "outputs": [
    {
     "name": "stdout",
     "output_type": "stream",
     "text": [
      "Optimization terminated successfully.\n",
      "         Current function value: 0.490314\n",
      "         Iterations 6\n",
      "                           Logit Regression Results                           \n",
      "==============================================================================\n",
      "Dep. Variable:                  retin   No. Observations:                 7194\n",
      "Model:                          Logit   Df Residuals:                     7182\n",
      "Method:                           MLE   Df Model:                           11\n",
      "Date:                Mon, 24 Apr 2023   Pseudo R-squ.:                 0.01872\n",
      "Time:                        12:22:13   Log-Likelihood:                -3527.3\n",
      "converged:                       True   LL-Null:                       -3594.6\n",
      "Covariance Type:                  HC0   LLR p-value:                 2.027e-23\n",
      "==============================================================================\n",
      "                 coef    std err          z      P>|z|      [0.025      0.975]\n",
      "------------------------------------------------------------------------------\n",
      "const         -1.5935      0.346     -4.604      0.000      -2.272      -0.915\n",
      "age           -0.0044      0.004     -1.001      0.317      -0.013       0.004\n",
      "cesd          -0.0068      0.005     -1.363      0.173      -0.016       0.003\n",
      "child         -0.0452      0.027     -1.702      0.089      -0.097       0.007\n",
      "drinkly        0.1369      0.070      1.954      0.051      -0.000       0.274\n",
      "female        -0.2539      0.075     -3.391      0.001      -0.401      -0.107\n",
      "hsize          0.0096      0.017      0.567      0.571      -0.024       0.043\n",
      "married        0.0961      0.119      0.809      0.418      -0.137       0.329\n",
      "hrsusu         0.0670      0.021      3.129      0.002       0.025       0.109\n",
      "schadj         0.0473      0.009      5.034      0.000       0.029       0.066\n",
      "urban          0.0393      0.073      0.535      0.592      -0.105       0.183\n",
      "lwealth        0.0629      0.047      1.339      0.180      -0.029       0.155\n",
      "==============================================================================\n",
      "        Logit Marginal Effects       \n",
      "=====================================\n",
      "Dep. Variable:                  retin\n",
      "Method:                          dydx\n",
      "At:                           overall\n",
      "==============================================================================\n",
      "                dy/dx    std err          z      P>|z|      [0.025      0.975]\n",
      "------------------------------------------------------------------------------\n",
      "age           -0.0007      0.001     -1.001      0.317      -0.002       0.001\n",
      "cesd          -0.0011      0.001     -1.363      0.173      -0.003       0.000\n",
      "child         -0.0071      0.004     -1.703      0.089      -0.015       0.001\n",
      "drinkly        0.0214      0.011      1.955      0.051    -5.2e-05       0.043\n",
      "female        -0.0398      0.012     -3.394      0.001      -0.063      -0.017\n",
      "hsize          0.0015      0.003      0.567      0.571      -0.004       0.007\n",
      "married        0.0151      0.019      0.809      0.418      -0.021       0.052\n",
      "hrsusu         0.0105      0.003      3.131      0.002       0.004       0.017\n",
      "schadj         0.0074      0.001      5.062      0.000       0.005       0.010\n",
      "urban          0.0062      0.011      0.535      0.592      -0.016       0.029\n",
      "lwealth        0.0099      0.007      1.339      0.181      -0.005       0.024\n",
      "==============================================================================\n"
     ]
    }
   ],
   "source": [
    "model = sm.Logit(y, X)\n",
    "results = model.fit(cov_type='HC0')\n",
    "print(results.summary())\n",
    "mfx = results.get_margeff()\n",
    "print(mfx.summary())"
   ]
  },
  {
   "cell_type": "markdown",
   "metadata": {},
   "source": [
    "4. Ejecute un modelo *logit*  para responder a la pregunta 2. Seleccione las variables dependientes a incluir en el modelo final e interprete su significado. \n",
    "\n",
    "**R:** Nuevamente hay diferencias numericas minimas entre cada modelo, pero los resultados son virtualmente identicos entre LPM, Probit y Logit."
   ]
  },
  {
   "cell_type": "code",
   "execution_count": 103,
   "metadata": {},
   "outputs": [
    {
     "name": "stdout",
     "output_type": "stream",
     "text": [
      "Optimization terminated successfully.\n",
      "         Current function value: 0.490366\n",
      "         Iterations 5\n",
      "                          Probit Regression Results                           \n",
      "==============================================================================\n",
      "Dep. Variable:                  retin   No. Observations:                 7194\n",
      "Model:                         Probit   Df Residuals:                     7182\n",
      "Method:                           MLE   Df Model:                           11\n",
      "Date:                Mon, 24 Apr 2023   Pseudo R-squ.:                 0.01862\n",
      "Time:                        12:33:51   Log-Likelihood:                -3527.7\n",
      "converged:                       True   LL-Null:                       -3594.6\n",
      "Covariance Type:                  HC0   LLR p-value:                 2.886e-23\n",
      "==============================================================================\n",
      "                 coef    std err          z      P>|z|      [0.025      0.975]\n",
      "------------------------------------------------------------------------------\n",
      "const         -0.9547      0.196     -4.880      0.000      -1.338      -0.571\n",
      "age           -0.0026      0.002     -1.056      0.291      -0.008       0.002\n",
      "cesd          -0.0037      0.003     -1.310      0.190      -0.009       0.002\n",
      "child         -0.0245      0.015     -1.633      0.103      -0.054       0.005\n",
      "drinkly        0.0796      0.040      1.985      0.047       0.001       0.158\n",
      "female        -0.1454      0.042     -3.426      0.001      -0.229      -0.062\n",
      "hsize          0.0049      0.010      0.504      0.614      -0.014       0.024\n",
      "married        0.0529      0.066      0.802      0.423      -0.076       0.182\n",
      "hrsusu         0.0383      0.012      3.167      0.002       0.015       0.062\n",
      "schadj         0.0266      0.005      4.927      0.000       0.016       0.037\n",
      "urban          0.0195      0.042      0.461      0.645      -0.063       0.102\n",
      "lwealth        0.0389      0.027      1.459      0.145      -0.013       0.091\n",
      "==============================================================================\n",
      "       Probit Marginal Effects       \n",
      "=====================================\n",
      "Dep. Variable:                  retin\n",
      "Method:                          dydx\n",
      "At:                           overall\n",
      "==============================================================================\n",
      "                dy/dx    std err          z      P>|z|      [0.025      0.975]\n",
      "------------------------------------------------------------------------------\n",
      "age           -0.0007      0.001     -1.057      0.291      -0.002       0.001\n",
      "cesd          -0.0010      0.001     -1.310      0.190      -0.003       0.001\n",
      "child         -0.0067      0.004     -1.633      0.102      -0.015       0.001\n",
      "drinkly        0.0218      0.011      1.986      0.047       0.000       0.043\n",
      "female        -0.0399      0.012     -3.430      0.001      -0.063      -0.017\n",
      "hsize          0.0013      0.003      0.504      0.614      -0.004       0.007\n",
      "married        0.0145      0.018      0.802      0.423      -0.021       0.050\n",
      "hrsusu         0.0105      0.003      3.170      0.002       0.004       0.017\n",
      "schadj         0.0073      0.001      4.948      0.000       0.004       0.010\n",
      "urban          0.0053      0.012      0.461      0.645      -0.017       0.028\n",
      "lwealth        0.0107      0.007      1.459      0.145      -0.004       0.025\n",
      "==============================================================================\n"
     ]
    }
   ],
   "source": [
    "model = sm.Probit(y, X)\n",
    "results = model.fit(cov_type='HC0')\n",
    "print(results.summary())\n",
    "mfx = results.get_margeff()\n",
    "print(mfx.summary())"
   ]
  },
  {
   "cell_type": "markdown",
   "metadata": {},
   "source": [
    "5. Comente los resultados obtenidos en 2, 3 y 4. ¿Cuáles y por qué existen las diferencias entre los resultados?. En su opinión, ¿Cuál sería el más adecuado para responder la pregunta de investgación y por qué? ¿Qué variables resultaron ser robustas a la especificación?\n",
    "\n",
    "**R**: Ante las minimas diferencias entre los distintos metodos, no hay preferencia entre Probit y Logit, pero LPM es inferior dado que producira predicciones fuera del intervalo de interes. En cualquier caso, dado que el modelo no es causal, podemos inferir que el set de variables disponibles explica una fraccion muy menor de la intencion de retirarse, y en virtud de aquello, las predicciones del modelo seran poco confiables."
   ]
  },
  {
   "cell_type": "markdown",
   "metadata": {},
   "source": [
    "6. Ejecute un modelo Poisson para explicar cuando planea retirarse las personas que planean hacerlo. Seleccione las variables dependientes a incluir en el modelo final e interprete su significado. \n",
    "\n",
    "**R**: Nos quedamos solo con aquellos que desean retirarse (retin=1), y luego usamos el mismo set de datos de las preguntas anteriores. A diferencia de la probabilidad de querer retirarse, multiples factores tienen impacto en la edad esperada de retiro, algunos obvios como edad y caracteristicas laborales, y otros menos obvios como la zona urbana y tamano del hogar. Por ejemplo, la edad esperada de retiro (en años) se reduce en 0.17 (años) si las personas viven en zona rural, y disminuye 0.05 anios por cada anio que el individuo es mayor (que el promedio)."
   ]
  },
  {
   "cell_type": "code",
   "execution_count": 110,
   "metadata": {},
   "outputs": [
    {
     "data": {
      "text/plain": [
       "count    1435.000000\n",
       "mean        9.108711\n",
       "std         6.325825\n",
       "min         1.000000\n",
       "25%         4.000000\n",
       "50%         8.000000\n",
       "75%        13.000000\n",
       "max        37.000000\n",
       "Name: retage, dtype: float64"
      ]
     },
     "execution_count": 110,
     "metadata": {},
     "output_type": "execute_result"
    },
    {
     "data": {
      "image/png": "[encoded data removed]",
      "text/plain": [
       "<Figure size 640x480 with 1 Axes>"
      ]
     },
     "metadata": {},
     "output_type": "display_data"
    }
   ],
   "source": [
    "charls.reset_index(drop=True, inplace=True)\n",
    "X=charls[charls['retired'] == 0].reset_index(drop=True)\n",
    "X=charls[charls['retin'] != 0].reset_index(drop=True)\n",
    "X=X[['retage','age', 'cesd', 'child', 'drinkly', 'female', 'hsize','married', 'hrsusu', 'schadj', 'urban','lwealth']]\n",
    "X.dropna(inplace=True)\n",
    "y=X['retage']\n",
    "X=X[['age', 'cesd', 'child', 'drinkly', 'female', 'hsize','married', 'hrsusu', 'schadj', 'urban','lwealth']]\n",
    "X=sm.add_constant(X)\n",
    "plt.hist(y)\n",
    "y.describe()"
   ]
  },
  {
   "cell_type": "code",
   "execution_count": 107,
   "metadata": {},
   "outputs": [
    {
     "name": "stdout",
     "output_type": "stream",
     "text": [
      "                 Generalized Linear Model Regression Results                  \n",
      "==============================================================================\n",
      "Dep. Variable:                 retage   No. Observations:                 1435\n",
      "Model:                            GLM   Df Residuals:                     1423\n",
      "Model Family:                 Poisson   Df Model:                           11\n",
      "Link Function:                    Log   Scale:                          1.0000\n",
      "Method:                          IRLS   Log-Likelihood:                -4816.1\n",
      "Date:                Mon, 24 Apr 2023   Deviance:                       4188.1\n",
      "Time:                        13:50:19   Pearson chi2:                 4.22e+03\n",
      "No. Iterations:                     5   Pseudo R-squ. (CS):             0.7425\n",
      "Covariance Type:            nonrobust                                         \n",
      "==============================================================================\n",
      "                 coef    std err          z      P>|z|      [0.025      0.975]\n",
      "------------------------------------------------------------------------------\n",
      "const          4.9125      0.102     48.327      0.000       4.713       5.112\n",
      "age           -0.0503      0.001    -36.603      0.000      -0.053      -0.048\n",
      "cesd          -0.0029      0.002     -1.854      0.064      -0.006       0.000\n",
      "child          0.0123      0.009      1.398      0.162      -0.005       0.030\n",
      "drinkly        0.0528      0.020      2.626      0.009       0.013       0.092\n",
      "female         0.0296      0.022      1.357      0.175      -0.013       0.072\n",
      "hsize          0.0164      0.005      3.074      0.002       0.006       0.027\n",
      "married       -0.0332      0.040     -0.830      0.407      -0.112       0.045\n",
      "hrsusu         0.0186      0.007      2.610      0.009       0.005       0.032\n",
      "schadj        -0.0028      0.003     -1.059      0.290      -0.008       0.002\n",
      "urban         -0.1706      0.023     -7.576      0.000      -0.215      -0.126\n",
      "lwealth       -0.0284      0.014     -2.082      0.037      -0.055      -0.002\n",
      "==============================================================================\n"
     ]
    }
   ],
   "source": [
    "poisson=sm.GLM(y,X,family=sm.families.Poisson()).fit()\n",
    "print(poisson.summary())"
   ]
  },
  {
   "cell_type": "markdown",
   "metadata": {},
   "source": [
    "7. Determine sobre dispersion y posible valor optimo de alpha para un modelo Binomial Negativa.\n",
    "\n",
    "**R**: En virtud de los resultados, podemos ver que existe cierta evidencia de sobredispersion (Pearson Chi2 sobre los Df residuos da un valor de 2.96). Al correr el test de sobredispersion vemos que el valor es estadisticamente distinto de 1, confirmando lo anterior."
   ]
  },
  {
   "cell_type": "code",
   "execution_count": 112,
   "metadata": {},
   "outputs": [
    {
     "name": "stdout",
     "output_type": "stream",
     "text": [
      "                                 OLS Regression Results                                \n",
      "=======================================================================================\n",
      "Dep. Variable:                 retage   R-squared (uncentered):                   0.127\n",
      "Model:                            OLS   Adj. R-squared (uncentered):              0.126\n",
      "Method:                 Least Squares   F-statistic:                              208.8\n",
      "Date:                Mon, 24 Apr 2023   Prob (F-statistic):                    2.76e-44\n",
      "Time:                        14:01:56   Log-Likelihood:                         -4375.3\n",
      "No. Observations:                1435   AIC:                                      8753.\n",
      "Df Residuals:                    1434   BIC:                                      8758.\n",
      "Df Model:                           1                                                  \n",
      "Covariance Type:            nonrobust                                                  \n",
      "==============================================================================\n",
      "                 coef    std err          t      P>|t|      [0.025      0.975]\n",
      "------------------------------------------------------------------------------\n",
      "x1             0.1995      0.014     14.450      0.000       0.172       0.227\n",
      "==============================================================================\n",
      "Omnibus:                     1335.800   Durbin-Watson:                   1.762\n",
      "Prob(Omnibus):                  0.000   Jarque-Bera (JB):            52368.658\n",
      "Skew:                           4.355   Prob(JB):                         0.00\n",
      "Kurtosis:                      31.284   Cond. No.                         1.00\n",
      "==============================================================================\n",
      "\n",
      "Notes:\n",
      "[1] R² is computed without centering (uncentered) since the model does not contain a constant.\n",
      "[2] Standard Errors assume that the covariance matrix of the errors is correctly specified.\n"
     ]
    }
   ],
   "source": [
    "aux=((y-poisson.mu)**2-poisson.mu)/poisson.mu\n",
    "auxr=sm.OLS(aux,poisson.mu).fit()\n",
    "print(auxr.summary())"
   ]
  },
  {
   "cell_type": "markdown",
   "metadata": {},
   "source": [
    "8. Usando la informacion anterior, ejecute un modelo Binomial Negativa para explicar el número de personas que hay dentro de un hogar. (*n_personas*). Seleccione las variables dependientes a incluir en el modelo final e interprete su significado. \n",
    "\n",
    "**R**: El modelo de Binomial Negativa entrega resultados en general muy similares a Poisson, sin embargo hay diferencias significativas en algunas variables como (log) wealth, drinkly y hrsusu. Dados los resultados, se observa que las variables demograficas son aquellas que influencian la decision de edad de retiro."
   ]
  },
  {
   "cell_type": "code",
   "execution_count": 113,
   "metadata": {},
   "outputs": [
    {
     "name": "stdout",
     "output_type": "stream",
     "text": [
      "                 Generalized Linear Model Regression Results                  \n",
      "==============================================================================\n",
      "Dep. Variable:                 retage   No. Observations:                 1435\n",
      "Model:                            GLM   Df Residuals:                     1423\n",
      "Model Family:        NegativeBinomial   Df Model:                           11\n",
      "Link Function:                    Log   Scale:                          1.0000\n",
      "Method:                          IRLS   Log-Likelihood:                -4206.9\n",
      "Date:                Mon, 24 Apr 2023   Deviance:                       1590.6\n",
      "Time:                        14:02:13   Pearson chi2:                 1.53e+03\n",
      "No. Iterations:                     6   Pseudo R-squ. (CS):             0.3977\n",
      "Covariance Type:            nonrobust                                         \n",
      "==============================================================================\n",
      "                 coef    std err          z      P>|z|      [0.025      0.975]\n",
      "------------------------------------------------------------------------------\n",
      "const          5.0289      0.173     29.065      0.000       4.690       5.368\n",
      "age           -0.0513      0.002    -22.465      0.000      -0.056      -0.047\n",
      "cesd          -0.0039      0.003     -1.467      0.142      -0.009       0.001\n",
      "child          0.0042      0.014      0.289      0.773      -0.024       0.032\n",
      "drinkly        0.0619      0.034      1.811      0.070      -0.005       0.129\n",
      "female         0.0244      0.037      0.656      0.512      -0.048       0.097\n",
      "hsize          0.0224      0.009      2.533      0.011       0.005       0.040\n",
      "married       -0.0655      0.064     -1.028      0.304      -0.190       0.059\n",
      "hrsusu         0.0152      0.012      1.268      0.205      -0.008       0.039\n",
      "schadj        -0.0043      0.005     -0.949      0.343      -0.013       0.005\n",
      "urban         -0.1643      0.038     -4.357      0.000      -0.238      -0.090\n",
      "lwealth       -0.0324      0.024     -1.350      0.177      -0.079       0.015\n",
      "==============================================================================\n"
     ]
    }
   ],
   "source": [
    "negbin=sm.GLM(y,X,family=sm.families.NegativeBinomial(alpha=0.2)).fit()\n",
    "print(negbin.summary())"
   ]
  },
  {
   "cell_type": "markdown",
   "metadata": {},
   "source": [
    "9. Comente los resultados obtenidos en 6, 7 y 8. ¿Cuáles y por qué existen las diferencias entre los resultados?. En su opinión, ¿Cuál sería el más adecuado para responder la pregunta de investgación y por qué? ¿Qué variables resultaron ser robustas a la especificación?\n",
    "\n",
    "**R**: Dada la sobredispersion, los modelos Poisson y Binomial Negativa producen diferencias importantes, afectando la significancia de algunos parametros. En virtud de aquello, se favorece la Binomial Negativa, ya que el supuesto de media igual a a varianza no se cumpliria. En cualquier caso, las variables de edad, tamano de hogar y zona urbana son robustas a la especificacion (significativas en ambos modelos). "
   ]
  }
 ],
 "metadata": {
  "hide_input": false,
  "kernelspec": {
   "display_name": "Python 3 (ipykernel)",
   "language": "python",
   "name": "python3"
  },
  "language_info": {
   "codemirror_mode": {
    "name": "ipython",
    "version": 3
   },
   "file_extension": ".py",
   "mimetype": "text/x-python",
   "name": "python",
   "nbconvert_exporter": "python",
   "pygments_lexer": "ipython3",
   "version": "3.9.16"
  },
  "latex_envs": {
   "LaTeX_envs_menu_present": true,
   "autoclose": true,
   "autocomplete": true,
   "bibliofile": "biblio.bib",
   "cite_by": "apalike",
   "current_citInitial": 1,
   "eqLabelWithNumbers": true,
   "eqNumInitial": 1,
   "hotkeys": {
    "equation": "Ctrl-E",
    "itemize": "Ctrl-I"
   },
   "labels_anchors": false,
   "latex_user_defs": false,
   "report_style_numbering": false,
   "user_envs_cfg": false
  },
  "toc": {
   "base_numbering": 1,
   "nav_menu": {},
   "number_sections": true,
   "sideBar": true,
   "skip_h1_title": true,
   "title_cell": "Table of Contents",
   "title_sidebar": "Contents",
   "toc_cell": false,
   "toc_position": {
    "height": "calc(100% - 180px)",
    "left": "10px",
    "top": "150px",
    "width": "165px"
   },
   "toc_section_display": true,
   "toc_window_display": true
  }
 },
 "nbformat": 4,
 "nbformat_minor": 2
}
