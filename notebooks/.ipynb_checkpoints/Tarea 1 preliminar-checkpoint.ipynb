{
 "cells": [
  {
   "cell_type": "markdown",
   "metadata": {},
   "source": [
    "<font size=\"5\">Tarea_1_MAA_Diego_Valdebenito</font>"
   ]
  },
  {
   "cell_type": "markdown",
   "metadata": {},
   "source": [
    "<font size=\"3\">**Tarea 1**</font>\n",
    "\n",
    "<u> *Instrucciones* </u>\n",
    "\n",
    "Los resultados de los ejericicios propuestos se deben entregar como un notebook por correo electronico a *juancaros@udec.cl* a mas tardar el dia 11/04/23 hasta las 21:00. \n",
    "\n",
    "Es importante considerar que el código debe poder ejecutarse en cualquier computadora con la data original del repositorio. Recordar la convencion para el nombre de archivo ademas de incluir en su documento titulos y encabezados por seccion. La data a utilizar es **charls2.csv**.\n",
    "\n",
    "Las variables tienen la siguiente descripcion:\n",
    "\n",
    "- retin: 1 si planea planea retirarse\n",
    "- retage: cuando planea retirarse, medido en años desde la fecha de encuesta (0 implica retirado/a o no planea retirarse)\n",
    "- cesd: puntaje en la escala de salud mental (0-30)\n",
    "- child: numero de hijos\n",
    "- drinkly: bebio alcohol en el ultimo mes (binario)\n",
    "- hrsusu: horas promedio trabajo diario\n",
    "- hsize: tamano del hogar\n",
    "- female: 1 si es mujer, 0 si es hombre\n",
    "- intmonth: mes en que fue encuestado/a (1-12)\n",
    "- married: si esta casado/a (binario)\n",
    "- retired: 1 si esta retirado/a (binario)\n",
    "- schadj: años de escolaridad\n",
    "- urban: zona urbana (binario)\n",
    "- wealth: riqueza neta (miles RMB)\n",
    "- age: edad al entrar a la encuesta\n",
    "\n",
    "\n",
    "Preguntas:\n",
    "\n",
    "1. Cargar la base de datos *charls2.csv* en el ambiente. Identifique los tipos de datos que se encuentran en la base, realice estadisticas descriptivas sobre las variables importantes (Hint: Revisar la distribuciones, datos faltantes, outliers, etc.) y limpie las variables cuando sea necesario. \n",
    "\n",
    "\n",
    "2. Ejecute un modelo de probabilidad lineal (*MCO*) que permita explicar la probabilidad de que una persona que aun trabaja quiera retirarse (*retin*). Seleccione las variables dependientes a incluir en el modelo final e interprete su significado. \n",
    "\n",
    "\n",
    "3. Ejecute un modelo *probit* para responder a la pregunta 2. Seleccione las variables dependientes a incluir en el modelo final e interprete su significado. \n",
    "\n",
    "\n",
    "4. Ejecute un modelo *logit*  para responder a la pregunta 2. Seleccione las variables dependientes a incluir en el modelo final e interprete su significado. \n",
    "\n",
    "\n",
    "5. Comente los resultados obtenidos en 2, 3 y 4. ¿Cuáles y por qué existen las diferencias entre los resultados?. En su opinión, ¿Cuál sería el más adecuado para responder la pregunta de investgación y por qué? ¿Qué variables resultaron ser robustas a la especificación?\n",
    "\n",
    "\n",
    "6. Ejecute un modelo Poisson para explicar cuando planea retirarse las personas que planean hacerlo. Seleccione las variables dependientes a incluir en el modelo final e interprete su significado. \n",
    "\n",
    "\n",
    "7. Determine sobre dispersion y posible valor optimo de alpha para un modelo Binomial Negativa.\n",
    "\n",
    "\n",
    "8. Usando la informacion anterior, ejecute un modelo Binomial Negativa para explicar el número de personas que hay dentro de un hogar. (*n_personas*). Seleccione las variables dependientes a incluir en el modelo final e interprete su significado. \n",
    "\n",
    "\n",
    "9. Comente los resultados obtenidos en 6, 7 y 8. ¿Cuáles y por qué existen las diferencias entre los resultados?. En su opinión, ¿Cuál sería el más adecuado para responder la pregunta de investgación y por qué? ¿Qué variables resultaron ser robustas a la especificación?\n"
   ]
  },
  {
   "cell_type": "markdown",
   "metadata": {},
   "source": [
    "<font size=\"3\">**Carga de librerias:**</font>\n",
    "\n",
    "Se cargan las librerias a utilizar en la tarea"
   ]
  },
  {
   "cell_type": "code",
   "execution_count": 1,
   "metadata": {},
   "outputs": [
    {
     "ename": "ModuleNotFoundError",
     "evalue": "No module named 'matplotlib'",
     "output_type": "error",
     "traceback": [
      "\u001b[1;31m---------------------------------------------------------------------------\u001b[0m",
      "\u001b[1;31mModuleNotFoundError\u001b[0m                       Traceback (most recent call last)",
      "Cell \u001b[1;32mIn[1], line 3\u001b[0m\n\u001b[0;32m      1\u001b[0m \u001b[38;5;28;01mimport\u001b[39;00m \u001b[38;5;21;01mnumpy\u001b[39;00m \u001b[38;5;28;01mas\u001b[39;00m \u001b[38;5;21;01mnp\u001b[39;00m\n\u001b[0;32m      2\u001b[0m \u001b[38;5;28;01mimport\u001b[39;00m \u001b[38;5;21;01mpandas\u001b[39;00m \u001b[38;5;28;01mas\u001b[39;00m \u001b[38;5;21;01mpd\u001b[39;00m\n\u001b[1;32m----> 3\u001b[0m \u001b[38;5;28;01mimport\u001b[39;00m \u001b[38;5;21;01mmatplotlib\u001b[39;00m\u001b[38;5;21;01m.\u001b[39;00m\u001b[38;5;21;01mpyplot\u001b[39;00m \u001b[38;5;28;01mas\u001b[39;00m \u001b[38;5;21;01mplt\u001b[39;00m\n\u001b[0;32m      4\u001b[0m \u001b[38;5;28;01mimport\u001b[39;00m \u001b[38;5;21;01mstatsmodels\u001b[39;00m\u001b[38;5;21;01m.\u001b[39;00m\u001b[38;5;21;01mapi\u001b[39;00m \u001b[38;5;28;01mas\u001b[39;00m \u001b[38;5;21;01msm\u001b[39;00m\n\u001b[0;32m      5\u001b[0m \u001b[38;5;28;01mimport\u001b[39;00m \u001b[38;5;21;01mstatsmodels\u001b[39;00m\u001b[38;5;21;01m.\u001b[39;00m\u001b[38;5;21;01mformula\u001b[39;00m\u001b[38;5;21;01m.\u001b[39;00m\u001b[38;5;21;01mapi\u001b[39;00m \u001b[38;5;28;01mas\u001b[39;00m \u001b[38;5;21;01msmf\u001b[39;00m\n",
      "\u001b[1;31mModuleNotFoundError\u001b[0m: No module named 'matplotlib'"
     ]
    }
   ],
   "source": [
    "import numpy as np\n",
    "import pandas as pd\n",
    "import matplotlib.pyplot as plt\n",
    "import statsmodels.api as sm\n",
    "import statsmodels.formula.api as smf\n",
    "import sklearn\n",
    "import scipy \n",
    "from scipy.stats import nbinom\n",
    "import seaborn as sns\n",
    "\n",
    "%matplotlib inline"
   ]
  },
  {
   "cell_type": "code",
   "execution_count": 2,
   "metadata": {},
   "outputs": [],
   "source": [
    "# higher ed data\n",
    "charls = pd.read_csv('C:../data/charls2.csv')\n",
    "charls.dropna(inplace=True)\n",
    "# Eliminar filas donde \"wealth\" sea menor que 0\n",
    "charls = charls[(charls['wealth'] >= 0) & ((charls['retin'] != 1) | (charls['retired'] != 1))]\n",
    "charls = charls[~charls['drinkly'].str.contains('.m|.d|.r')]\n",
    "charls.drinkly.unique()\n",
    "charls['drinkly'] = charls['drinkly'].astype(int)"
   ]
  },
  {
   "cell_type": "markdown",
   "metadata": {},
   "source": [
    "### Eliminacion de filas\n",
    "En el codigo anterior se eliminaron las filas donde la riqueza neta tome valores menores que 0 porque eso no tiene sentido para el analisis, y de la misma forma se eliminan los casos en los cuales tanto se este en el caso de planear retirarse y estar retirado, ya que no tiene coherencia tener la intencion de retirarse si ya no se esta trabajando. Ademas, se eliminaron las filas donde la variable \"drinkly\" sea distinta de 0 o 1, o que sea texto, ya que es necesario que esta variable sea binaria para poder incorporarla al modelo, y luego se convirtio de objeto a variable entera."
   ]
  },
  {
   "cell_type": "code",
   "execution_count": 144,
   "metadata": {},
   "outputs": [
    {
     "data": {
      "text/html": [
       "<div>\n",
       "<style scoped>\n",
       "    .dataframe tbody tr th:only-of-type {\n",
       "        vertical-align: middle;\n",
       "    }\n",
       "\n",
       "    .dataframe tbody tr th {\n",
       "        vertical-align: top;\n",
       "    }\n",
       "\n",
       "    .dataframe thead th {\n",
       "        text-align: right;\n",
       "    }\n",
       "</style>\n",
       "<table border=\"1\" class=\"dataframe\">\n",
       "  <thead>\n",
       "    <tr style=\"text-align: right;\">\n",
       "      <th></th>\n",
       "      <th>age</th>\n",
       "      <th>cesd</th>\n",
       "      <th>child</th>\n",
       "      <th>drinkly</th>\n",
       "      <th>female</th>\n",
       "      <th>hrsusu</th>\n",
       "      <th>hsize</th>\n",
       "      <th>intmonth</th>\n",
       "      <th>married</th>\n",
       "      <th>retage</th>\n",
       "      <th>retin</th>\n",
       "      <th>retired</th>\n",
       "      <th>schadj</th>\n",
       "      <th>urban</th>\n",
       "      <th>wealth</th>\n",
       "    </tr>\n",
       "  </thead>\n",
       "  <tbody>\n",
       "    <tr>\n",
       "      <th>0</th>\n",
       "      <td>56</td>\n",
       "      <td>6.0</td>\n",
       "      <td>1</td>\n",
       "      <td>0</td>\n",
       "      <td>1</td>\n",
       "      <td>0.000000</td>\n",
       "      <td>6</td>\n",
       "      <td>8</td>\n",
       "      <td>1</td>\n",
       "      <td>0</td>\n",
       "      <td>0</td>\n",
       "      <td>0</td>\n",
       "      <td>0</td>\n",
       "      <td>0</td>\n",
       "      <td>350.0</td>\n",
       "    </tr>\n",
       "    <tr>\n",
       "      <th>1</th>\n",
       "      <td>59</td>\n",
       "      <td>6.0</td>\n",
       "      <td>1</td>\n",
       "      <td>1</td>\n",
       "      <td>0</td>\n",
       "      <td>0.000000</td>\n",
       "      <td>6</td>\n",
       "      <td>8</td>\n",
       "      <td>1</td>\n",
       "      <td>0</td>\n",
       "      <td>0</td>\n",
       "      <td>0</td>\n",
       "      <td>0</td>\n",
       "      <td>0</td>\n",
       "      <td>350.0</td>\n",
       "    </tr>\n",
       "    <tr>\n",
       "      <th>2</th>\n",
       "      <td>66</td>\n",
       "      <td>11.0</td>\n",
       "      <td>3</td>\n",
       "      <td>0</td>\n",
       "      <td>1</td>\n",
       "      <td>2.995732</td>\n",
       "      <td>3</td>\n",
       "      <td>8</td>\n",
       "      <td>1</td>\n",
       "      <td>7</td>\n",
       "      <td>1</td>\n",
       "      <td>0</td>\n",
       "      <td>0</td>\n",
       "      <td>0</td>\n",
       "      <td>200.0</td>\n",
       "    </tr>\n",
       "    <tr>\n",
       "      <th>3</th>\n",
       "      <td>67</td>\n",
       "      <td>2.0</td>\n",
       "      <td>3</td>\n",
       "      <td>1</td>\n",
       "      <td>0</td>\n",
       "      <td>3.178054</td>\n",
       "      <td>3</td>\n",
       "      <td>8</td>\n",
       "      <td>1</td>\n",
       "      <td>3</td>\n",
       "      <td>1</td>\n",
       "      <td>0</td>\n",
       "      <td>8</td>\n",
       "      <td>0</td>\n",
       "      <td>200.0</td>\n",
       "    </tr>\n",
       "    <tr>\n",
       "      <th>4</th>\n",
       "      <td>80</td>\n",
       "      <td>17.0</td>\n",
       "      <td>7</td>\n",
       "      <td>0</td>\n",
       "      <td>1</td>\n",
       "      <td>0.000000</td>\n",
       "      <td>5</td>\n",
       "      <td>7</td>\n",
       "      <td>1</td>\n",
       "      <td>0</td>\n",
       "      <td>0</td>\n",
       "      <td>1</td>\n",
       "      <td>0</td>\n",
       "      <td>0</td>\n",
       "      <td>0.0</td>\n",
       "    </tr>\n",
       "    <tr>\n",
       "      <th>5</th>\n",
       "      <td>45</td>\n",
       "      <td>4.0</td>\n",
       "      <td>2</td>\n",
       "      <td>1</td>\n",
       "      <td>0</td>\n",
       "      <td>3.044522</td>\n",
       "      <td>5</td>\n",
       "      <td>7</td>\n",
       "      <td>1</td>\n",
       "      <td>0</td>\n",
       "      <td>0</td>\n",
       "      <td>0</td>\n",
       "      <td>8</td>\n",
       "      <td>0</td>\n",
       "      <td>5000.0</td>\n",
       "    </tr>\n",
       "    <tr>\n",
       "      <th>6</th>\n",
       "      <td>45</td>\n",
       "      <td>0.0</td>\n",
       "      <td>2</td>\n",
       "      <td>0</td>\n",
       "      <td>1</td>\n",
       "      <td>4.025352</td>\n",
       "      <td>5</td>\n",
       "      <td>7</td>\n",
       "      <td>1</td>\n",
       "      <td>0</td>\n",
       "      <td>0</td>\n",
       "      <td>0</td>\n",
       "      <td>4</td>\n",
       "      <td>0</td>\n",
       "      <td>5000.0</td>\n",
       "    </tr>\n",
       "    <tr>\n",
       "      <th>7</th>\n",
       "      <td>56</td>\n",
       "      <td>14.0</td>\n",
       "      <td>2</td>\n",
       "      <td>0</td>\n",
       "      <td>1</td>\n",
       "      <td>3.871201</td>\n",
       "      <td>6</td>\n",
       "      <td>7</td>\n",
       "      <td>1</td>\n",
       "      <td>11</td>\n",
       "      <td>1</td>\n",
       "      <td>0</td>\n",
       "      <td>0</td>\n",
       "      <td>0</td>\n",
       "      <td>0.0</td>\n",
       "    </tr>\n",
       "    <tr>\n",
       "      <th>8</th>\n",
       "      <td>64</td>\n",
       "      <td>6.0</td>\n",
       "      <td>2</td>\n",
       "      <td>0</td>\n",
       "      <td>0</td>\n",
       "      <td>3.871201</td>\n",
       "      <td>6</td>\n",
       "      <td>7</td>\n",
       "      <td>1</td>\n",
       "      <td>6</td>\n",
       "      <td>1</td>\n",
       "      <td>0</td>\n",
       "      <td>4</td>\n",
       "      <td>0</td>\n",
       "      <td>0.0</td>\n",
       "    </tr>\n",
       "    <tr>\n",
       "      <th>9</th>\n",
       "      <td>57</td>\n",
       "      <td>1.0</td>\n",
       "      <td>2</td>\n",
       "      <td>1</td>\n",
       "      <td>0</td>\n",
       "      <td>3.178054</td>\n",
       "      <td>5</td>\n",
       "      <td>7</td>\n",
       "      <td>0</td>\n",
       "      <td>16</td>\n",
       "      <td>1</td>\n",
       "      <td>0</td>\n",
       "      <td>8</td>\n",
       "      <td>0</td>\n",
       "      <td>0.0</td>\n",
       "    </tr>\n",
       "  </tbody>\n",
       "</table>\n",
       "</div>"
      ],
      "text/plain": [
       "   age  cesd  child  drinkly  female    hrsusu  hsize  intmonth  married  \\\n",
       "0   56   6.0      1        0       1  0.000000      6         8        1   \n",
       "1   59   6.0      1        1       0  0.000000      6         8        1   \n",
       "2   66  11.0      3        0       1  2.995732      3         8        1   \n",
       "3   67   2.0      3        1       0  3.178054      3         8        1   \n",
       "4   80  17.0      7        0       1  0.000000      5         7        1   \n",
       "5   45   4.0      2        1       0  3.044522      5         7        1   \n",
       "6   45   0.0      2        0       1  4.025352      5         7        1   \n",
       "7   56  14.0      2        0       1  3.871201      6         7        1   \n",
       "8   64   6.0      2        0       0  3.871201      6         7        1   \n",
       "9   57   1.0      2        1       0  3.178054      5         7        0   \n",
       "\n",
       "   retage  retin  retired  schadj  urban  wealth  \n",
       "0       0      0        0       0      0   350.0  \n",
       "1       0      0        0       0      0   350.0  \n",
       "2       7      1        0       0      0   200.0  \n",
       "3       3      1        0       8      0   200.0  \n",
       "4       0      0        1       0      0     0.0  \n",
       "5       0      0        0       8      0  5000.0  \n",
       "6       0      0        0       4      0  5000.0  \n",
       "7      11      1        0       0      0     0.0  \n",
       "8       6      1        0       4      0     0.0  \n",
       "9      16      1        0       8      0     0.0  "
      ]
     },
     "execution_count": 144,
     "metadata": {},
     "output_type": "execute_result"
    }
   ],
   "source": [
    "charls.reset_index(drop=True, inplace=True)\n",
    "charls.head(10)"
   ]
  },
  {
   "cell_type": "code",
   "execution_count": 3,
   "metadata": {},
   "outputs": [
    {
     "name": "stdout",
     "output_type": "stream",
     "text": [
      "age           int64\n",
      "cesd        float64\n",
      "child         int64\n",
      "drinkly       int32\n",
      "female        int64\n",
      "hrsusu      float64\n",
      "hsize         int64\n",
      "intmonth      int64\n",
      "married       int64\n",
      "retage        int64\n",
      "retin         int64\n",
      "retired       int64\n",
      "schadj        int64\n",
      "urban         int64\n",
      "wealth      float64\n",
      "dtype: object\n",
      "Variables binarias en charls:\n",
      "['drinkly', 'female', 'married', 'retin', 'retired', 'urban']\n"
     ]
    }
   ],
   "source": [
    "print(charls.dtypes)\n",
    "\n",
    "# Detectar variables binarias en el DataFrame \"charls\"\n",
    "binaries = []\n",
    "for column in charls.columns:\n",
    "    if charls[column].nunique() == 2:\n",
    "        binaries.append(column)\n",
    "\n",
    "# Imprimir las variables binarias\n",
    "print(\"Variables binarias en charls:\")\n",
    "print(binaries)"
   ]
  },
  {
   "cell_type": "markdown",
   "metadata": {},
   "source": [
    "### Tipos de variables y variables a analizar\n",
    "Tal como se ordena en el codigo anterior, se imprimen los tipos de variables de la base de datos, donde \"age\", \"child\", \"drinkly\", \"female\", \"hsize\", \"intmont\", \"married\", \"retage\", \"retin\", \"retired\", \"schadj\" y urban son enteras, de las cuales \"drinkly\", \"female\", \"married\", \"retin\", \"retired\", \"urban\"; y las variables continuas son: \"cesd\", \"hrsusu\", \"wealth\". \n",
    "\n",
    "Las variables que se consideran a priori como importantes son retin, para saber el porcentaje de personas que desean retirarse, que es la variable de estudio, cesd, porque popularmente se sabe que la salud mental es determinante para que una persona este planeando dejar de trabajar, hrsusu, porque las horas promedio trabajo diario pueden ser importantes para tomar la decision de retirarse o no retirarse y la edad (age), ya que a priori se piensa que a mayor edad mayor sera la propension a retirarse. Ademas, por interes en el analisis, se considerara la variable wealth, para ver si la riqueza esta relacionada con el hecho de retirarse.\n",
    "\n",
    "A continuacion se muestran los estadisticos descriptivos y graficamente los comportamientos variables de estudio y explicativas antes mencionadas:"
   ]
  },
  {
   "cell_type": "code",
   "execution_count": 4,
   "metadata": {},
   "outputs": [
    {
     "name": "stdout",
     "output_type": "stream",
     "text": [
      "El porcentaje de personas que NO planean retirarse es de: 84.29%\n",
      "El porcentaje de personas que planean retirarse es de: 15.71%\n"
     ]
    }
   ],
   "source": [
    "# Calcular los porcentajes de \"retin\"\n",
    "retin_counts = charls['retin'].value_counts(normalize=True)\n",
    "porcentaje_no_retin = retin_counts[0] * 100\n",
    "porcentaje_retin = retin_counts[1] * 100\n",
    "\n",
    "# Imprimir los resultados\n",
    "print(\"El porcentaje de personas que NO planean retirarse es de: {:.2f}%\".format(porcentaje_no_retin))\n",
    "print(\"El porcentaje de personas que planean retirarse es de: {:.2f}%\".format(porcentaje_retin))"
   ]
  },
  {
   "cell_type": "code",
   "execution_count": 5,
   "metadata": {},
   "outputs": [
    {
     "ename": "ImportError",
     "evalue": "matplotlib is required for plotting when the default backend \"matplotlib\" is selected.",
     "output_type": "error",
     "traceback": [
      "\u001b[1;31m---------------------------------------------------------------------------\u001b[0m",
      "\u001b[1;31mImportError\u001b[0m                               Traceback (most recent call last)",
      "Cell \u001b[1;32mIn[5], line 4\u001b[0m\n\u001b[0;32m      2\u001b[0m retin_data \u001b[38;5;241m=\u001b[39m charls[charls[\u001b[38;5;124m'\u001b[39m\u001b[38;5;124mretin\u001b[39m\u001b[38;5;124m'\u001b[39m]\u001b[38;5;241m.\u001b[39misin([\u001b[38;5;241m0\u001b[39m, \u001b[38;5;241m1\u001b[39m])]\n\u001b[0;32m      3\u001b[0m retin_data[\u001b[38;5;124m'\u001b[39m\u001b[38;5;124mretin_label\u001b[39m\u001b[38;5;124m'\u001b[39m] \u001b[38;5;241m=\u001b[39m retin_data[\u001b[38;5;124m'\u001b[39m\u001b[38;5;124mretin\u001b[39m\u001b[38;5;124m'\u001b[39m]\u001b[38;5;241m.\u001b[39mmap({\u001b[38;5;241m1\u001b[39m: \u001b[38;5;124m'\u001b[39m\u001b[38;5;124mQuiere retirarse\u001b[39m\u001b[38;5;124m'\u001b[39m, \u001b[38;5;241m0\u001b[39m: \u001b[38;5;124m'\u001b[39m\u001b[38;5;124mNo quiere retirarse\u001b[39m\u001b[38;5;124m'\u001b[39m})\n\u001b[1;32m----> 4\u001b[0m \u001b[43mretin_data\u001b[49m\u001b[43m[\u001b[49m\u001b[38;5;124;43m'\u001b[39;49m\u001b[38;5;124;43mretin_label\u001b[39;49m\u001b[38;5;124;43m'\u001b[39;49m\u001b[43m]\u001b[49m\u001b[38;5;241;43m.\u001b[39;49m\u001b[43mvalue_counts\u001b[49m\u001b[43m(\u001b[49m\u001b[43m)\u001b[49m\u001b[38;5;241;43m.\u001b[39;49m\u001b[43mplot\u001b[49m\u001b[43m(\u001b[49m\u001b[43mkind\u001b[49m\u001b[38;5;241;43m=\u001b[39;49m\u001b[38;5;124;43m'\u001b[39;49m\u001b[38;5;124;43mbar\u001b[39;49m\u001b[38;5;124;43m'\u001b[39;49m\u001b[43m)\u001b[49m\n\u001b[0;32m      5\u001b[0m plt\u001b[38;5;241m.\u001b[39mxlabel(\u001b[38;5;124m'\u001b[39m\u001b[38;5;124mRetiro\u001b[39m\u001b[38;5;124m'\u001b[39m)\n\u001b[0;32m      6\u001b[0m plt\u001b[38;5;241m.\u001b[39mylabel(\u001b[38;5;124m'\u001b[39m\u001b[38;5;124mFrecuencia\u001b[39m\u001b[38;5;124m'\u001b[39m)\n",
      "File \u001b[1;32m~\\anaconda3\\lib\\site-packages\\pandas\\plotting\\_core.py:920\u001b[0m, in \u001b[0;36mPlotAccessor.__call__\u001b[1;34m(self, *args, **kwargs)\u001b[0m\n\u001b[0;32m    919\u001b[0m \u001b[38;5;28;01mdef\u001b[39;00m \u001b[38;5;21m__call__\u001b[39m(\u001b[38;5;28mself\u001b[39m, \u001b[38;5;241m*\u001b[39margs, \u001b[38;5;241m*\u001b[39m\u001b[38;5;241m*\u001b[39mkwargs):\n\u001b[1;32m--> 920\u001b[0m     plot_backend \u001b[38;5;241m=\u001b[39m \u001b[43m_get_plot_backend\u001b[49m\u001b[43m(\u001b[49m\u001b[43mkwargs\u001b[49m\u001b[38;5;241;43m.\u001b[39;49m\u001b[43mpop\u001b[49m\u001b[43m(\u001b[49m\u001b[38;5;124;43m\"\u001b[39;49m\u001b[38;5;124;43mbackend\u001b[39;49m\u001b[38;5;124;43m\"\u001b[39;49m\u001b[43m,\u001b[49m\u001b[43m \u001b[49m\u001b[38;5;28;43;01mNone\u001b[39;49;00m\u001b[43m)\u001b[49m\u001b[43m)\u001b[49m\n\u001b[0;32m    922\u001b[0m     x, y, kind, kwargs \u001b[38;5;241m=\u001b[39m \u001b[38;5;28mself\u001b[39m\u001b[38;5;241m.\u001b[39m_get_call_args(\n\u001b[0;32m    923\u001b[0m         plot_backend\u001b[38;5;241m.\u001b[39m\u001b[38;5;18m__name__\u001b[39m, \u001b[38;5;28mself\u001b[39m\u001b[38;5;241m.\u001b[39m_parent, args, kwargs\n\u001b[0;32m    924\u001b[0m     )\n\u001b[0;32m    926\u001b[0m     kind \u001b[38;5;241m=\u001b[39m \u001b[38;5;28mself\u001b[39m\u001b[38;5;241m.\u001b[39m_kind_aliases\u001b[38;5;241m.\u001b[39mget(kind, kind)\n",
      "File \u001b[1;32m~\\anaconda3\\lib\\site-packages\\pandas\\plotting\\_core.py:1886\u001b[0m, in \u001b[0;36m_get_plot_backend\u001b[1;34m(backend)\u001b[0m\n\u001b[0;32m   1883\u001b[0m \u001b[38;5;28;01mif\u001b[39;00m backend_str \u001b[38;5;129;01min\u001b[39;00m _backends:\n\u001b[0;32m   1884\u001b[0m     \u001b[38;5;28;01mreturn\u001b[39;00m _backends[backend_str]\n\u001b[1;32m-> 1886\u001b[0m module \u001b[38;5;241m=\u001b[39m \u001b[43m_load_backend\u001b[49m\u001b[43m(\u001b[49m\u001b[43mbackend_str\u001b[49m\u001b[43m)\u001b[49m\n\u001b[0;32m   1887\u001b[0m _backends[backend_str] \u001b[38;5;241m=\u001b[39m module\n\u001b[0;32m   1888\u001b[0m \u001b[38;5;28;01mreturn\u001b[39;00m module\n",
      "File \u001b[1;32m~\\anaconda3\\lib\\site-packages\\pandas\\plotting\\_core.py:1817\u001b[0m, in \u001b[0;36m_load_backend\u001b[1;34m(backend)\u001b[0m\n\u001b[0;32m   1815\u001b[0m         module \u001b[38;5;241m=\u001b[39m importlib\u001b[38;5;241m.\u001b[39mimport_module(\u001b[38;5;124m\"\u001b[39m\u001b[38;5;124mpandas.plotting._matplotlib\u001b[39m\u001b[38;5;124m\"\u001b[39m)\n\u001b[0;32m   1816\u001b[0m     \u001b[38;5;28;01mexcept\u001b[39;00m \u001b[38;5;167;01mImportError\u001b[39;00m:\n\u001b[1;32m-> 1817\u001b[0m         \u001b[38;5;28;01mraise\u001b[39;00m \u001b[38;5;167;01mImportError\u001b[39;00m(\n\u001b[0;32m   1818\u001b[0m             \u001b[38;5;124m\"\u001b[39m\u001b[38;5;124mmatplotlib is required for plotting when the \u001b[39m\u001b[38;5;124m\"\u001b[39m\n\u001b[0;32m   1819\u001b[0m             \u001b[38;5;124m'\u001b[39m\u001b[38;5;124mdefault backend \u001b[39m\u001b[38;5;124m\"\u001b[39m\u001b[38;5;124mmatplotlib\u001b[39m\u001b[38;5;124m\"\u001b[39m\u001b[38;5;124m is selected.\u001b[39m\u001b[38;5;124m'\u001b[39m\n\u001b[0;32m   1820\u001b[0m         ) \u001b[38;5;28;01mfrom\u001b[39;00m \u001b[38;5;28mNone\u001b[39m\n\u001b[0;32m   1821\u001b[0m     \u001b[38;5;28;01mreturn\u001b[39;00m module\n\u001b[0;32m   1823\u001b[0m found_backend \u001b[38;5;241m=\u001b[39m \u001b[38;5;28;01mFalse\u001b[39;00m\n",
      "\u001b[1;31mImportError\u001b[0m: matplotlib is required for plotting when the default backend \"matplotlib\" is selected."
     ]
    }
   ],
   "source": [
    "# Filtrar las filas donde \"retin\" toma el valor de 1 o 0\n",
    "retin_data = charls[charls['retin'].isin([0, 1])]\n",
    "retin_data['retin_label'] = retin_data['retin'].map({1: 'Quiere retirarse', 0: 'No quiere retirarse'})\n",
    "retin_data['retin_label'].value_counts().plot(kind='bar')\n",
    "plt.xlabel('Retiro')\n",
    "plt.ylabel('Frecuencia')\n",
    "plt.title('Cantidad de personas que se retiran y no se retiran en charls')\n",
    "plt.show()"
   ]
  },
  {
   "cell_type": "markdown",
   "metadata": {},
   "source": [
    "Se puede visualizar que la mayoria de las personas encuestadas no esta planeando retirarse, por lo cual es mas probable que una persona no este planeando retirarse"
   ]
  },
  {
   "cell_type": "code",
   "execution_count": 6,
   "metadata": {},
   "outputs": [
    {
     "name": "stdout",
     "output_type": "stream",
     "text": [
      "Estadística Descriptiva para 'cesd' cuando NO quiere retirarse:\n",
      "count    6031.000000\n",
      "mean        9.194661\n",
      "std         6.516893\n",
      "min         0.000000\n",
      "25%         4.000000\n",
      "50%         8.000000\n",
      "75%        13.000000\n",
      "max        30.000000\n",
      "Name: cesd, dtype: float64\n",
      "Estadística Descriptiva para 'cesd' cuando quiere retirarse:\n",
      "count    1124.000000\n",
      "mean        8.212633\n",
      "std         6.097763\n",
      "min         0.000000\n",
      "25%         3.000000\n",
      "50%         7.000000\n",
      "75%        12.000000\n",
      "max        29.000000\n",
      "Name: cesd, dtype: float64\n"
     ]
    }
   ],
   "source": [
    "# Filtrar los datos por \"retin\" igual a 0 y 1\n",
    "retin_0_data = charls[charls['retin'] == 0]\n",
    "retin_1_data = charls[charls['retin'] == 1]\n",
    "\n",
    "# Realizar la estadística descriptiva para \"cesd\" en caso de no querer retirarse\n",
    "hrsusu_retin_0_stats = retin_0_data['cesd'].describe()\n",
    "\n",
    "# Realizar la estadística descriptiva para \"cesd\" en caso de querer retirarse\n",
    "hrsusu_retin_1_stats = retin_1_data['cesd'].describe()\n",
    "\n",
    "# Imprimir los resultados\n",
    "print(\"Estadística Descriptiva para 'cesd' cuando NO quiere retirarse:\")\n",
    "print(hrsusu_retin_0_stats)\n",
    "\n",
    "print(\"Estadística Descriptiva para 'cesd' cuando quiere retirarse:\")\n",
    "print(hrsusu_retin_1_stats)"
   ]
  },
  {
   "cell_type": "code",
   "execution_count": 7,
   "metadata": {},
   "outputs": [
    {
     "ename": "NameError",
     "evalue": "name 'plt' is not defined",
     "output_type": "error",
     "traceback": [
      "\u001b[1;31m---------------------------------------------------------------------------\u001b[0m",
      "\u001b[1;31mNameError\u001b[0m                                 Traceback (most recent call last)",
      "Cell \u001b[1;32mIn[7], line 4\u001b[0m\n\u001b[0;32m      2\u001b[0m retin_0_data \u001b[38;5;241m=\u001b[39m charls[charls[\u001b[38;5;124m'\u001b[39m\u001b[38;5;124mretin\u001b[39m\u001b[38;5;124m'\u001b[39m] \u001b[38;5;241m==\u001b[39m \u001b[38;5;241m0\u001b[39m]\n\u001b[0;32m      3\u001b[0m retin_1_data \u001b[38;5;241m=\u001b[39m charls[charls[\u001b[38;5;124m'\u001b[39m\u001b[38;5;124mretin\u001b[39m\u001b[38;5;124m'\u001b[39m] \u001b[38;5;241m==\u001b[39m \u001b[38;5;241m1\u001b[39m]\n\u001b[1;32m----> 4\u001b[0m fig, axs \u001b[38;5;241m=\u001b[39m \u001b[43mplt\u001b[49m\u001b[38;5;241m.\u001b[39msubplots(\u001b[38;5;241m1\u001b[39m, \u001b[38;5;241m2\u001b[39m, figsize\u001b[38;5;241m=\u001b[39m(\u001b[38;5;241m10\u001b[39m, \u001b[38;5;241m5\u001b[39m))\n\u001b[0;32m      6\u001b[0m \u001b[38;5;66;03m# Graficar el histograma de la variable \"cesd\" cuando \"retin\" es 0\u001b[39;00m\n\u001b[0;32m      7\u001b[0m axs[\u001b[38;5;241m0\u001b[39m]\u001b[38;5;241m.\u001b[39mhist(retin_0_data[\u001b[38;5;124m'\u001b[39m\u001b[38;5;124mcesd\u001b[39m\u001b[38;5;124m'\u001b[39m], bins\u001b[38;5;241m=\u001b[39m\u001b[38;5;241m10\u001b[39m)\n",
      "\u001b[1;31mNameError\u001b[0m: name 'plt' is not defined"
     ]
    }
   ],
   "source": [
    "# Filtrar las filas donde \"retin\" toma el valor de 0 o 1\n",
    "retin_0_data = charls[charls['retin'] == 0]\n",
    "retin_1_data = charls[charls['retin'] == 1]\n",
    "fig, axs = plt.subplots(1, 2, figsize=(10, 5))\n",
    "\n",
    "# Graficar el histograma de la variable \"cesd\" cuando \"retin\" es 0\n",
    "axs[0].hist(retin_0_data['cesd'], bins=10)\n",
    "axs[0].set_title('Puntaje de salud mental, no quiere retirarse')\n",
    "axs[0].set_xlabel('Puntuacion')\n",
    "axs[0].set_ylabel('Frecuencia')\n",
    "\n",
    "# Graficar el histograma de la variable \"cesd\" cuando \"retin\" es 1\n",
    "axs[1].hist(retin_1_data['cesd'], bins=10)\n",
    "axs[1].set_title('Puntaje de salud mental, quiere retirarse')\n",
    "axs[1].set_xlabel('Puntuacion')\n",
    "axs[1].set_ylabel('Frecuencia')\n",
    "plt.tight_layout()\n",
    "plt.show()"
   ]
  },
  {
   "cell_type": "markdown",
   "metadata": {},
   "source": [
    "Se puede visualizar que en promedio las personas que no quieren retirarse tienen mayor puntuacion de salud mental que las personas que si se quieren retirar. Por ello es posible afirmar a priori que el puntaje de salud mental, puede ser significativo para que la persona decida si retirarse o no."
   ]
  },
  {
   "cell_type": "code",
   "execution_count": 8,
   "metadata": {},
   "outputs": [
    {
     "name": "stdout",
     "output_type": "stream",
     "text": [
      "Estadística Descriptiva para 'hrsusu' cuando NO quiere retirarse:\n",
      "count    6031.000000\n",
      "mean        2.388028\n",
      "std         1.841145\n",
      "min         0.000000\n",
      "25%         0.000000\n",
      "50%         3.332205\n",
      "75%         4.025352\n",
      "max         4.890349\n",
      "Name: hrsusu, dtype: float64\n",
      "Estadística Descriptiva para 'hrsusu' cuando quiere retirarse:\n",
      "count    1124.000000\n",
      "mean        3.285881\n",
      "std         1.255859\n",
      "min         0.000000\n",
      "25%         3.044522\n",
      "50%         3.737670\n",
      "75%         4.025352\n",
      "max         4.941642\n",
      "Name: hrsusu, dtype: float64\n"
     ]
    }
   ],
   "source": [
    "# Filtrar los datos por \"retin\" igual a 0 y 1\n",
    "retin_0_data = charls[charls['retin'] == 0]\n",
    "retin_1_data = charls[charls['retin'] == 1]\n",
    "\n",
    "# Realizar la estadística descriptiva para \"hrsusu\" en caso de no querer retirarse\n",
    "hrsusu_retin_0_stats = retin_0_data['hrsusu'].describe()\n",
    "\n",
    "# Realizar la estadística descriptiva para \"hrsusu\" en caso de querer retirarse\n",
    "hrsusu_retin_1_stats = retin_1_data['hrsusu'].describe()\n",
    "\n",
    "# Imprimir los resultados\n",
    "print(\"Estadística Descriptiva para 'hrsusu' cuando NO quiere retirarse:\")\n",
    "print(hrsusu_retin_0_stats)\n",
    "\n",
    "print(\"Estadística Descriptiva para 'hrsusu' cuando quiere retirarse:\")\n",
    "print(hrsusu_retin_1_stats)"
   ]
  },
  {
   "cell_type": "code",
   "execution_count": 9,
   "metadata": {},
   "outputs": [
    {
     "ename": "NameError",
     "evalue": "name 'plt' is not defined",
     "output_type": "error",
     "traceback": [
      "\u001b[1;31m---------------------------------------------------------------------------\u001b[0m",
      "\u001b[1;31mNameError\u001b[0m                                 Traceback (most recent call last)",
      "Cell \u001b[1;32mIn[9], line 4\u001b[0m\n\u001b[0;32m      2\u001b[0m retin_0_data \u001b[38;5;241m=\u001b[39m charls[charls[\u001b[38;5;124m'\u001b[39m\u001b[38;5;124mretin\u001b[39m\u001b[38;5;124m'\u001b[39m] \u001b[38;5;241m==\u001b[39m \u001b[38;5;241m0\u001b[39m]\n\u001b[0;32m      3\u001b[0m retin_1_data \u001b[38;5;241m=\u001b[39m charls[charls[\u001b[38;5;124m'\u001b[39m\u001b[38;5;124mretin\u001b[39m\u001b[38;5;124m'\u001b[39m] \u001b[38;5;241m==\u001b[39m \u001b[38;5;241m1\u001b[39m]\n\u001b[1;32m----> 4\u001b[0m fig, axs \u001b[38;5;241m=\u001b[39m \u001b[43mplt\u001b[49m\u001b[38;5;241m.\u001b[39msubplots(\u001b[38;5;241m1\u001b[39m, \u001b[38;5;241m2\u001b[39m, figsize\u001b[38;5;241m=\u001b[39m(\u001b[38;5;241m10\u001b[39m, \u001b[38;5;241m5\u001b[39m))\n\u001b[0;32m      6\u001b[0m \u001b[38;5;66;03m# Graficar el histograma de la variable \"hrsusu\" cuando no quiere retirarse\u001b[39;00m\n\u001b[0;32m      7\u001b[0m axs[\u001b[38;5;241m0\u001b[39m]\u001b[38;5;241m.\u001b[39mhist(retin_0_data[\u001b[38;5;124m'\u001b[39m\u001b[38;5;124mhrsusu\u001b[39m\u001b[38;5;124m'\u001b[39m], bins\u001b[38;5;241m=\u001b[39m\u001b[38;5;241m10\u001b[39m)\n",
      "\u001b[1;31mNameError\u001b[0m: name 'plt' is not defined"
     ]
    }
   ],
   "source": [
    "# Filtrar las filas donde \"retin\" toma el valor de 0 o 1\n",
    "retin_0_data = charls[charls['retin'] == 0]\n",
    "retin_1_data = charls[charls['retin'] == 1]\n",
    "fig, axs = plt.subplots(1, 2, figsize=(10, 5))\n",
    "\n",
    "# Graficar el histograma de la variable \"hrsusu\" cuando no quiere retirarse\n",
    "axs[0].hist(retin_0_data['hrsusu'], bins=10)\n",
    "axs[0].set_title('Horas medias de trabajo, no quiere retirarse')\n",
    "axs[0].set_xlabel('Horas')\n",
    "axs[0].set_ylabel('Frecuencia')\n",
    "\n",
    "# Graficar el histograma de la variable \"hrsusu\" cuando quiere retirarse\n",
    "axs[1].hist(retin_1_data['hrsusu'], bins=10)\n",
    "axs[1].set_title('Horas medias de trabajo, quiere retirarse')\n",
    "axs[1].set_xlabel('Horas')\n",
    "axs[1].set_ylabel('Frecuencia')\n",
    "plt.tight_layout()\n",
    "\n",
    "\n",
    "plt.show()"
   ]
  },
  {
   "cell_type": "markdown",
   "metadata": {},
   "source": [
    "Se puede visualizar que la mayoria de las personas que no quieren retirarse tienen pocas horas en promedio de trabajo diarias, mientras que las que planean retirarse en su mayoria tienen mas horas de trabajo medias, en concreto, en promedio las personas que no planean retirarse trabajan 0,9 horas medias menos que las personas que planean retirarse, por lo cual es posible afirmar a priori que las horas de trabajo explican el deseo de retirarse o no retirarse por parte del individuo."
   ]
  },
  {
   "cell_type": "code",
   "execution_count": 10,
   "metadata": {},
   "outputs": [
    {
     "name": "stdout",
     "output_type": "stream",
     "text": [
      "Estadística Descriptiva para 'age' cuando NO quiere retirarse:\n",
      "count    6031.000000\n",
      "mean       59.249212\n",
      "std         9.603693\n",
      "min        21.000000\n",
      "25%        52.000000\n",
      "50%        59.000000\n",
      "75%        66.000000\n",
      "max        95.000000\n",
      "Name: age, dtype: float64\n",
      "Estadística Descriptiva para 'age' cuando quiere retirarse:\n",
      "count    1124.000000\n",
      "mean       56.672598\n",
      "std         8.242297\n",
      "min        38.000000\n",
      "25%        50.000000\n",
      "50%        56.000000\n",
      "75%        62.000000\n",
      "max        82.000000\n",
      "Name: age, dtype: float64\n"
     ]
    }
   ],
   "source": [
    "# Filtrar los datos por \"retin\" igual a 0 y 1\n",
    "retin_0_data = charls[charls['retin'] == 0]\n",
    "retin_1_data = charls[charls['retin'] == 1]\n",
    "\n",
    "# Realizar la estadística descriptiva para \"age\" en caso de no querer retirarse\n",
    "age_retin_0_stats = retin_0_data['age'].describe()\n",
    "\n",
    "# Realizar la estadística descriptiva para \"age\" en caso de querer retirarse\n",
    "age_retin_1_stats = retin_1_data['age'].describe()\n",
    "\n",
    "# Imprimir los resultados\n",
    "print(\"Estadística Descriptiva para 'age' cuando NO quiere retirarse:\")\n",
    "print(age_retin_0_stats)\n",
    "\n",
    "print(\"Estadística Descriptiva para 'age' cuando quiere retirarse:\")\n",
    "print(age_retin_1_stats)"
   ]
  },
  {
   "cell_type": "code",
   "execution_count": 11,
   "metadata": {},
   "outputs": [
    {
     "ename": "NameError",
     "evalue": "name 'plt' is not defined",
     "output_type": "error",
     "traceback": [
      "\u001b[1;31m---------------------------------------------------------------------------\u001b[0m",
      "\u001b[1;31mNameError\u001b[0m                                 Traceback (most recent call last)",
      "Cell \u001b[1;32mIn[11], line 6\u001b[0m\n\u001b[0;32m      3\u001b[0m age_retin_1 \u001b[38;5;241m=\u001b[39m charls[charls[\u001b[38;5;124m'\u001b[39m\u001b[38;5;124mretin\u001b[39m\u001b[38;5;124m'\u001b[39m] \u001b[38;5;241m==\u001b[39m \u001b[38;5;241m1\u001b[39m][\u001b[38;5;124m'\u001b[39m\u001b[38;5;124mage\u001b[39m\u001b[38;5;124m'\u001b[39m]\n\u001b[0;32m      5\u001b[0m \u001b[38;5;66;03m# Crear figura y ejes\u001b[39;00m\n\u001b[1;32m----> 6\u001b[0m fig, axs \u001b[38;5;241m=\u001b[39m \u001b[43mplt\u001b[49m\u001b[38;5;241m.\u001b[39msubplots(\u001b[38;5;241m1\u001b[39m, \u001b[38;5;241m2\u001b[39m, figsize\u001b[38;5;241m=\u001b[39m(\u001b[38;5;241m10\u001b[39m, \u001b[38;5;241m5\u001b[39m))\n\u001b[0;32m      8\u001b[0m \u001b[38;5;66;03m# Graficar barras para age_retin_0\u001b[39;00m\n\u001b[0;32m      9\u001b[0m axs[\u001b[38;5;241m0\u001b[39m]\u001b[38;5;241m.\u001b[39mbar(age_retin_0\u001b[38;5;241m.\u001b[39mvalue_counts()\u001b[38;5;241m.\u001b[39mindex, age_retin_0\u001b[38;5;241m.\u001b[39mvalue_counts()\u001b[38;5;241m.\u001b[39mvalues)\n",
      "\u001b[1;31mNameError\u001b[0m: name 'plt' is not defined"
     ]
    }
   ],
   "source": [
    "# Filtrar\n",
    "age_retin_0 = charls[charls['retin'] == 0]['age']\n",
    "age_retin_1 = charls[charls['retin'] == 1]['age']\n",
    "\n",
    "# Crear figura y ejes\n",
    "fig, axs = plt.subplots(1, 2, figsize=(10, 5))\n",
    "\n",
    "# Graficar barras para age_retin_0\n",
    "axs[0].bar(age_retin_0.value_counts().index, age_retin_0.value_counts().values)\n",
    "axs[0].set_title('Edades de quienes no quieren retirarse')\n",
    "axs[0].set_xlabel('Edad')\n",
    "axs[0].set_ylabel('Frecuencia')\n",
    "# Graficar barras para age_retin_1\n",
    "axs[1].bar(age_retin_1.value_counts().index, age_retin_1.value_counts().values)\n",
    "axs[1].set_title('Edades de quienes quieren retirarse')\n",
    "axs[1].set_xlabel('Edad')\n",
    "axs[1].set_ylabel('Frecuencia')\n",
    "\n",
    "plt.subplots_adjust(wspace=0.4)\n",
    "plt.show()"
   ]
  },
  {
   "cell_type": "markdown",
   "metadata": {},
   "source": [
    "En promedio, las personas que piensan en retirarse tienen 57 años y las que no, 59 años"
   ]
  },
  {
   "cell_type": "code",
   "execution_count": 12,
   "metadata": {},
   "outputs": [
    {
     "name": "stdout",
     "output_type": "stream",
     "text": [
      "Estadística Descriptiva para 'wealth' cuando NO quiere retirarse:\n",
      "count      6031.000000\n",
      "mean       7185.616813\n",
      "std       30363.855926\n",
      "min           0.000000\n",
      "25%         100.000000\n",
      "50%         500.000000\n",
      "75%        2625.000000\n",
      "max      900100.000000\n",
      "Name: wealth, dtype: float64\n",
      "Estadística Descriptiva para 'wealth' cuando quiere retirarse:\n",
      "count      1124.000000\n",
      "mean      11158.900356\n",
      "std       28903.154210\n",
      "min           0.000000\n",
      "25%         300.000000\n",
      "50%        1000.000000\n",
      "75%        7500.000000\n",
      "max      302000.000000\n",
      "Name: wealth, dtype: float64\n"
     ]
    }
   ],
   "source": [
    "# Filtrar los datos por \"retin\" igual a 0 y 1\n",
    "retin_0_data = charls[charls['retin'] == 0]\n",
    "retin_1_data = charls[charls['retin'] == 1]\n",
    "\n",
    "# Realizar la estadística descriptiva para \"wealth\" en caso de no querer retirarse\n",
    "we_retin_0_stats = retin_0_data['wealth'].describe()\n",
    "\n",
    "# Realizar la estadística descriptiva para \"wealth\" en caso de querer retirarse\n",
    "we_retin_1_stats = retin_1_data['wealth'].describe()\n",
    "\n",
    "# Imprimir los resultados\n",
    "print(\"Estadística Descriptiva para 'wealth' cuando NO quiere retirarse:\")\n",
    "print(we_retin_0_stats)\n",
    "\n",
    "print(\"Estadística Descriptiva para 'wealth' cuando quiere retirarse:\")\n",
    "print(we_retin_1_stats)"
   ]
  },
  {
   "cell_type": "code",
   "execution_count": 13,
   "metadata": {},
   "outputs": [
    {
     "ename": "NameError",
     "evalue": "name 'plt' is not defined",
     "output_type": "error",
     "traceback": [
      "\u001b[1;31m---------------------------------------------------------------------------\u001b[0m",
      "\u001b[1;31mNameError\u001b[0m                                 Traceback (most recent call last)",
      "Cell \u001b[1;32mIn[13], line 4\u001b[0m\n\u001b[0;32m      2\u001b[0m retin_0_data \u001b[38;5;241m=\u001b[39m charls[charls[\u001b[38;5;124m'\u001b[39m\u001b[38;5;124mretin\u001b[39m\u001b[38;5;124m'\u001b[39m] \u001b[38;5;241m==\u001b[39m \u001b[38;5;241m0\u001b[39m]\n\u001b[0;32m      3\u001b[0m retin_1_data \u001b[38;5;241m=\u001b[39m charls[charls[\u001b[38;5;124m'\u001b[39m\u001b[38;5;124mretin\u001b[39m\u001b[38;5;124m'\u001b[39m] \u001b[38;5;241m==\u001b[39m \u001b[38;5;241m1\u001b[39m]\n\u001b[1;32m----> 4\u001b[0m fig, axs \u001b[38;5;241m=\u001b[39m \u001b[43mplt\u001b[49m\u001b[38;5;241m.\u001b[39msubplots(\u001b[38;5;241m1\u001b[39m, \u001b[38;5;241m2\u001b[39m, figsize\u001b[38;5;241m=\u001b[39m(\u001b[38;5;241m10\u001b[39m, \u001b[38;5;241m5\u001b[39m))\n\u001b[0;32m      6\u001b[0m \u001b[38;5;66;03m# Graficar el histograma de la variable \"wealth\" cuando no quiere retirarse\u001b[39;00m\n\u001b[0;32m      7\u001b[0m axs[\u001b[38;5;241m0\u001b[39m]\u001b[38;5;241m.\u001b[39mhist(retin_0_data[\u001b[38;5;124m'\u001b[39m\u001b[38;5;124mwealth\u001b[39m\u001b[38;5;124m'\u001b[39m], bins\u001b[38;5;241m=\u001b[39m\u001b[38;5;241m10\u001b[39m)\n",
      "\u001b[1;31mNameError\u001b[0m: name 'plt' is not defined"
     ]
    }
   ],
   "source": [
    "# Filtrar las filas donde \"retin\" toma el valor de 0 o 1\n",
    "retin_0_data = charls[charls['retin'] == 0]\n",
    "retin_1_data = charls[charls['retin'] == 1]\n",
    "fig, axs = plt.subplots(1, 2, figsize=(10, 5))\n",
    "\n",
    "# Graficar el histograma de la variable \"wealth\" cuando no quiere retirarse\n",
    "axs[0].hist(retin_0_data['wealth'], bins=10)\n",
    "axs[0].set_title('Distribucion de la riqueza no quiere retirarse')\n",
    "axs[0].set_xlabel('Riqueza neta (miles RMB)')\n",
    "axs[0].set_ylabel('Frecuencia')\n",
    "\n",
    "# Graficar el histograma de la variable \"cesd\" cuando quiere retirarse\n",
    "axs[1].hist(retin_1_data['wealth'], bins=10)\n",
    "axs[1].set_title('Distribucion de la riqueza, quiere retirarse')\n",
    "axs[1].set_xlabel('Riqueza neta (miles RMB)')\n",
    "axs[1].set_ylabel('Frecuencia')\n",
    "plt.tight_layout()\n",
    "plt.show()"
   ]
  },
  {
   "cell_type": "markdown",
   "metadata": {},
   "source": [
    "Se puede visualizar que en promedio las personas que tienen mayor riqueza tienen mas interes en retirarse que las que tienen menor riqueza"
   ]
  },
  {
   "cell_type": "markdown",
   "metadata": {},
   "source": [
    "### MCO\n",
    "\n",
    "Se estima en primera instancia una regresion lineal con estimacion de minimos cuadrados ordinarios, y en un principio se pondran todas las variables que no tengan problemas de multicolinealidad para visualizar cuales son y cuales no son significativas. "
   ]
  },
  {
   "cell_type": "code",
   "execution_count": 14,
   "metadata": {},
   "outputs": [
    {
     "ename": "NameError",
     "evalue": "name 'plt' is not defined",
     "output_type": "error",
     "traceback": [
      "\u001b[1;31m---------------------------------------------------------------------------\u001b[0m",
      "\u001b[1;31mNameError\u001b[0m                                 Traceback (most recent call last)",
      "Cell \u001b[1;32mIn[14], line 10\u001b[0m\n\u001b[0;32m      7\u001b[0m correlations \u001b[38;5;241m=\u001b[39m df\u001b[38;5;241m.\u001b[39mcorr()\n\u001b[0;32m      9\u001b[0m \u001b[38;5;66;03m# Crear un heatmap de las correlaciones\u001b[39;00m\n\u001b[1;32m---> 10\u001b[0m \u001b[43mplt\u001b[49m\u001b[38;5;241m.\u001b[39mfigure(figsize\u001b[38;5;241m=\u001b[39m(\u001b[38;5;241m10\u001b[39m, \u001b[38;5;241m8\u001b[39m))\n\u001b[0;32m     11\u001b[0m sns\u001b[38;5;241m.\u001b[39mheatmap(correlations, annot\u001b[38;5;241m=\u001b[39m\u001b[38;5;28;01mTrue\u001b[39;00m, cmap\u001b[38;5;241m=\u001b[39m\u001b[38;5;124m'\u001b[39m\u001b[38;5;124mcoolwarm\u001b[39m\u001b[38;5;124m'\u001b[39m)\n\u001b[0;32m     12\u001b[0m plt\u001b[38;5;241m.\u001b[39mtitle(\u001b[38;5;124m'\u001b[39m\u001b[38;5;124mCorrelaciones de Variables\u001b[39m\u001b[38;5;124m'\u001b[39m)\n",
      "\u001b[1;31mNameError\u001b[0m: name 'plt' is not defined"
     ]
    }
   ],
   "source": [
    "# Seleccionar las variables de interés\n",
    "variables = ['retage', 'cesd', 'child', 'drinkly', 'hrsusu', 'hsize', \n",
    "             'female', 'intmonth', 'married', 'retired', 'schadj', 'urban', 'wealth', 'age', 'retin']\n",
    "df = charls[variables]\n",
    "\n",
    "# Calcular las correlaciones\n",
    "correlations = df.corr()\n",
    "\n",
    "# Crear un heatmap de las correlaciones\n",
    "plt.figure(figsize=(10, 8))\n",
    "sns.heatmap(correlations, annot=True, cmap='coolwarm')\n",
    "plt.title('Correlaciones de Variables')\n",
    "plt.show()"
   ]
  },
  {
   "cell_type": "markdown",
   "metadata": {},
   "source": [
    "### Multicolinealidad\n",
    "\n",
    "Como solo se ve una correlacion alta, correspondiente a la variable \"retage\" con la variable dependiente \"retin\", no hay multicolinealidad, pues no se visualizan correlaciones altas entre las variables explicativas del modelo. La variable drinkly se quitara a pesar de que no tenga una correlacion alta con otra variable explicativa, porque esta causa problemas al querer estimar el modelo de regresion"
   ]
  },
  {
   "cell_type": "code",
   "execution_count": 15,
   "metadata": {},
   "outputs": [
    {
     "ename": "NameError",
     "evalue": "name 'cned' is not defined",
     "output_type": "error",
     "traceback": [
      "\u001b[1;31m---------------------------------------------------------------------------\u001b[0m",
      "\u001b[1;31mNameError\u001b[0m                                 Traceback (most recent call last)",
      "Cell \u001b[1;32mIn[15], line 1\u001b[0m\n\u001b[1;32m----> 1\u001b[0m y\u001b[38;5;241m=\u001b[39m\u001b[43mcned\u001b[49m[\u001b[38;5;124m'\u001b[39m\u001b[38;5;124mretin\u001b[39m\u001b[38;5;124m'\u001b[39m]\n\u001b[0;32m      2\u001b[0m X\u001b[38;5;241m=\u001b[39mcned[[\u001b[38;5;124m'\u001b[39m\u001b[38;5;124mretage\u001b[39m\u001b[38;5;124m'\u001b[39m,\u001b[38;5;124m'\u001b[39m\u001b[38;5;124mcesd\u001b[39m\u001b[38;5;124m'\u001b[39m,\u001b[38;5;124m'\u001b[39m\u001b[38;5;124mchild\u001b[39m\u001b[38;5;124m'\u001b[39m,\u001b[38;5;124m'\u001b[39m\u001b[38;5;124mhrsusu\u001b[39m\u001b[38;5;124m'\u001b[39m,\u001b[38;5;124m'\u001b[39m\u001b[38;5;124mhsize\u001b[39m\u001b[38;5;124m'\u001b[39m,\u001b[38;5;124m'\u001b[39m\u001b[38;5;124mfemale\u001b[39m\u001b[38;5;124m'\u001b[39m,\u001b[38;5;124m'\u001b[39m\u001b[38;5;124mintmonth\u001b[39m\u001b[38;5;124m'\u001b[39m,\u001b[38;5;124m'\u001b[39m\u001b[38;5;124mmarried\u001b[39m\u001b[38;5;124m'\u001b[39m,\u001b[38;5;124m'\u001b[39m\u001b[38;5;124mretired\u001b[39m\u001b[38;5;124m'\u001b[39m,\u001b[38;5;124m'\u001b[39m\u001b[38;5;124mschadj\u001b[39m\u001b[38;5;124m'\u001b[39m,\u001b[38;5;124m'\u001b[39m\u001b[38;5;124murban\u001b[39m\u001b[38;5;124m'\u001b[39m,\u001b[38;5;124m'\u001b[39m\u001b[38;5;124mwealth\u001b[39m\u001b[38;5;124m'\u001b[39m,\n\u001b[0;32m      3\u001b[0m        \u001b[38;5;124m'\u001b[39m\u001b[38;5;124mage\u001b[39m\u001b[38;5;124m'\u001b[39m]]\n\u001b[0;32m      4\u001b[0m X\u001b[38;5;241m=\u001b[39msm\u001b[38;5;241m.\u001b[39madd_constant(X)\n",
      "\u001b[1;31mNameError\u001b[0m: name 'cned' is not defined"
     ]
    }
   ],
   "source": [
    "y=cned['retin']\n",
    "X=cned[['retage','cesd','child','hrsusu','hsize','female','intmonth','married','retired','schadj','urban','wealth',\n",
    "       'age']]\n",
    "X=sm.add_constant(X)\n",
    "model = sm.OLS(y, X)\n",
    "results = model.fit()\n",
    "print(results.summary())"
   ]
  },
  {
   "cell_type": "markdown",
   "metadata": {},
   "source": [
    "### Modelo lineal inicial\n",
    "En el modelo inicial, se puede visualizar que por el valor grande del estadistico F, el modelo es significativo, lo que quiere decir que existe al menos una variable que explica la variacion de la variable dependiente, que en este caso es \"retin\", lo que se interpreta que las variables en general explican la decision de retirarse o no retirarse. En concreto, la variabilidad de retirarse o no retirarse es explicada en un 64.7% por las variables del modelo. Sin embargo, tal como los indican las pruebas de sifnificancia individual, las variables cesd, hrsusu, hsize, intmonth, urban y wealth no son significativas, por lo que se procedera a quitarlas del modelo en el modelo lineal final y al mismo tiempo comparar los resultados. Cabe señalar que tambien se quitara la variable \"retired\" del modelo, debido a que no tiene sentido aplicar una analisis de si la persona se quiere retirar si ya esta retirada. Ademas, hay evidencia de autocorrelación positiva en los errores del modelo estimado por MCO, por lo que es posible afirmar que los errores del modelo están correlacionados positivamente, lo que puede indicar que hay un patrón sistemático de dependencia temporal en los errores del modelo."
   ]
  },
  {
   "cell_type": "code",
   "execution_count": 159,
   "metadata": {},
   "outputs": [
    {
     "name": "stdout",
     "output_type": "stream",
     "text": [
      "                            OLS Regression Results                            \n",
      "==============================================================================\n",
      "Dep. Variable:                  retin   R-squared:                       0.638\n",
      "Model:                            OLS   Adj. R-squared:                  0.638\n",
      "Method:                 Least Squares   F-statistic:                     2376.\n",
      "Date:                Thu, 06 Apr 2023   Prob (F-statistic):               0.00\n",
      "Time:                        23:57:23   Log-Likelihood:                 675.60\n",
      "No. Observations:                8080   AIC:                            -1337.\n",
      "Df Residuals:                    8073   BIC:                            -1288.\n",
      "Df Model:                           6                                         \n",
      "Covariance Type:            nonrobust                                         \n",
      "==============================================================================\n",
      "                 coef    std err          t      P>|t|      [0.025      0.975]\n",
      "------------------------------------------------------------------------------\n",
      "const         -0.1054      0.023     -4.498      0.000      -0.151      -0.059\n",
      "retage         0.0706      0.001    117.070      0.000       0.069       0.072\n",
      "child         -0.0070      0.002     -3.426      0.001      -0.011      -0.003\n",
      "female        -0.0281      0.005     -5.142      0.000      -0.039      -0.017\n",
      "married        0.0278      0.008      3.439      0.001       0.012       0.044\n",
      "schadj         0.0013      0.001      1.630      0.103      -0.000       0.003\n",
      "age            0.0029      0.000      8.592      0.000       0.002       0.004\n",
      "==============================================================================\n",
      "Omnibus:                     3160.688   Durbin-Watson:                   1.769\n",
      "Prob(Omnibus):                  0.000   Jarque-Bera (JB):            21545.436\n",
      "Skew:                           1.721   Prob(JB):                         0.00\n",
      "Kurtosis:                      10.221   Cond. No.                         572.\n",
      "==============================================================================\n",
      "\n",
      "Notes:\n",
      "[1] Standard Errors assume that the covariance matrix of the errors is correctly specified.\n"
     ]
    }
   ],
   "source": [
    "y=cned['retin']\n",
    "X=cned[['retage','child','female','married','schadj','age']]\n",
    "X=sm.add_constant(X)\n",
    "model = sm.OLS(y, X)\n",
    "results = model.fit()\n",
    "print(results.summary())"
   ]
  },
  {
   "cell_type": "markdown",
   "metadata": {},
   "source": [
    "### Modelo lineal final\n",
    "Al igual que en el modelo lineal inicial, el modelo es significativo, pero, se puede visualizar que a diferencia del modelo lineal inicial, el coeficiente de determinacion es igual al coeficiente de determinacion ajustado, lo que significa que no hay penalización por la inclusión de variables adicionales en el modelo, lo cual puede indica que todas las variables independientes, correspondientes a en cuantos años planea retirarse, numero de hijos, si es mujer u hombre, si esta casado/a o no, los años de escolaridad, y la edad; están contribuyendo de manera significativa a la explicación de la variabilidad de elegir retirarse o no retirarse. Sigue habiendo un patrón sistemático de dependencia temporal en los errores del modelo."
   ]
  },
  {
   "cell_type": "markdown",
   "metadata": {},
   "source": [
    "### Probit"
   ]
  },
  {
   "cell_type": "code",
   "execution_count": 16,
   "metadata": {},
   "outputs": [
    {
     "ename": "NameError",
     "evalue": "name 'sm' is not defined",
     "output_type": "error",
     "traceback": [
      "\u001b[1;31m---------------------------------------------------------------------------\u001b[0m",
      "\u001b[1;31mNameError\u001b[0m                                 Traceback (most recent call last)",
      "Cell \u001b[1;32mIn[16], line 5\u001b[0m\n\u001b[0;32m      1\u001b[0m y \u001b[38;5;241m=\u001b[39m charls[\u001b[38;5;124m'\u001b[39m\u001b[38;5;124mretin\u001b[39m\u001b[38;5;124m'\u001b[39m]\n\u001b[0;32m      2\u001b[0m X \u001b[38;5;241m=\u001b[39m charls[[\u001b[38;5;124m'\u001b[39m\u001b[38;5;124mcesd\u001b[39m\u001b[38;5;124m'\u001b[39m, \u001b[38;5;124m'\u001b[39m\u001b[38;5;124mchild\u001b[39m\u001b[38;5;124m'\u001b[39m, \u001b[38;5;124m'\u001b[39m\u001b[38;5;124mhrsusu\u001b[39m\u001b[38;5;124m'\u001b[39m, \u001b[38;5;124m'\u001b[39m\u001b[38;5;124mhsize\u001b[39m\u001b[38;5;124m'\u001b[39m, \n\u001b[0;32m      3\u001b[0m             \u001b[38;5;124m'\u001b[39m\u001b[38;5;124mfemale\u001b[39m\u001b[38;5;124m'\u001b[39m, \u001b[38;5;124m'\u001b[39m\u001b[38;5;124mintmonth\u001b[39m\u001b[38;5;124m'\u001b[39m, \u001b[38;5;124m'\u001b[39m\u001b[38;5;124mmarried\u001b[39m\u001b[38;5;124m'\u001b[39m, \u001b[38;5;124m'\u001b[39m\u001b[38;5;124mretired\u001b[39m\u001b[38;5;124m'\u001b[39m, \u001b[38;5;124m'\u001b[39m\u001b[38;5;124mschadj\u001b[39m\u001b[38;5;124m'\u001b[39m, \u001b[38;5;124m'\u001b[39m\u001b[38;5;124murban\u001b[39m\u001b[38;5;124m'\u001b[39m, \u001b[38;5;124m'\u001b[39m\u001b[38;5;124mwealth\u001b[39m\u001b[38;5;124m'\u001b[39m, \u001b[38;5;124m'\u001b[39m\u001b[38;5;124mage\u001b[39m\u001b[38;5;124m'\u001b[39m]]\n\u001b[1;32m----> 5\u001b[0m model \u001b[38;5;241m=\u001b[39m \u001b[43msm\u001b[49m\u001b[38;5;241m.\u001b[39mProbit(y, X)\n\u001b[0;32m      6\u001b[0m probit_model \u001b[38;5;241m=\u001b[39m model\u001b[38;5;241m.\u001b[39mfit()\n\u001b[0;32m      7\u001b[0m \u001b[38;5;28mprint\u001b[39m(probit_model\u001b[38;5;241m.\u001b[39msummary())\n",
      "\u001b[1;31mNameError\u001b[0m: name 'sm' is not defined"
     ]
    }
   ],
   "source": [
    "y = charls['retin']\n",
    "X = charls[['cesd', 'child', 'hrsusu', 'hsize', \n",
    "            'female', 'intmonth', 'married', 'retired', 'schadj', 'urban', 'wealth', 'age']]\n",
    "\n",
    "model = sm.Probit(y, X)\n",
    "probit_model = model.fit()\n",
    "print(probit_model.summary())\n",
    "\n",
    "mfx = probit_model.get_margeff()\n",
    "print(mfx.summary())\n",
    "print(probit_model.mle_retvals)"
   ]
  },
  {
   "cell_type": "code",
   "execution_count": null,
   "metadata": {},
   "outputs": [],
   "source": []
  },
  {
   "cell_type": "markdown",
   "metadata": {},
   "source": [
    "### Logit"
   ]
  },
  {
   "cell_type": "code",
   "execution_count": 175,
   "metadata": {},
   "outputs": [
    {
     "name": "stdout",
     "output_type": "stream",
     "text": [
      "Warning: Maximum number of iterations has been exceeded.\n",
      "         Current function value: 0.000000\n",
      "         Iterations: 35\n",
      "                           Logit Regression Results                           \n",
      "==============================================================================\n",
      "Dep. Variable:                  retin   No. Observations:                 7155\n",
      "Model:                          Logit   Df Residuals:                     7142\n",
      "Method:                           MLE   Df Model:                           12\n",
      "Date:                Fri, 07 Apr 2023   Pseudo R-squ.:                   1.000\n",
      "Time:                        00:15:29   Log-Likelihood:            -1.4846e-05\n",
      "converged:                      False   LL-Null:                       -3111.1\n",
      "Covariance Type:            nonrobust   LLR p-value:                     0.000\n",
      "==============================================================================\n",
      "                 coef    std err          z      P>|z|      [0.025      0.975]\n",
      "------------------------------------------------------------------------------\n",
      "retage        53.8890   5798.447      0.009      0.993   -1.13e+04    1.14e+04\n",
      "cesd           0.0823    104.750      0.001      0.999    -205.223     205.388\n",
      "child          0.6553    534.684      0.001      0.999   -1047.305    1048.616\n",
      "hrsusu         0.6456    512.080      0.001      0.999   -1003.013    1004.304\n",
      "hsize         -0.5631    247.646     -0.002      0.998    -485.940     484.813\n",
      "female        -2.0553   1790.348     -0.001      0.999   -3511.074    3506.963\n",
      "intmonth      -0.2347    545.841     -0.000      1.000   -1070.064    1069.594\n",
      "married        0.8527   1772.199      0.000      1.000   -3472.593    3474.298\n",
      "retired       -3.9114   9302.773     -0.000      1.000   -1.82e+04    1.82e+04\n",
      "schadj        -0.2817    273.471     -0.001      0.999    -536.275     535.712\n",
      "urban          4.5429   3199.308      0.001      0.999   -6265.986    6275.072\n",
      "wealth      6.203e-06      0.028      0.000      1.000      -0.054       0.054\n",
      "age           -0.5200     89.931     -0.006      0.995    -176.781     175.741\n",
      "==============================================================================\n",
      "\n",
      "Complete Separation: The results show that there iscomplete separation.\n",
      "In this case the Maximum Likelihood Estimator does not exist and the parameters\n",
      "are not identified.\n",
      "        Logit Marginal Effects       \n",
      "=====================================\n",
      "Dep. Variable:                  retin\n",
      "Method:                          dydx\n",
      "At:                           overall\n",
      "==============================================================================\n",
      "                dy/dx    std err          z      P>|z|      [0.025      0.975]\n",
      "------------------------------------------------------------------------------\n",
      "retage      1.118e-07   3.01e-05      0.004      0.997   -5.88e-05     5.9e-05\n",
      "cesd        1.708e-10   2.22e-07      0.001      0.999   -4.34e-07    4.34e-07\n",
      "child        1.36e-09   1.16e-06      0.001      0.999   -2.27e-06    2.28e-06\n",
      "hrsusu       1.34e-09   1.12e-06      0.001      0.999   -2.19e-06    2.19e-06\n",
      "hsize      -1.168e-09   5.92e-07     -0.002      0.998   -1.16e-06    1.16e-06\n",
      "female     -4.265e-09   3.85e-06     -0.001      0.999   -7.55e-06    7.54e-06\n",
      "intmonth   -4.871e-10   1.14e-06     -0.000      1.000   -2.23e-06    2.23e-06\n",
      "married     1.769e-09   3.72e-06      0.000      1.000   -7.28e-06    7.29e-06\n",
      "retired    -8.116e-09   1.94e-05     -0.000      1.000   -3.81e-05     3.8e-05\n",
      "schadj     -5.846e-10   5.84e-07     -0.001      0.999   -1.15e-06    1.14e-06\n",
      "urban       9.426e-09   7.03e-06      0.001      0.999   -1.38e-05    1.38e-05\n",
      "wealth      1.287e-14   5.75e-11      0.000      1.000   -1.13e-10    1.13e-10\n",
      "age        -1.079e-09   3.29e-07     -0.003      0.997   -6.46e-07    6.44e-07\n",
      "==============================================================================\n"
     ]
    },
    {
     "name": "stderr",
     "output_type": "stream",
     "text": [
      "C:\\ProgramData\\Anaconda3\\lib\\site-packages\\statsmodels\\base\\model.py:604: ConvergenceWarning: Maximum Likelihood optimization failed to converge. Check mle_retvals\n",
      "  warnings.warn(\"Maximum Likelihood optimization failed to \"\n"
     ]
    }
   ],
   "source": [
    "y = charls['retin']\n",
    "X = charls[['retage', 'cesd', 'child', 'hrsusu', 'hsize', \n",
    "            'female', 'intmonth', 'married', 'retired', 'schadj', 'urban', 'wealth', 'age']]\n",
    "\n",
    "model = sm.Logit(y, X)\n",
    "logit_model = model.fit()\n",
    "print(logit_model.summary())\n",
    "\n",
    "mfx = logit_model.get_margeff()\n",
    "print(mfx.summary())"
   ]
  },
  {
   "cell_type": "markdown",
   "metadata": {},
   "source": [
    "### Poisson"
   ]
  },
  {
   "cell_type": "code",
   "execution_count": 6,
   "metadata": {},
   "outputs": [
    {
     "data": {
      "text/plain": [
       "0    138\n",
       "1    104\n",
       "3    438\n",
       "4    148\n",
       "5    383\n",
       "Name: ingreso, dtype: int64"
      ]
     },
     "execution_count": 6,
     "metadata": {},
     "output_type": "execute_result"
    },
    {
     "data": {
      "image/png": "[encoded data removed]",
      "text/plain": [
       "<Figure size 640x480 with 1 Axes>"
      ]
     },
     "metadata": {},
     "output_type": "display_data"
    }
   ],
   "source": [
    "subset=cned.loc[cned['ingreso']<500]\n",
    "y=subset['ingreso']\n",
    "X=subset[['puntaje','nem','vacantes','year']]\n",
    "plt.hist(subset.ingreso)\n",
    "subset.ingreso.head()"
   ]
  },
  {
   "cell_type": "code",
   "execution_count": 7,
   "metadata": {},
   "outputs": [
    {
     "name": "stdout",
     "output_type": "stream",
     "text": [
      "                 Generalized Linear Model Regression Results                  \n",
      "==============================================================================\n",
      "Dep. Variable:                ingreso   No. Observations:                 8041\n",
      "Model:                            GLM   Df Residuals:                     8037\n",
      "Model Family:                 Poisson   Df Model:                            3\n",
      "Link Function:                    Log   Scale:                          1.0000\n",
      "Method:                          IRLS   Log-Likelihood:            -2.0395e+05\n",
      "Date:                Mon, 26 Sep 2022   Deviance:                   3.5249e+05\n",
      "Time:                        10:16:58   Pearson chi2:                 3.16e+05\n",
      "No. Iterations:                     6   Pseudo R-squ. (CS):              1.000\n",
      "Covariance Type:            nonrobust                                         \n",
      "==============================================================================\n",
      "                 coef    std err          z      P>|z|      [0.025      0.975]\n",
      "------------------------------------------------------------------------------\n",
      "puntaje        0.0002   3.49e-05      5.285      0.000       0.000       0.000\n",
      "nem            0.0031   3.05e-05    100.611      0.000       0.003       0.003\n",
      "vacantes       0.0111   2.13e-05    518.682      0.000       0.011       0.011\n",
      "year           0.0014      4e-06    348.067      0.000       0.001       0.001\n",
      "==============================================================================\n"
     ]
    }
   ],
   "source": [
    "poisson=sm.GLM(y,X,family=sm.families.Poisson()).fit()\n",
    "print(poisson.summary())"
   ]
  },
  {
   "cell_type": "code",
   "execution_count": 8,
   "metadata": {},
   "outputs": [
    {
     "name": "stdout",
     "output_type": "stream",
     "text": [
      "fitted lambda\n",
      "[208.98645684 203.53777853 438.06479834 ...  81.22697075  96.58979789\n",
      "  95.13085338]\n"
     ]
    }
   ],
   "source": [
    "print(\"fitted lambda\")\n",
    "print(poisson.mu)"
   ]
  },
  {
   "cell_type": "markdown",
   "metadata": {},
   "source": [
    "### Negative Binomial"
   ]
  },
  {
   "cell_type": "code",
   "execution_count": 10,
   "metadata": {},
   "outputs": [
    {
     "name": "stdout",
     "output_type": "stream",
     "text": [
      "                 Generalized Linear Model Regression Results                  \n",
      "==============================================================================\n",
      "Dep. Variable:                ingreso   No. Observations:                 8041\n",
      "Model:                            GLM   Df Residuals:                     8037\n",
      "Model Family:        NegativeBinomial   Df Model:                            3\n",
      "Link Function:                    Log   Scale:                          1.0000\n",
      "Method:                          IRLS   Log-Likelihood:                -49790.\n",
      "Date:                Mon, 26 Sep 2022   Deviance:                       2200.2\n",
      "Time:                        10:49:21   Pearson chi2:                 1.56e+03\n",
      "No. Iterations:                    12   Pseudo R-squ. (CS):             0.2119\n",
      "Covariance Type:            nonrobust                                         \n",
      "==============================================================================\n",
      "                 coef    std err          z      P>|z|      [0.025      0.975]\n",
      "------------------------------------------------------------------------------\n",
      "puntaje        0.0002      0.000      0.355      0.723      -0.001       0.001\n",
      "nem            0.0030      0.000      7.527      0.000       0.002       0.004\n",
      "vacantes       0.0184      0.000     43.479      0.000       0.018       0.019\n",
      "year           0.0012   5.85e-05     20.824      0.000       0.001       0.001\n",
      "==============================================================================\n"
     ]
    }
   ],
   "source": [
    "negbin=sm.GLM(y,X,family=sm.families.NegativeBinomial()).fit()\n",
    "print(negbin.summary())"
   ]
  },
  {
   "cell_type": "code",
   "execution_count": 10,
   "metadata": {},
   "outputs": [
    {
     "name": "stdout",
     "output_type": "stream",
     "text": [
      "fitted lambda\n",
      "[124.73205222 121.41207007 154.07280363 ...  68.35326312  73.99860129\n",
      "  71.20441307]\n"
     ]
    }
   ],
   "source": [
    "print(\"fitted lambda\")\n",
    "print(negbin.mu)"
   ]
  },
  {
   "cell_type": "markdown",
   "metadata": {},
   "source": [
    "### Test overdispersion\n",
    "\n",
    "A simple test for overdispersion can be determined with the results of the Poisson model, using the ratio of Pearson chi2 / Df Residuals. A value larger than 1 indicates overdispersion. In the case above (6), data suggets overdispersion.\n",
    "\n",
    "The Negative Binomial model estimated above is using a value of $\\theta$ (or $\\alpha=1/\\theta$) equal to 1. In order to determine the appropiate value of $\\alpha$, you can estimate a simple regression using the output of the Poisson model:\n",
    "\n",
    "1. Construct the following variable aux=$[(y-\\lambda)^2-\\lambda]/\\lambda$\n",
    "2. Regress the variable aux with $\\lambda$ as the only explanatory variable (no constant)\n",
    "3. The estimated value is an appropiate guess for $\\alpha=1/\\theta$\n",
    "\n",
    "In the model of the previous section, just use the options on sm.families.NegativeBinomial, in order to manually enter the value of alpha. See example below."
   ]
  },
  {
   "cell_type": "code",
   "execution_count": 9,
   "metadata": {},
   "outputs": [
    {
     "name": "stdout",
     "output_type": "stream",
     "text": [
      "                                 OLS Regression Results                                \n",
      "=======================================================================================\n",
      "Dep. Variable:                ingreso   R-squared (uncentered):                   0.396\n",
      "Model:                            OLS   Adj. R-squared (uncentered):              0.396\n",
      "Method:                 Least Squares   F-statistic:                              5275.\n",
      "Date:                Mon, 26 Sep 2022   Prob (F-statistic):                        0.00\n",
      "Time:                        10:17:03   Log-Likelihood:                         -44571.\n",
      "No. Observations:                8041   AIC:                                  8.914e+04\n",
      "Df Residuals:                    8040   BIC:                                  8.915e+04\n",
      "Df Model:                           1                                                  \n",
      "Covariance Type:            nonrobust                                                  \n",
      "==============================================================================\n",
      "                 coef    std err          t      P>|t|      [0.025      0.975]\n",
      "------------------------------------------------------------------------------\n",
      "x1             0.2208      0.003     72.631      0.000       0.215       0.227\n",
      "==============================================================================\n",
      "Omnibus:                    10267.981   Durbin-Watson:                   1.652\n",
      "Prob(Omnibus):                  0.000   Jarque-Bera (JB):          4810468.508\n",
      "Skew:                           6.647   Prob(JB):                         0.00\n",
      "Kurtosis:                     122.084   Cond. No.                         1.00\n",
      "==============================================================================\n",
      "\n",
      "Notes:\n",
      "[1] R² is computed without centering (uncentered) since the model does not contain a constant.\n",
      "[2] Standard Errors assume that the covariance matrix of the errors is correctly specified.\n"
     ]
    }
   ],
   "source": [
    "aux=((y-poisson.mu)**2-poisson.mu)/poisson.mu\n",
    "auxr=sm.OLS(aux,poisson.mu).fit()\n",
    "print(auxr.summary())"
   ]
  },
  {
   "cell_type": "code",
   "execution_count": 29,
   "metadata": {},
   "outputs": [
    {
     "name": "stdout",
     "output_type": "stream",
     "text": [
      "                 Generalized Linear Model Regression Results                  \n",
      "==============================================================================\n",
      "Dep. Variable:                ingreso   No. Observations:                 8041\n",
      "Model:                            GLM   Df Residuals:                     8037\n",
      "Model Family:        NegativeBinomial   Df Model:                            3\n",
      "Link Function:                    Log   Scale:                          1.0000\n",
      "Method:                          IRLS   Log-Likelihood:                -47029.\n",
      "Date:                Thu, 08 Sep 2022   Deviance:                       9596.2\n",
      "Time:                        21:53:44   Pearson chi2:                 6.89e+03\n",
      "No. Iterations:                    13   Pseudo R-squ. (CS):             0.6530\n",
      "Covariance Type:            nonrobust                                         \n",
      "==============================================================================\n",
      "                 coef    std err          z      P>|z|      [0.025      0.975]\n",
      "------------------------------------------------------------------------------\n",
      "puntaje        0.0001      0.000      0.649      0.516      -0.000       0.001\n",
      "nem            0.0030      0.000     15.906      0.000       0.003       0.003\n",
      "vacantes       0.0183      0.000     91.448      0.000       0.018       0.019\n",
      "year           0.0012   2.78e-05     44.007      0.000       0.001       0.001\n",
      "==============================================================================\n"
     ]
    }
   ],
   "source": [
    "negbin=sm.GLM(y,X,family=sm.families.NegativeBinomial(alpha=0.22)).fit()\n",
    "print(negbin.summary())"
   ]
  }
 ],
 "metadata": {
  "hide_input": false,
  "kernelspec": {
   "display_name": "Python 3 (ipykernel)",
   "language": "python",
   "name": "python3"
  },
  "language_info": {
   "codemirror_mode": {
    "name": "ipython",
    "version": 3
   },
   "file_extension": ".py",
   "mimetype": "text/x-python",
   "name": "python",
   "nbconvert_exporter": "python",
   "pygments_lexer": "ipython3",
   "version": "3.9.16"
  },
  "latex_envs": {
   "LaTeX_envs_menu_present": true,
   "autoclose": true,
   "autocomplete": true,
   "bibliofile": "biblio.bib",
   "cite_by": "apalike",
   "current_citInitial": 1,
   "eqLabelWithNumbers": true,
   "eqNumInitial": 1,
   "hotkeys": {
    "equation": "Ctrl-E",
    "itemize": "Ctrl-I"
   },
   "labels_anchors": false,
   "latex_user_defs": false,
   "report_style_numbering": false,
   "user_envs_cfg": false
  },
  "toc": {
   "base_numbering": 1,
   "nav_menu": {},
   "number_sections": true,
   "sideBar": true,
   "skip_h1_title": true,
   "title_cell": "Table of Contents",
   "title_sidebar": "Contents",
   "toc_cell": false,
   "toc_position": {
    "height": "calc(100% - 180px)",
    "left": "10px",
    "top": "150px",
    "width": "165px"
   },
   "toc_section_display": true,
   "toc_window_display": true
  }
 },
 "nbformat": 4,
 "nbformat_minor": 2
}
