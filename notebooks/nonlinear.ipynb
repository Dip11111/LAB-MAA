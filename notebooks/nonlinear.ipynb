{
 "cells": [
  {
   "cell_type": "markdown",
   "metadata": {},
   "source": [
    "<font size=\"5\">Section 2: non linear models</font>"
   ]
  },
  {
   "cell_type": "markdown",
   "metadata": {},
   "source": [
    "### Housekeeping\n",
    "\n",
    "#### import libraries\n",
    "\n",
    "Pandas for data management, statsmodels, numpy and sklearn for analysis, matplotlib for visualization. Other libraries as needed for specific tasks (e.g. semopy for SEM). Remember to use the bash terminal or the enviroment manager to add libraries.\n",
    "\n",
    "#### read data\n",
    "\n",
    "Read data files using pandas as noted below. We can clean and organize data in many ways (for example, using the **dropna** command over a dataset).\n",
    "\n",
    "#### describe data\n",
    "\n",
    "There are many was to analyze data and do descriptive statistics. A good command to start is ***head***, to describe a section of the data.\n"
   ]
  },
  {
   "cell_type": "code",
   "execution_count": 7,
   "metadata": {},
   "outputs": [],
   "source": [
    "import numpy as np\n",
    "import pandas as pd\n",
    "import matplotlib.pyplot as plt\n",
    "import statsmodels.api as sm\n",
    "import statsmodels.formula.api as smf\n",
    "import sklearn\n",
    "import scipy \n",
    "from scipy.stats import nbinom\n",
    "import seaborn as sns\n",
    "from statsmodels.iolib.summary2 import summary_col\n",
    "\n",
    "%matplotlib inline"
   ]
  },
  {
   "cell_type": "code",
   "execution_count": 8,
   "metadata": {},
   "outputs": [],
   "source": [
    "# higher ed data\n",
    "demre = pd.read_csv('../data/Adm2024.csv', delimiter=\";\")\n",
    "demre.dropna(inplace=True)\n"
   ]
  },
  {
   "cell_type": "code",
   "execution_count": 9,
   "metadata": {},
   "outputs": [
    {
     "data": {
      "application/vnd.microsoft.datawrangler.viewer.v0+json": {
       "columns": [
        {
         "name": "index",
         "rawType": "int64",
         "type": "integer"
        },
        {
         "name": "ID_aux",
         "rawType": "object",
         "type": "string"
        },
        {
         "name": "CODIGO_UNIV",
         "rawType": "int64",
         "type": "integer"
        },
        {
         "name": "CODIGO",
         "rawType": "int64",
         "type": "integer"
        },
        {
         "name": "VIA",
         "rawType": "int64",
         "type": "integer"
        },
        {
         "name": "PREFERENCIA",
         "rawType": "int64",
         "type": "integer"
        },
        {
         "name": "PTJE_POND",
         "rawType": "object",
         "type": "string"
        },
        {
         "name": "TIPO_MATRICULA",
         "rawType": "int64",
         "type": "integer"
        }
       ],
       "conversionMethod": "pd.DataFrame",
       "ref": "ca0a55ac-6bd0-47cc-84d1-5e239cba18fc",
       "rows": [
        [
         "0",
         "id_690126976014",
         "51",
         "51111",
         "1",
         "1",
         "709,9",
         "1"
        ],
        [
         "1",
         "id_831408370144",
         "18",
         "18075",
         "1",
         "1",
         "713,45",
         "1"
        ],
        [
         "2",
         "id_752607579265",
         "44",
         "44049",
         "1",
         "1",
         "876,1",
         "1"
        ],
        [
         "3",
         "id_772307770236",
         "21",
         "21043",
         "1",
         "1",
         "643,3",
         "2"
        ],
        [
         "4",
         "id_481904877199",
         "41",
         "41067",
         "1",
         "1",
         "638,7",
         "1"
        ]
       ],
       "shape": {
        "columns": 7,
        "rows": 5
       }
      },
      "text/html": [
       "<div>\n",
       "<style scoped>\n",
       "    .dataframe tbody tr th:only-of-type {\n",
       "        vertical-align: middle;\n",
       "    }\n",
       "\n",
       "    .dataframe tbody tr th {\n",
       "        vertical-align: top;\n",
       "    }\n",
       "\n",
       "    .dataframe thead th {\n",
       "        text-align: right;\n",
       "    }\n",
       "</style>\n",
       "<table border=\"1\" class=\"dataframe\">\n",
       "  <thead>\n",
       "    <tr style=\"text-align: right;\">\n",
       "      <th></th>\n",
       "      <th>ID_aux</th>\n",
       "      <th>CODIGO_UNIV</th>\n",
       "      <th>CODIGO</th>\n",
       "      <th>VIA</th>\n",
       "      <th>PREFERENCIA</th>\n",
       "      <th>PTJE_POND</th>\n",
       "      <th>TIPO_MATRICULA</th>\n",
       "    </tr>\n",
       "  </thead>\n",
       "  <tbody>\n",
       "    <tr>\n",
       "      <th>0</th>\n",
       "      <td>id_690126976014</td>\n",
       "      <td>51</td>\n",
       "      <td>51111</td>\n",
       "      <td>1</td>\n",
       "      <td>1</td>\n",
       "      <td>709,9</td>\n",
       "      <td>1</td>\n",
       "    </tr>\n",
       "    <tr>\n",
       "      <th>1</th>\n",
       "      <td>id_831408370144</td>\n",
       "      <td>18</td>\n",
       "      <td>18075</td>\n",
       "      <td>1</td>\n",
       "      <td>1</td>\n",
       "      <td>713,45</td>\n",
       "      <td>1</td>\n",
       "    </tr>\n",
       "    <tr>\n",
       "      <th>2</th>\n",
       "      <td>id_752607579265</td>\n",
       "      <td>44</td>\n",
       "      <td>44049</td>\n",
       "      <td>1</td>\n",
       "      <td>1</td>\n",
       "      <td>876,1</td>\n",
       "      <td>1</td>\n",
       "    </tr>\n",
       "    <tr>\n",
       "      <th>3</th>\n",
       "      <td>id_772307770236</td>\n",
       "      <td>21</td>\n",
       "      <td>21043</td>\n",
       "      <td>1</td>\n",
       "      <td>1</td>\n",
       "      <td>643,3</td>\n",
       "      <td>2</td>\n",
       "    </tr>\n",
       "    <tr>\n",
       "      <th>4</th>\n",
       "      <td>id_481904877199</td>\n",
       "      <td>41</td>\n",
       "      <td>41067</td>\n",
       "      <td>1</td>\n",
       "      <td>1</td>\n",
       "      <td>638,7</td>\n",
       "      <td>1</td>\n",
       "    </tr>\n",
       "  </tbody>\n",
       "</table>\n",
       "</div>"
      ],
      "text/plain": [
       "            ID_aux  CODIGO_UNIV  CODIGO  VIA  PREFERENCIA PTJE_POND  \\\n",
       "0  id_690126976014           51   51111    1            1     709,9   \n",
       "1  id_831408370144           18   18075    1            1    713,45   \n",
       "2  id_752607579265           44   44049    1            1     876,1   \n",
       "3  id_772307770236           21   21043    1            1     643,3   \n",
       "4  id_481904877199           41   41067    1            1     638,7   \n",
       "\n",
       "   TIPO_MATRICULA  \n",
       "0               1  \n",
       "1               1  \n",
       "2               1  \n",
       "3               2  \n",
       "4               1  "
      ]
     },
     "execution_count": 9,
     "metadata": {},
     "output_type": "execute_result"
    }
   ],
   "source": [
    "demre.reset_index(drop=True, inplace=True)\n",
    "demre.head()"
   ]
  },
  {
   "cell_type": "code",
   "execution_count": null,
   "metadata": {},
   "outputs": [
    {
     "data": {
      "text/plain": [
       "<matplotlib.collections.PathCollection at 0x1c33bea5a60>"
      ]
     },
     "execution_count": 10,
     "metadata": {},
     "output_type": "execute_result"
    }
   ],
   "source": [
    "plt.scatter(cned['PREFERENCIA'],cned['PTJE_POND'])"
   ]
  },
  {
   "cell_type": "markdown",
   "metadata": {},
   "source": [
    "### OLS\n",
    "\n",
    "We can use statsmodels to estimate a simple OLS regression (linear probability model). "
   ]
  },
  {
   "cell_type": "code",
   "execution_count": 21,
   "metadata": {},
   "outputs": [
    {
     "name": "stdout",
     "output_type": "stream",
     "text": [
      "                            OLS Regression Results                            \n",
      "==============================================================================\n",
      "Dep. Variable:                   stem   R-squared:                       0.002\n",
      "Model:                            OLS   Adj. R-squared:                  0.002\n",
      "Method:                 Least Squares   F-statistic:                     5.016\n",
      "Date:                Tue, 16 Apr 2024   Prob (F-statistic):           0.000490\n",
      "Time:                        16:01:05   Log-Likelihood:                -5919.4\n",
      "No. Observations:                9065   AIC:                         1.185e+04\n",
      "Df Residuals:                    9060   BIC:                         1.188e+04\n",
      "Df Model:                           4                                         \n",
      "Covariance Type:            nonrobust                                         \n",
      "==============================================================================\n",
      "                 coef    std err          t      P>|t|      [0.025      0.975]\n",
      "------------------------------------------------------------------------------\n",
      "const          9.9501      4.999      1.990      0.047       0.151      19.749\n",
      "puntaje        0.0003      0.000      1.600      0.110   -7.38e-05       0.001\n",
      "nem           -0.0002      0.000     -1.289      0.198      -0.001       0.000\n",
      "vacantes      -0.0004      0.000     -3.732      0.000      -0.001      -0.000\n",
      "year          -0.0048      0.002     -1.934      0.053      -0.010    6.47e-05\n",
      "==============================================================================\n",
      "Omnibus:                   107523.746   Durbin-Watson:                   0.003\n",
      "Prob(Omnibus):                  0.000   Jarque-Bera (JB):             1641.860\n",
      "Skew:                           0.782   Prob(JB):                         0.00\n",
      "Kurtosis:                       1.622   Cond. No.                     2.23e+06\n",
      "==============================================================================\n",
      "\n",
      "Notes:\n",
      "[1] Standard Errors assume that the covariance matrix of the errors is correctly specified.\n",
      "[2] The condition number is large, 2.23e+06. This might indicate that there are\n",
      "strong multicollinearity or other numerical problems.\n"
     ]
    }
   ],
   "source": [
    "y=cned['stem']\n",
    "X=cned[['puntaje','nem','vacantes','year']]\n",
    "X=sm.add_constant(X)\n",
    "model = sm.OLS(y, X)\n",
    "results = model.fit()\n",
    "print(results.summary())"
   ]
  },
  {
   "cell_type": "markdown",
   "metadata": {},
   "source": [
    "### Probit\n",
    "\n"
   ]
  },
  {
   "cell_type": "code",
   "execution_count": 23,
   "metadata": {},
   "outputs": [
    {
     "name": "stdout",
     "output_type": "stream",
     "text": [
      "Optimization terminated successfully.\n",
      "         Current function value: 0.623654\n",
      "         Iterations 5\n",
      "                          Probit Regression Results                           \n",
      "==============================================================================\n",
      "Dep. Variable:                   stem   No. Observations:                 9065\n",
      "Model:                         Probit   Df Residuals:                     9060\n",
      "Method:                           MLE   Df Model:                            4\n",
      "Date:                Tue, 16 Apr 2024   Pseudo R-squ.:                0.001818\n",
      "Time:                        16:01:39   Log-Likelihood:                -5653.4\n",
      "converged:                       True   LL-Null:                       -5663.7\n",
      "Covariance Type:            nonrobust   LLR p-value:                 0.0003804\n",
      "==============================================================================\n",
      "                 coef    std err          z      P>|z|      [0.025      0.975]\n",
      "------------------------------------------------------------------------------\n",
      "const         26.6035     14.039      1.895      0.058      -0.912      54.119\n",
      "puntaje        0.0010      0.001      1.646      0.100      -0.000       0.002\n",
      "nem           -0.0007      0.001     -1.321      0.187      -0.002       0.000\n",
      "vacantes      -0.0013      0.000     -3.763      0.000      -0.002      -0.001\n",
      "year          -0.0135      0.007     -1.936      0.053      -0.027       0.000\n",
      "==============================================================================\n",
      "       Probit Marginal Effects       \n",
      "=====================================\n",
      "Dep. Variable:                   stem\n",
      "Method:                          dydx\n",
      "At:                           overall\n",
      "==============================================================================\n",
      "                dy/dx    std err          z      P>|z|      [0.025      0.975]\n",
      "------------------------------------------------------------------------------\n",
      "puntaje        0.0003      0.000      1.647      0.100    -6.5e-05       0.001\n",
      "nem           -0.0002      0.000     -1.321      0.186      -0.001       0.000\n",
      "vacantes      -0.0005      0.000     -3.771      0.000      -0.001      -0.000\n",
      "year          -0.0048      0.002     -1.938      0.053      -0.010    5.55e-05\n",
      "==============================================================================\n"
     ]
    }
   ],
   "source": [
    "model = sm.Probit(y, X)\n",
    "probit_model = model.fit()\n",
    "print(probit_model.summary())\n",
    "\n",
    "mfx = probit_model.get_margeff()\n",
    "print(mfx.summary())"
   ]
  },
  {
   "cell_type": "markdown",
   "metadata": {},
   "source": [
    "### Logit"
   ]
  },
  {
   "cell_type": "code",
   "execution_count": 24,
   "metadata": {},
   "outputs": [
    {
     "name": "stdout",
     "output_type": "stream",
     "text": [
      "Optimization terminated successfully.\n",
      "         Current function value: 0.623656\n",
      "         Iterations 6\n",
      "                           Logit Regression Results                           \n",
      "==============================================================================\n",
      "Dep. Variable:                   stem   No. Observations:                 9065\n",
      "Model:                          Logit   Df Residuals:                     9060\n",
      "Method:                           MLE   Df Model:                            4\n",
      "Date:                Tue, 16 Apr 2024   Pseudo R-squ.:                0.001816\n",
      "Time:                        16:01:43   Log-Likelihood:                -5653.4\n",
      "converged:                       True   LL-Null:                       -5663.7\n",
      "Covariance Type:            nonrobust   LLR p-value:                 0.0003859\n",
      "==============================================================================\n",
      "                 coef    std err          z      P>|z|      [0.025      0.975]\n",
      "------------------------------------------------------------------------------\n",
      "const         43.8868     23.134      1.897      0.058      -1.455      89.229\n",
      "puntaje        0.0015      0.001      1.602      0.109      -0.000       0.003\n",
      "nem           -0.0010      0.001     -1.278      0.201      -0.003       0.001\n",
      "vacantes      -0.0021      0.001     -3.712      0.000      -0.003      -0.001\n",
      "year          -0.0222      0.011     -1.937      0.053      -0.045       0.000\n",
      "==============================================================================\n",
      "        Logit Marginal Effects       \n",
      "=====================================\n",
      "Dep. Variable:                   stem\n",
      "Method:                          dydx\n",
      "At:                           overall\n",
      "==============================================================================\n",
      "                dy/dx    std err          z      P>|z|      [0.025      0.975]\n",
      "------------------------------------------------------------------------------\n",
      "puntaje        0.0003      0.000      1.603      0.109   -7.27e-05       0.001\n",
      "nem           -0.0002      0.000     -1.279      0.201      -0.001       0.000\n",
      "vacantes      -0.0005      0.000     -3.721      0.000      -0.001      -0.000\n",
      "year          -0.0048      0.002     -1.939      0.053      -0.010    5.29e-05\n",
      "==============================================================================\n"
     ]
    }
   ],
   "source": [
    "model = sm.Logit(y, X)\n",
    "logit_model = model.fit()\n",
    "print(logit_model.summary())\n",
    "\n",
    "mfx = logit_model.get_margeff()\n",
    "print(mfx.summary())"
   ]
  },
  {
   "cell_type": "markdown",
   "metadata": {},
   "source": [
    "### Poisson"
   ]
  },
  {
   "cell_type": "code",
   "execution_count": 25,
   "metadata": {},
   "outputs": [
    {
     "data": {
      "text/plain": [
       "0    138\n",
       "1    104\n",
       "3    438\n",
       "4    148\n",
       "5    383\n",
       "Name: ingreso, dtype: int64"
      ]
     },
     "execution_count": 25,
     "metadata": {},
     "output_type": "execute_result"
    },
    {
     "data": {
      "image/png": "[encoded data removed]",
      "text/plain": [
       "<Figure size 640x480 with 1 Axes>"
      ]
     },
     "metadata": {},
     "output_type": "display_data"
    }
   ],
   "source": [
    "subset=cned.loc[cned['ingreso']<500]\n",
    "y=subset['ingreso']\n",
    "X=subset[['puntaje','nem','vacantes','year']]\n",
    "plt.hist(subset.ingreso)\n",
    "subset.ingreso.head()"
   ]
  },
  {
   "cell_type": "code",
   "execution_count": 26,
   "metadata": {},
   "outputs": [
    {
     "name": "stdout",
     "output_type": "stream",
     "text": [
      "                 Generalized Linear Model Regression Results                  \n",
      "==============================================================================\n",
      "Dep. Variable:                ingreso   No. Observations:                 8041\n",
      "Model:                            GLM   Df Residuals:                     8037\n",
      "Model Family:                 Poisson   Df Model:                            3\n",
      "Link Function:                    Log   Scale:                          1.0000\n",
      "Method:                          IRLS   Log-Likelihood:            -2.0395e+05\n",
      "Date:                Tue, 16 Apr 2024   Deviance:                   3.5249e+05\n",
      "Time:                        16:03:10   Pearson chi2:                 3.16e+05\n",
      "No. Iterations:                     6   Pseudo R-squ. (CS):              1.000\n",
      "Covariance Type:            nonrobust                                         \n",
      "==============================================================================\n",
      "                 coef    std err          z      P>|z|      [0.025      0.975]\n",
      "------------------------------------------------------------------------------\n",
      "puntaje        0.0002   3.49e-05      5.285      0.000       0.000       0.000\n",
      "nem            0.0031   3.05e-05    100.611      0.000       0.003       0.003\n",
      "vacantes       0.0111   2.13e-05    518.682      0.000       0.011       0.011\n",
      "year           0.0014      4e-06    348.067      0.000       0.001       0.001\n",
      "==============================================================================\n"
     ]
    }
   ],
   "source": [
    "poisson=sm.GLM(y,X,family=sm.families.Poisson()).fit()\n",
    "print(poisson.summary())"
   ]
  },
  {
   "cell_type": "code",
   "execution_count": 27,
   "metadata": {},
   "outputs": [
    {
     "name": "stdout",
     "output_type": "stream",
     "text": [
      "fitted lambda\n",
      "[208.98645684 203.53777853 438.06479834 ...  81.22697075  96.58979789\n",
      "  95.13085338]\n"
     ]
    }
   ],
   "source": [
    "print(\"fitted lambda\")\n",
    "print(poisson.mu)"
   ]
  },
  {
   "cell_type": "markdown",
   "metadata": {},
   "source": [
    "### Negative Binomial"
   ]
  },
  {
   "cell_type": "code",
   "execution_count": 28,
   "metadata": {},
   "outputs": [
    {
     "name": "stdout",
     "output_type": "stream",
     "text": [
      "                 Generalized Linear Model Regression Results                  \n",
      "==============================================================================\n",
      "Dep. Variable:                ingreso   No. Observations:                 8041\n",
      "Model:                            GLM   Df Residuals:                     8037\n",
      "Model Family:        NegativeBinomial   Df Model:                            3\n",
      "Link Function:                    Log   Scale:                          1.0000\n",
      "Method:                          IRLS   Log-Likelihood:                -49790.\n",
      "Date:                Tue, 16 Apr 2024   Deviance:                       2200.2\n",
      "Time:                        16:03:21   Pearson chi2:                 1.56e+03\n",
      "No. Iterations:                    12   Pseudo R-squ. (CS):             0.2119\n",
      "Covariance Type:            nonrobust                                         \n",
      "==============================================================================\n",
      "                 coef    std err          z      P>|z|      [0.025      0.975]\n",
      "------------------------------------------------------------------------------\n",
      "puntaje        0.0002      0.000      0.355      0.723      -0.001       0.001\n",
      "nem            0.0030      0.000      7.527      0.000       0.002       0.004\n",
      "vacantes       0.0184      0.000     43.479      0.000       0.018       0.019\n",
      "year           0.0012   5.85e-05     20.824      0.000       0.001       0.001\n",
      "==============================================================================\n"
     ]
    },
    {
     "name": "stderr",
     "output_type": "stream",
     "text": [
      "c:\\Users\\juanc\\anaconda3\\lib\\site-packages\\statsmodels\\genmod\\families\\family.py:1367: ValueWarning: Negative binomial dispersion parameter alpha not set. Using default value alpha=1.0.\n",
      "  warnings.warn(\"Negative binomial dispersion parameter alpha not \"\n"
     ]
    }
   ],
   "source": [
    "negbin=sm.GLM(y,X,family=sm.families.NegativeBinomial()).fit()\n",
    "print(negbin.summary())"
   ]
  },
  {
   "cell_type": "code",
   "execution_count": 29,
   "metadata": {},
   "outputs": [
    {
     "name": "stdout",
     "output_type": "stream",
     "text": [
      "fitted lambda\n",
      "[183.63586581 180.51289539 620.49493074 ...  61.5069485   72.77267143\n",
      "  74.70050814]\n"
     ]
    }
   ],
   "source": [
    "print(\"fitted lambda\")\n",
    "print(negbin.mu)"
   ]
  },
  {
   "cell_type": "markdown",
   "metadata": {},
   "source": [
    "### Test overdispersion\n",
    "\n",
    "A simple test for overdispersion can be determined with the results of the Poisson model, using the ratio of Pearson chi2 / Df Residuals. A value larger than 1 indicates overdispersion. In the case above (6), data suggets overdispersion.\n",
    "\n",
    "The Negative Binomial model estimated above is using a value of $\\theta$ (or $\\alpha=1/\\theta$) equal to 1. In order to determine the appropiate value of $\\alpha$, you can estimate a simple regression using the output of the Poisson model:\n",
    "\n",
    "1. Construct the following variable aux=$[(y-\\lambda)^2-\\lambda]/\\lambda$\n",
    "2. Regress the variable aux with $\\lambda$ as the only explanatory variable (no constant)\n",
    "3. The estimated value is an appropiate guess for $\\ln \\alpha$\n",
    "\n",
    "In the model of the previous section, just use the options on sm.families.NegativeBinomial, in order to manually enter the value of alpha. See example below."
   ]
  },
  {
   "cell_type": "code",
   "execution_count": 30,
   "metadata": {},
   "outputs": [
    {
     "name": "stdout",
     "output_type": "stream",
     "text": [
      "                                 OLS Regression Results                                \n",
      "=======================================================================================\n",
      "Dep. Variable:                ingreso   R-squared (uncentered):                   0.396\n",
      "Model:                            OLS   Adj. R-squared (uncentered):              0.396\n",
      "Method:                 Least Squares   F-statistic:                              5275.\n",
      "Date:                Tue, 16 Apr 2024   Prob (F-statistic):                        0.00\n",
      "Time:                        16:03:28   Log-Likelihood:                         -44571.\n",
      "No. Observations:                8041   AIC:                                  8.914e+04\n",
      "Df Residuals:                    8040   BIC:                                  8.915e+04\n",
      "Df Model:                           1                                                  \n",
      "Covariance Type:            nonrobust                                                  \n",
      "==============================================================================\n",
      "                 coef    std err          t      P>|t|      [0.025      0.975]\n",
      "------------------------------------------------------------------------------\n",
      "x1             0.2208      0.003     72.631      0.000       0.215       0.227\n",
      "==============================================================================\n",
      "Omnibus:                    10267.981   Durbin-Watson:                   1.652\n",
      "Prob(Omnibus):                  0.000   Jarque-Bera (JB):          4810468.508\n",
      "Skew:                           6.647   Prob(JB):                         0.00\n",
      "Kurtosis:                     122.084   Cond. No.                         1.00\n",
      "==============================================================================\n",
      "\n",
      "Notes:\n",
      "[1] R² is computed without centering (uncentered) since the model does not contain a constant.\n",
      "[2] Standard Errors assume that the covariance matrix of the errors is correctly specified.\n"
     ]
    }
   ],
   "source": [
    "aux=((y-poisson.mu)**2-poisson.mu)/poisson.mu\n",
    "auxr=sm.OLS(aux,poisson.mu).fit()\n",
    "print(auxr.summary())"
   ]
  },
  {
   "cell_type": "code",
   "execution_count": 31,
   "metadata": {},
   "outputs": [
    {
     "name": "stdout",
     "output_type": "stream",
     "text": [
      "                 Generalized Linear Model Regression Results                  \n",
      "==============================================================================\n",
      "Dep. Variable:                ingreso   No. Observations:                 8041\n",
      "Model:                            GLM   Df Residuals:                     8037\n",
      "Model Family:        NegativeBinomial   Df Model:                            3\n",
      "Link Function:                    Log   Scale:                          1.0000\n",
      "Method:                          IRLS   Log-Likelihood:                -54033.\n",
      "Date:                Tue, 16 Apr 2024   Deviance:                       818.47\n",
      "Time:                        16:04:19   Pearson chi2:                     577.\n",
      "No. Iterations:                    12   Pseudo R-squ. (CS):            0.08446\n",
      "Covariance Type:            nonrobust                                         \n",
      "==============================================================================\n",
      "                 coef    std err          z      P>|z|      [0.025      0.975]\n",
      "------------------------------------------------------------------------------\n",
      "puntaje        0.0002      0.001      0.222      0.825      -0.001       0.002\n",
      "nem            0.0030      0.001      4.579      0.000       0.002       0.004\n",
      "vacantes       0.0184      0.001     26.477      0.000       0.017       0.020\n",
      "year           0.0012   9.62e-05     12.670      0.000       0.001       0.001\n",
      "==============================================================================\n"
     ]
    }
   ],
   "source": [
    "negbin=sm.GLM(y,X,family=sm.families.NegativeBinomial(alpha=2.71)).fit()\n",
    "print(negbin.summary())"
   ]
  },
  {
   "cell_type": "markdown",
   "metadata": {},
   "source": [
    "<font size=\"3\">**Tarea 1**</font>\n",
    "\n",
    "<u> *Instrucciones* </u>\n",
    "\n",
    "Los resultados de los ejericicios propuestos se deben entregar como un notebook por correo electronico a *juancaros@udec.cl* a mas tardar el dia 16/04/23 hasta las 21:00. \n",
    "\n",
    "Es importante considerar que el código debe poder ejecutarse en cualquier computadora con la data original del repositorio. Recordar la convencion para el nombre de archivo ademas de incluir en su documento titulos y encabezados por seccion. La data a utilizar es **disease.csv**.\n",
    "\n",
    "Las variables tienen la siguiente descripcion:\n",
    "\n",
    "Glucose: This is the level of glucose in the blood, measured in milligrams per deciliter (mg/dL)\n",
    "\n",
    "Cholesterol: This is the level of cholesterol in the blood, measured in milligrams per deciliter (mg/dL)\n",
    "\n",
    "Hemoglobin: This is the protein in red blood cells that carries oxygen from the lungs to the rest of the body\n",
    "\n",
    "Platelets: Platelets are blood cells that help with clotting\n",
    "\n",
    "White Blood Cells (WBC): These are cells of the immune system that help fight infections\n",
    "\n",
    "Red Blood Cells (RBC): These are the cells that carry oxygen from the lungs to the rest of the body\n",
    "\n",
    "Hematocrit: This is the percentage of blood volume that is occupied by red blood cells\n",
    "\n",
    "Mean Corpuscular Volume (MCV): This is the average volume of red blood cells\n",
    "\n",
    "Mean Corpuscular Hemoglobin (MCH): This is the average amount of hemoglobin in a red blood cell\n",
    "\n",
    "Insulin: This is a hormone that helps regulate blood sugar levels\n",
    "\n",
    "BMI (Body Mass Index): This is a measure of body fat based on height and weight\n",
    "\n",
    "Systolic Blood Pressure (SBP): This is the pressure in the arteries when the heart beats\n",
    "\n",
    "Diastolic Blood Pressure (DBP): This is the pressure in the arteries when the heart is at rest between beats\n",
    "\n",
    "Triglycerides: These are a type of fat found in the blood, measured in milligrams per deciliter (mg/dL)\n",
    "\n",
    "HbA1c (Glycated Hemoglobin): This is a measure of average blood sugar levels over the past two to three months\n",
    "\n",
    "LDL (Low-Density Lipoprotein) Cholesterol: This is the \"bad\" cholesterol that can build up in the arteries\n",
    "\n",
    "HDL (High-Density Lipoprotein) Cholesterol: This is the \"good\" cholesterol that helps remove LDL cholesterol from the arteries\n",
    "\n",
    "Heart Rate: This is the number of heartbeats per minute (bpm)\n",
    "\n",
    "Creatinine: This is a waste product produced by muscles and filtered out of the blood by the kidneys\n",
    "\n",
    "C-reactive Protein (CRP): This is a marker of inflammation in the body\n",
    "\n",
    "Disease: This indicates the number of diseases (0 indicates healthy)"
   ]
  },
  {
   "cell_type": "markdown",
   "metadata": {},
   "source": [
    "Preguntas:\n",
    "\n",
    "1. Cargar la base de datos *disease.csv* en el ambiente. Identifique los tipos de datos que se encuentran en la base, realice estadisticas descriptivas sobre las variables importantes (Hint: Revisar la distribuciones, datos faltantes, outliers, etc.) y limpie las variables cuando sea necesario.\n",
    "\n",
    "**R**: En este caso particular solo era necesario generar una variable binaria a partir de *Disease*, mientras que la matriz de correlaciones permite analizar que variables podrian excluirse del modelo."
   ]
  },
  {
   "cell_type": "code",
   "execution_count": 73,
   "metadata": {},
   "outputs": [
    {
     "data": {
      "text/html": [
       "<div>\n",
       "<style scoped>\n",
       "    .dataframe tbody tr th:only-of-type {\n",
       "        vertical-align: middle;\n",
       "    }\n",
       "\n",
       "    .dataframe tbody tr th {\n",
       "        vertical-align: top;\n",
       "    }\n",
       "\n",
       "    .dataframe thead th {\n",
       "        text-align: right;\n",
       "    }\n",
       "</style>\n",
       "<table border=\"1\" class=\"dataframe\">\n",
       "  <thead>\n",
       "    <tr style=\"text-align: right;\">\n",
       "      <th></th>\n",
       "      <th>Glucose</th>\n",
       "      <th>Cholesterol</th>\n",
       "      <th>Hemoglobin</th>\n",
       "      <th>Platelets</th>\n",
       "      <th>White Blood Cells</th>\n",
       "      <th>Red Blood Cells</th>\n",
       "      <th>Hematocrit</th>\n",
       "      <th>MCV</th>\n",
       "      <th>MCH</th>\n",
       "      <th>Insulin</th>\n",
       "      <th>...</th>\n",
       "      <th>BP</th>\n",
       "      <th>Triglycerides</th>\n",
       "      <th>HbA1c</th>\n",
       "      <th>LDL Chol</th>\n",
       "      <th>HDL Chol</th>\n",
       "      <th>Heart Rate</th>\n",
       "      <th>Creatinine</th>\n",
       "      <th>C-reactive Protein</th>\n",
       "      <th>Disease</th>\n",
       "      <th>dd</th>\n",
       "    </tr>\n",
       "  </thead>\n",
       "  <tbody>\n",
       "    <tr>\n",
       "      <th>count</th>\n",
       "      <td>2351.000000</td>\n",
       "      <td>2351.000000</td>\n",
       "      <td>2351.000000</td>\n",
       "      <td>2351.000000</td>\n",
       "      <td>2351.000000</td>\n",
       "      <td>2351.000000</td>\n",
       "      <td>2351.000000</td>\n",
       "      <td>2351.000000</td>\n",
       "      <td>2351.000000</td>\n",
       "      <td>2351.000000</td>\n",
       "      <td>...</td>\n",
       "      <td>2351.000000</td>\n",
       "      <td>2351.000000</td>\n",
       "      <td>2351.000000</td>\n",
       "      <td>2351.000000</td>\n",
       "      <td>2351.000000</td>\n",
       "      <td>2351.000000</td>\n",
       "      <td>2351.000000</td>\n",
       "      <td>2351.000000</td>\n",
       "      <td>2351.000000</td>\n",
       "      <td>2351.000000</td>\n",
       "    </tr>\n",
       "    <tr>\n",
       "      <th>mean</th>\n",
       "      <td>0.362828</td>\n",
       "      <td>0.393648</td>\n",
       "      <td>0.586190</td>\n",
       "      <td>0.504027</td>\n",
       "      <td>0.511086</td>\n",
       "      <td>0.506590</td>\n",
       "      <td>0.507152</td>\n",
       "      <td>0.492200</td>\n",
       "      <td>0.484459</td>\n",
       "      <td>0.447062</td>\n",
       "      <td>...</td>\n",
       "      <td>0.421708</td>\n",
       "      <td>0.374373</td>\n",
       "      <td>0.439112</td>\n",
       "      <td>0.421777</td>\n",
       "      <td>0.546079</td>\n",
       "      <td>0.582255</td>\n",
       "      <td>0.425075</td>\n",
       "      <td>0.430308</td>\n",
       "      <td>1.583156</td>\n",
       "      <td>0.763505</td>\n",
       "    </tr>\n",
       "    <tr>\n",
       "      <th>std</th>\n",
       "      <td>0.251889</td>\n",
       "      <td>0.239449</td>\n",
       "      <td>0.271498</td>\n",
       "      <td>0.303347</td>\n",
       "      <td>0.277270</td>\n",
       "      <td>0.266565</td>\n",
       "      <td>0.285537</td>\n",
       "      <td>0.275735</td>\n",
       "      <td>0.315618</td>\n",
       "      <td>0.242861</td>\n",
       "      <td>...</td>\n",
       "      <td>0.248768</td>\n",
       "      <td>0.256981</td>\n",
       "      <td>0.263779</td>\n",
       "      <td>0.252124</td>\n",
       "      <td>0.269511</td>\n",
       "      <td>0.250915</td>\n",
       "      <td>0.229298</td>\n",
       "      <td>0.243034</td>\n",
       "      <td>1.209799</td>\n",
       "      <td>0.425020</td>\n",
       "    </tr>\n",
       "    <tr>\n",
       "      <th>min</th>\n",
       "      <td>0.010994</td>\n",
       "      <td>0.012139</td>\n",
       "      <td>0.003021</td>\n",
       "      <td>0.012594</td>\n",
       "      <td>0.010139</td>\n",
       "      <td>0.044565</td>\n",
       "      <td>0.011772</td>\n",
       "      <td>0.046942</td>\n",
       "      <td>0.000554</td>\n",
       "      <td>0.034129</td>\n",
       "      <td>...</td>\n",
       "      <td>0.005579</td>\n",
       "      <td>0.005217</td>\n",
       "      <td>0.016256</td>\n",
       "      <td>0.033037</td>\n",
       "      <td>0.039505</td>\n",
       "      <td>0.114550</td>\n",
       "      <td>0.021239</td>\n",
       "      <td>0.004867</td>\n",
       "      <td>0.000000</td>\n",
       "      <td>0.000000</td>\n",
       "    </tr>\n",
       "    <tr>\n",
       "      <th>25%</th>\n",
       "      <td>0.129198</td>\n",
       "      <td>0.195818</td>\n",
       "      <td>0.346092</td>\n",
       "      <td>0.200865</td>\n",
       "      <td>0.259467</td>\n",
       "      <td>0.263589</td>\n",
       "      <td>0.288132</td>\n",
       "      <td>0.287532</td>\n",
       "      <td>0.207938</td>\n",
       "      <td>0.219111</td>\n",
       "      <td>...</td>\n",
       "      <td>0.175469</td>\n",
       "      <td>0.184604</td>\n",
       "      <td>0.188750</td>\n",
       "      <td>0.217757</td>\n",
       "      <td>0.307132</td>\n",
       "      <td>0.339125</td>\n",
       "      <td>0.213026</td>\n",
       "      <td>0.196192</td>\n",
       "      <td>1.000000</td>\n",
       "      <td>1.000000</td>\n",
       "    </tr>\n",
       "    <tr>\n",
       "      <th>50%</th>\n",
       "      <td>0.351722</td>\n",
       "      <td>0.397083</td>\n",
       "      <td>0.609836</td>\n",
       "      <td>0.533962</td>\n",
       "      <td>0.527381</td>\n",
       "      <td>0.467431</td>\n",
       "      <td>0.493428</td>\n",
       "      <td>0.453052</td>\n",
       "      <td>0.420723</td>\n",
       "      <td>0.444806</td>\n",
       "      <td>...</td>\n",
       "      <td>0.474378</td>\n",
       "      <td>0.317857</td>\n",
       "      <td>0.466375</td>\n",
       "      <td>0.413071</td>\n",
       "      <td>0.512941</td>\n",
       "      <td>0.610860</td>\n",
       "      <td>0.417295</td>\n",
       "      <td>0.481601</td>\n",
       "      <td>1.000000</td>\n",
       "      <td>1.000000</td>\n",
       "    </tr>\n",
       "    <tr>\n",
       "      <th>75%</th>\n",
       "      <td>0.582278</td>\n",
       "      <td>0.582178</td>\n",
       "      <td>0.791215</td>\n",
       "      <td>0.754841</td>\n",
       "      <td>0.743164</td>\n",
       "      <td>0.743670</td>\n",
       "      <td>0.753657</td>\n",
       "      <td>0.722293</td>\n",
       "      <td>0.778160</td>\n",
       "      <td>0.654441</td>\n",
       "      <td>...</td>\n",
       "      <td>0.663382</td>\n",
       "      <td>0.572330</td>\n",
       "      <td>0.652514</td>\n",
       "      <td>0.604753</td>\n",
       "      <td>0.779378</td>\n",
       "      <td>0.800666</td>\n",
       "      <td>0.606719</td>\n",
       "      <td>0.631426</td>\n",
       "      <td>3.000000</td>\n",
       "      <td>1.000000</td>\n",
       "    </tr>\n",
       "    <tr>\n",
       "      <th>max</th>\n",
       "      <td>0.968460</td>\n",
       "      <td>0.905026</td>\n",
       "      <td>0.983306</td>\n",
       "      <td>0.999393</td>\n",
       "      <td>0.990786</td>\n",
       "      <td>1.000000</td>\n",
       "      <td>0.977520</td>\n",
       "      <td>0.995263</td>\n",
       "      <td>0.963235</td>\n",
       "      <td>0.966784</td>\n",
       "      <td>...</td>\n",
       "      <td>0.934617</td>\n",
       "      <td>0.973679</td>\n",
       "      <td>0.950218</td>\n",
       "      <td>0.983826</td>\n",
       "      <td>0.989411</td>\n",
       "      <td>0.996873</td>\n",
       "      <td>0.925924</td>\n",
       "      <td>0.797906</td>\n",
       "      <td>4.000000</td>\n",
       "      <td>1.000000</td>\n",
       "    </tr>\n",
       "  </tbody>\n",
       "</table>\n",
       "<p>8 rows × 22 columns</p>\n",
       "</div>"
      ],
      "text/plain": [
       "           Glucose  Cholesterol   Hemoglobin    Platelets  White Blood Cells  \\\n",
       "count  2351.000000  2351.000000  2351.000000  2351.000000        2351.000000   \n",
       "mean      0.362828     0.393648     0.586190     0.504027           0.511086   \n",
       "std       0.251889     0.239449     0.271498     0.303347           0.277270   \n",
       "min       0.010994     0.012139     0.003021     0.012594           0.010139   \n",
       "25%       0.129198     0.195818     0.346092     0.200865           0.259467   \n",
       "50%       0.351722     0.397083     0.609836     0.533962           0.527381   \n",
       "75%       0.582278     0.582178     0.791215     0.754841           0.743164   \n",
       "max       0.968460     0.905026     0.983306     0.999393           0.990786   \n",
       "\n",
       "       Red Blood Cells   Hematocrit          MCV          MCH      Insulin  \\\n",
       "count      2351.000000  2351.000000  2351.000000  2351.000000  2351.000000   \n",
       "mean          0.506590     0.507152     0.492200     0.484459     0.447062   \n",
       "std           0.266565     0.285537     0.275735     0.315618     0.242861   \n",
       "min           0.044565     0.011772     0.046942     0.000554     0.034129   \n",
       "25%           0.263589     0.288132     0.287532     0.207938     0.219111   \n",
       "50%           0.467431     0.493428     0.453052     0.420723     0.444806   \n",
       "75%           0.743670     0.753657     0.722293     0.778160     0.654441   \n",
       "max           1.000000     0.977520     0.995263     0.963235     0.966784   \n",
       "\n",
       "       ...           BP  Triglycerides        HbA1c     LDL Chol     HDL Chol  \\\n",
       "count  ...  2351.000000    2351.000000  2351.000000  2351.000000  2351.000000   \n",
       "mean   ...     0.421708       0.374373     0.439112     0.421777     0.546079   \n",
       "std    ...     0.248768       0.256981     0.263779     0.252124     0.269511   \n",
       "min    ...     0.005579       0.005217     0.016256     0.033037     0.039505   \n",
       "25%    ...     0.175469       0.184604     0.188750     0.217757     0.307132   \n",
       "50%    ...     0.474378       0.317857     0.466375     0.413071     0.512941   \n",
       "75%    ...     0.663382       0.572330     0.652514     0.604753     0.779378   \n",
       "max    ...     0.934617       0.973679     0.950218     0.983826     0.989411   \n",
       "\n",
       "        Heart Rate   Creatinine  C-reactive Protein      Disease           dd  \n",
       "count  2351.000000  2351.000000         2351.000000  2351.000000  2351.000000  \n",
       "mean      0.582255     0.425075            0.430308     1.583156     0.763505  \n",
       "std       0.250915     0.229298            0.243034     1.209799     0.425020  \n",
       "min       0.114550     0.021239            0.004867     0.000000     0.000000  \n",
       "25%       0.339125     0.213026            0.196192     1.000000     1.000000  \n",
       "50%       0.610860     0.417295            0.481601     1.000000     1.000000  \n",
       "75%       0.800666     0.606719            0.631426     3.000000     1.000000  \n",
       "max       0.996873     0.925924            0.797906     4.000000     1.000000  \n",
       "\n",
       "[8 rows x 22 columns]"
      ]
     },
     "execution_count": 73,
     "metadata": {},
     "output_type": "execute_result"
    }
   ],
   "source": [
    "df = pd.read_csv('../data/disease.csv')\n",
    "df['dd'] = df['Disease'].apply(lambda x: 1 if x > 0 else 0)\n",
    "df = df.rename(columns={\"Mean Corpuscular Volume\": \"MCV\", \n",
    "                        \"Mean Corpuscular Hemoglobin\": \"MCH\",\n",
    "                        \"Diastolic Blood Pressure\": \"BP\",\n",
    "                        \"HDL Cholesterol\": \"HDL Chol\",\n",
    "                        \"LDL Cholesterol\": \"LDL Chol\"})\n",
    "df.dropna(inplace=True)\n",
    "df.describe()"
   ]
  },
  {
   "cell_type": "code",
   "execution_count": 64,
   "metadata": {},
   "outputs": [
    {
     "data": {
      "text/plain": [
       "<Axes: >"
      ]
     },
     "execution_count": 64,
     "metadata": {},
     "output_type": "execute_result"
    },
    {
     "data": {
      "image/png": "[encoded data removed]",
      "text/plain": [
       "<Figure size 1100x900 with 2 Axes>"
      ]
     },
     "metadata": {},
     "output_type": "display_data"
    }
   ],
   "source": [
    "corr = df.corr()\n",
    "\n",
    "mask = np.triu(np.ones_like(corr, dtype=bool))\n",
    "f, ax = plt.subplots(figsize=(11, 9))\n",
    "cmap = sns.diverging_palette(230, 20, as_cmap=True)\n",
    "sns.heatmap(corr, mask=mask, cmap=cmap, vmax=.3, center=0,\n",
    "            square=True, linewidths=.5, cbar_kws={\"shrink\": .5})"
   ]
  },
  {
   "cell_type": "markdown",
   "metadata": {},
   "source": [
    "\n",
    "2. Ejecute un modelo de probabilidad lineal (*MCO*) que permita explicar la probabilidad de que una persona tenga al menos una enfermedad. Seleccione las variables dependientes a incluir en el modelo final e interprete su significado.\n",
    "\n",
    "**R**: Segun el modelo, excluyendo las variables que no contribuyen dada alta correlacion, el BMI y ritmo cardiaco se asocian positivamente de forma importante a la probabilidad de tener alguna morbilidad, asi como el colesterol total y ciertas caracteristicas de la sangre (MCV, MCH). De la misma manera, otros marcadores bioquimicos indican una asociacion negativa, tales como la glucosa, los trigliceridos y la insulina. Los resultados se interpretan como cambio en puntos porcentuales por cambio de una unidad en la variable (escala de 0 a 100). Por ejemplo, un cambio de una unidad en colesterol total indica un cambio de 0.5 puntos porcentuales en la probabilidad de tener al menos una enfermedad. "
   ]
  },
  {
   "cell_type": "code",
   "execution_count": 76,
   "metadata": {},
   "outputs": [
    {
     "name": "stdout",
     "output_type": "stream",
     "text": [
      "                            OLS Regression Results                            \n",
      "==============================================================================\n",
      "Dep. Variable:                     dd   R-squared:                       0.487\n",
      "Model:                            OLS   Adj. R-squared:                  0.483\n",
      "Method:                 Least Squares   F-statistic:                     236.2\n",
      "Date:                Thu, 02 May 2024   Prob (F-statistic):               0.00\n",
      "Time:                        14:59:51   Log-Likelihood:                -539.42\n",
      "No. Observations:                2351   AIC:                             1117.\n",
      "Df Residuals:                    2332   BIC:                             1226.\n",
      "Df Model:                          18                                         \n",
      "Covariance Type:                  HC0                                         \n",
      "======================================================================================\n",
      "                         coef    std err          z      P>|z|      [0.025      0.975]\n",
      "--------------------------------------------------------------------------------------\n",
      "const                  0.7573      0.044     17.136      0.000       0.671       0.844\n",
      "Glucose               -0.0036      0.000    -13.196      0.000      -0.004      -0.003\n",
      "Cholesterol            0.0052      0.000     17.836      0.000       0.005       0.006\n",
      "Hemoglobin             0.0020      0.000      7.071      0.000       0.001       0.003\n",
      "Platelets             -0.0044      0.000    -20.314      0.000      -0.005      -0.004\n",
      "White Blood Cells     -0.0043      0.000    -20.011      0.000      -0.005      -0.004\n",
      "Red Blood Cells       -0.0037      0.000    -15.924      0.000      -0.004      -0.003\n",
      "Hematocrit            -0.0023      0.000     -8.921      0.000      -0.003      -0.002\n",
      "MCV                    0.0063      0.000     24.897      0.000       0.006       0.007\n",
      "MCH                    0.0029      0.000     13.634      0.000       0.003       0.003\n",
      "Insulin               -0.0010      0.000     -3.317      0.001      -0.002      -0.000\n",
      "BMI                    0.0034      0.000     10.476      0.000       0.003       0.004\n",
      "BP                    -0.0013      0.000     -4.715      0.000      -0.002      -0.001\n",
      "Triglycerides         -0.0026      0.000     -8.228      0.000      -0.003      -0.002\n",
      "HbA1c                  0.0012      0.000      5.479      0.000       0.001       0.002\n",
      "LDL Chol              -0.0020      0.000     -6.363      0.000      -0.003      -0.001\n",
      "HDL Chol              -0.0014      0.000     -6.112      0.000      -0.002      -0.001\n",
      "Heart Rate             0.0041      0.000     12.544      0.000       0.003       0.005\n",
      "C-reactive Protein     0.0007      0.000      2.141      0.032    5.58e-05       0.001\n",
      "==============================================================================\n",
      "Omnibus:                      121.515   Durbin-Watson:                   0.963\n",
      "Prob(Omnibus):                  0.000   Jarque-Bera (JB):              133.124\n",
      "Skew:                          -0.562   Prob(JB):                     1.24e-29\n",
      "Kurtosis:                       2.692   Cond. No.                     1.82e+03\n",
      "==============================================================================\n",
      "\n",
      "Notes:\n",
      "[1] Standard Errors are heteroscedasticity robust (HC0)\n",
      "[2] The condition number is large, 1.82e+03. This might indicate that there are\n",
      "strong multicollinearity or other numerical problems.\n"
     ]
    }
   ],
   "source": [
    "#Regresion excluyendo variables de alta correlacion\n",
    "y=df['dd']\n",
    "X=df.drop(['Disease', 'dd','Systolic Blood Pressure','Creatinine'], axis=1)\n",
    "X=X*100\n",
    "X=sm.add_constant(X)\n",
    "model = sm.OLS(y, X)\n",
    "results = model.fit(cov_type='HC0')\n",
    "print(results.summary())"
   ]
  },
  {
   "cell_type": "markdown",
   "metadata": {},
   "source": [
    "3. Ejecute un modelo *probit* para responder a la pregunta 2. Seleccione las variables dependientes a incluir en el modelo final e interprete su significado. \n",
    "\n",
    "**R**: Hay cambios importantes de magnitud en los efectos marginales (considerando a OLS), las asociaciones aumentan (en valor absoluto), en particular para variables como glucosa, colesterol y plaquetas. Un cambio de una unidad, en torno al promedio (en otras palabras un percentil en la distribucion), se traduce en cambios de una un punto porcentual, en promedio. Esta interpretacion permite entender de mejor manera un incremento relativo (en torno a la media) de un percentil sobre el riesgo (medido en porcentaje)."
   ]
  },
  {
   "cell_type": "code",
   "execution_count": 69,
   "metadata": {},
   "outputs": [
    {
     "name": "stdout",
     "output_type": "stream",
     "text": [
      "Optimization terminated successfully.\n",
      "         Current function value: 0.169501\n",
      "         Iterations 12\n",
      "                          Probit Regression Results                           \n",
      "==============================================================================\n",
      "Dep. Variable:                     dd   No. Observations:                 2351\n",
      "Model:                         Probit   Df Residuals:                     2334\n",
      "Method:                           MLE   Df Model:                           16\n",
      "Date:                Thu, 02 May 2024   Pseudo R-squ.:                  0.6901\n",
      "Time:                        14:56:46   Log-Likelihood:                -398.50\n",
      "converged:                       True   LL-Null:                       -1286.0\n",
      "Covariance Type:                  HC0   LLR p-value:                     0.000\n",
      "======================================================================================\n",
      "                         coef    std err          z      P>|z|      [0.025      0.975]\n",
      "--------------------------------------------------------------------------------------\n",
      "const                  7.2068      0.671     10.745      0.000       5.892       8.521\n",
      "Glucose               -0.1102      0.006    -17.013      0.000      -0.123      -0.097\n",
      "Cholesterol            0.1077      0.006     16.576      0.000       0.095       0.120\n",
      "Hemoglobin             0.0089      0.002      4.782      0.000       0.005       0.013\n",
      "Platelets             -0.1061      0.006    -16.481      0.000      -0.119      -0.093\n",
      "White Blood Cells     -0.0844      0.006    -14.745      0.000      -0.096      -0.073\n",
      "Red Blood Cells       -0.0886      0.004    -19.938      0.000      -0.097      -0.080\n",
      "Hematocrit            -0.0704      0.005    -15.222      0.000      -0.079      -0.061\n",
      "MCV                    0.1123      0.006     19.122      0.000       0.101       0.124\n",
      "MCH                    0.0564      0.004     15.722      0.000       0.049       0.063\n",
      "BMI                    0.0750      0.004     18.611      0.000       0.067       0.083\n",
      "BP                    -0.0478      0.003    -14.658      0.000      -0.054      -0.041\n",
      "Triglycerides         -0.0697      0.004    -18.543      0.000      -0.077      -0.062\n",
      "HbA1c                 -0.0124      0.003     -4.036      0.000      -0.018      -0.006\n",
      "HDL Chol              -0.0100      0.003     -3.517      0.000      -0.016      -0.004\n",
      "Heart Rate             0.0923      0.006     16.763      0.000       0.082       0.103\n",
      "C-reactive Protein     0.0538      0.004     14.054      0.000       0.046       0.061\n",
      "======================================================================================\n",
      "\n",
      "Possibly complete quasi-separation: A fraction 0.56 of observations can be\n",
      "perfectly predicted. This might indicate that there is complete\n",
      "quasi-separation. In this case some parameters will not be identified.\n",
      "       Probit Marginal Effects       \n",
      "=====================================\n",
      "Dep. Variable:                     dd\n",
      "Method:                          dydx\n",
      "At:                           overall\n",
      "======================================================================================\n",
      "                        dy/dx    std err          z      P>|z|      [0.025      0.975]\n",
      "--------------------------------------------------------------------------------------\n",
      "Glucose               -0.0105      0.000    -24.741      0.000      -0.011      -0.010\n",
      "Cholesterol            0.0103      0.001     20.090      0.000       0.009       0.011\n",
      "Hemoglobin             0.0008      0.000      4.732      0.000       0.000       0.001\n",
      "Platelets             -0.0101      0.000    -22.300      0.000      -0.011      -0.009\n",
      "White Blood Cells     -0.0080      0.000    -16.467      0.000      -0.009      -0.007\n",
      "Red Blood Cells       -0.0084      0.000    -26.038      0.000      -0.009      -0.008\n",
      "Hematocrit            -0.0067      0.000    -16.600      0.000      -0.008      -0.006\n",
      "MCV                    0.0107      0.000     30.718      0.000       0.010       0.011\n",
      "MCH                    0.0054      0.000     19.323      0.000       0.005       0.006\n",
      "BMI                    0.0071      0.000     27.174      0.000       0.007       0.008\n",
      "BP                    -0.0046      0.000    -14.164      0.000      -0.005      -0.004\n",
      "Triglycerides         -0.0066      0.000    -21.844      0.000      -0.007      -0.006\n",
      "HbA1c                 -0.0012      0.000     -4.114      0.000      -0.002      -0.001\n",
      "HDL Chol              -0.0010      0.000     -3.732      0.000      -0.001      -0.000\n",
      "Heart Rate             0.0088      0.000     23.990      0.000       0.008       0.010\n",
      "C-reactive Protein     0.0051      0.000     20.053      0.000       0.005       0.006\n",
      "======================================================================================\n"
     ]
    }
   ],
   "source": [
    "X1 = X.drop(['LDL Chol','Insulin'], axis=1)\n",
    "model = sm.Probit(y, X1)\n",
    "probit_model = model.fit(cov_type='HC0')\n",
    "print(probit_model.summary())\n",
    "\n",
    "mfxp = probit_model.get_margeff()\n",
    "print(mfxp.summary())"
   ]
  },
  {
   "cell_type": "markdown",
   "metadata": {},
   "source": [
    "4. Ejecute un modelo *logit*  para responder a la pregunta 2. Seleccione las variables dependientes a incluir en el modelo final e interprete su significado. \n",
    "\n",
    "**R**: Los cambios en los coeficientes estimados con Probit (en terminos de efectos marginales) no son estadisticamente significativos, lo cual es esperado. Sin embargo, logit permite entender tambien los cambios en riesgo relativo (odds ratio) de tener al menos una enfermadad (reportado en la ultima tabla)."
   ]
  },
  {
   "cell_type": "code",
   "execution_count": 88,
   "metadata": {},
   "outputs": [
    {
     "name": "stdout",
     "output_type": "stream",
     "text": [
      "Optimization terminated successfully.\n",
      "         Current function value: 0.168140\n",
      "         Iterations 12\n",
      "                           Logit Regression Results                           \n",
      "==============================================================================\n",
      "Dep. Variable:                     dd   No. Observations:                 2351\n",
      "Model:                          Logit   Df Residuals:                     2334\n",
      "Method:                           MLE   Df Model:                           16\n",
      "Date:                Thu, 02 May 2024   Pseudo R-squ.:                  0.6926\n",
      "Time:                        16:15:57   Log-Likelihood:                -395.30\n",
      "converged:                       True   LL-Null:                       -1286.0\n",
      "Covariance Type:                  HC0   LLR p-value:                     0.000\n",
      "======================================================================================\n",
      "                         coef    std err          z      P>|z|      [0.025      0.975]\n",
      "--------------------------------------------------------------------------------------\n",
      "const                 12.6531      1.048     12.069      0.000      10.598      14.708\n",
      "Glucose               -0.2044      0.022     -9.182      0.000      -0.248      -0.161\n",
      "Cholesterol            0.1965      0.015     12.994      0.000       0.167       0.226\n",
      "Hemoglobin             0.0152      0.004      4.238      0.000       0.008       0.022\n",
      "Platelets             -0.1921      0.015    -12.903      0.000      -0.221      -0.163\n",
      "White Blood Cells     -0.1475      0.010    -14.827      0.000      -0.167      -0.128\n",
      "Red Blood Cells       -0.1573      0.011    -14.192      0.000      -0.179      -0.136\n",
      "Hematocrit            -0.1241      0.008    -15.174      0.000      -0.140      -0.108\n",
      "MCV                    0.2015      0.015     13.228      0.000       0.172       0.231\n",
      "MCH                    0.1036      0.009     11.039      0.000       0.085       0.122\n",
      "BMI                    0.1325      0.009     13.975      0.000       0.114       0.151\n",
      "BP                    -0.0811      0.005    -15.891      0.000      -0.091      -0.071\n",
      "Triglycerides         -0.1248      0.009    -14.258      0.000      -0.142      -0.108\n",
      "HbA1c                 -0.0247      0.011     -2.352      0.019      -0.045      -0.004\n",
      "HDL Chol              -0.0252      0.009     -2.738      0.006      -0.043      -0.007\n",
      "Heart Rate             0.1717      0.018      9.739      0.000       0.137       0.206\n",
      "C-reactive Protein     0.0988      0.011      8.659      0.000       0.076       0.121\n",
      "======================================================================================\n",
      "\n",
      "Possibly complete quasi-separation: A fraction 0.53 of observations can be\n",
      "perfectly predicted. This might indicate that there is complete\n",
      "quasi-separation. In this case some parameters will not be identified.\n",
      "        Logit Marginal Effects       \n",
      "=====================================\n",
      "Dep. Variable:                     dd\n",
      "Method:                          dydx\n",
      "At:                           overall\n",
      "======================================================================================\n",
      "                        dy/dx    std err          z      P>|z|      [0.025      0.975]\n",
      "--------------------------------------------------------------------------------------\n",
      "Glucose               -0.0110      0.001    -15.740      0.000      -0.012      -0.010\n",
      "Cholesterol            0.0106      0.000     23.977      0.000       0.010       0.011\n",
      "Hemoglobin             0.0008      0.000      4.445      0.000       0.000       0.001\n",
      "Platelets             -0.0104      0.000    -27.334      0.000      -0.011      -0.010\n",
      "White Blood Cells     -0.0080      0.001    -14.799      0.000      -0.009      -0.007\n",
      "Red Blood Cells       -0.0085      0.000    -28.729      0.000      -0.009      -0.008\n",
      "Hematocrit            -0.0067      0.000    -17.813      0.000      -0.007      -0.006\n",
      "MCV                    0.0109      0.000     34.225      0.000       0.010       0.012\n",
      "MCH                    0.0056      0.000     19.680      0.000       0.005       0.006\n",
      "BMI                    0.0072      0.000     31.697      0.000       0.007       0.008\n",
      "BP                    -0.0044      0.000    -12.872      0.000      -0.005      -0.004\n",
      "Triglycerides         -0.0067      0.000    -24.245      0.000      -0.007      -0.006\n",
      "HbA1c                 -0.0013      0.001     -2.534      0.011      -0.002      -0.000\n",
      "HDL Chol              -0.0014      0.000     -3.133      0.002      -0.002      -0.001\n",
      "Heart Rate             0.0093      0.001     18.168      0.000       0.008       0.010\n",
      "C-reactive Protein     0.0053      0.000     14.792      0.000       0.005       0.006\n",
      "======================================================================================\n",
      "Odds Ratios\n",
      "                    Odds Ratio        5%       95%\n",
      "Glucose               0.780333  0.851485  0.815133\n",
      "Cholesterol           1.181553  1.253701  1.217092\n",
      "Hemoglobin            1.008204  1.022479  1.015317\n",
      "Platelets             0.801461  0.849636  0.825197\n",
      "White Blood Cells     0.846248  0.879887  0.862904\n",
      "Red Blood Cells       0.836061  0.873193  0.854425\n",
      "Hematocrit            0.869205  0.897531  0.883255\n",
      "MCV                   1.187241  1.260289  1.223220\n",
      "MCH                   1.088910  1.129701  1.109118\n",
      "BMI                   1.120630  1.163054  1.141645\n",
      "BP                    0.912877  0.931334  0.922060\n",
      "Triglycerides         0.867703  0.897980  0.882711\n",
      "HbA1c                 0.955712  0.995886  0.975593\n",
      "HDL Chol              0.957723  0.992873  0.975139\n",
      "Heart Rate            1.147008  1.229087  1.187339\n",
      "C-reactive Protein    1.079460  1.128850  1.103879\n"
     ]
    }
   ],
   "source": [
    "X1 = X.drop(['LDL Chol','Insulin'], axis=1)\n",
    "model = sm.Logit(y, X1)\n",
    "logit_model = model.fit(cov_type='HC0')\n",
    "print(logit_model.summary())\n",
    "\n",
    "mfxl = logit_model.get_margeff()\n",
    "print(mfxl.summary())\n",
    "\n",
    "params = logit_model.params\n",
    "conf = logit_model.conf_int()\n",
    "conf['Odds Ratio'] = params\n",
    "conf.columns = ['Odds Ratio', '5%', '95%']\n",
    "print(\"Odds Ratios\")\n",
    "print(np.exp(conf).iloc[1:17 , ])\n"
   ]
  },
  {
   "cell_type": "markdown",
   "metadata": {},
   "source": [
    "5. Comente los resultados obtenidos en 2, 3 y 4. ¿Cuáles y por qué existen las diferencias entre los resultados?. En su opinión, ¿Cuál sería el más adecuado para responder la pregunta de investgación y por qué? ¿Qué variables resultaron ser robustas a la especificación?\n",
    "\n",
    "**R**: En base a los resultados, el modelo MCO produce resultados incorrectos, por tanto Probit o Logit podrian ser apropiados. Dado el contexto, el modelo Logit provee mas informacion, por tanto es mas conveniente. Hay solo algunas variables como Insulina, LDL Chol, Creatinina y BP Sistolica no afectan directamente (teniendo en cuenta que el modelo puede estar mal especificado al no permitir interacciones entre variables)."
   ]
  },
  {
   "cell_type": "code",
   "execution_count": 72,
   "metadata": {},
   "outputs": [
    {
     "name": "stdout",
     "output_type": "stream",
     "text": [
      "                            OLS Regression Results                            \n",
      "==============================================================================\n",
      "Dep. Variable:                     dd   R-squared:                       0.475\n",
      "Model:                            OLS   Adj. R-squared:                  0.472\n",
      "Method:                 Least Squares   F-statistic:                     214.8\n",
      "Date:                Thu, 02 May 2024   Prob (F-statistic):               0.00\n",
      "Time:                        14:57:20   Log-Likelihood:                -566.18\n",
      "No. Observations:                2351   AIC:                             1166.\n",
      "Df Residuals:                    2334   BIC:                             1264.\n",
      "Df Model:                          16                                         \n",
      "Covariance Type:                  HC0                                         \n",
      "======================================================================================\n",
      "                         coef    std err          z      P>|z|      [0.025      0.975]\n",
      "--------------------------------------------------------------------------------------\n",
      "const                  0.6200      0.041     15.220      0.000       0.540       0.700\n",
      "Glucose               -0.0040      0.000    -15.968      0.000      -0.004      -0.004\n",
      "Cholesterol            0.0049      0.000     16.095      0.000       0.004       0.005\n",
      "Hemoglobin             0.0019      0.000      7.540      0.000       0.001       0.002\n",
      "Platelets             -0.0039      0.000    -17.566      0.000      -0.004      -0.003\n",
      "White Blood Cells     -0.0041      0.000    -18.960      0.000      -0.005      -0.004\n",
      "Red Blood Cells       -0.0039      0.000    -15.390      0.000      -0.004      -0.003\n",
      "Hematocrit            -0.0021      0.000     -8.447      0.000      -0.003      -0.002\n",
      "MCV                    0.0063      0.000     25.507      0.000       0.006       0.007\n",
      "MCH                    0.0026      0.000     11.804      0.000       0.002       0.003\n",
      "BMI                    0.0034      0.000     10.348      0.000       0.003       0.004\n",
      "BP                    -0.0017      0.000     -6.115      0.000      -0.002      -0.001\n",
      "Triglycerides         -0.0030      0.000    -10.436      0.000      -0.004      -0.002\n",
      "HbA1c                  0.0011      0.000      4.555      0.000       0.001       0.002\n",
      "HDL Chol              -0.0010      0.000     -4.022      0.000      -0.001      -0.001\n",
      "Heart Rate             0.0045      0.000     15.590      0.000       0.004       0.005\n",
      "C-reactive Protein     0.0009      0.000      2.579      0.010       0.000       0.002\n",
      "==============================================================================\n",
      "Omnibus:                      144.439   Durbin-Watson:                   0.945\n",
      "Prob(Omnibus):                  0.000   Jarque-Bera (JB):              151.256\n",
      "Skew:                          -0.584   Prob(JB):                     1.43e-33\n",
      "Kurtosis:                       2.579   Cond. No.                     1.55e+03\n",
      "==============================================================================\n",
      "\n",
      "Notes:\n",
      "[1] Standard Errors are heteroscedasticity robust (HC0)\n",
      "[2] The condition number is large, 1.55e+03. This might indicate that there are\n",
      "strong multicollinearity or other numerical problems.\n"
     ]
    }
   ],
   "source": [
    "#Estimar modelo con las mismas variables anteriores\n",
    "model = sm.OLS(y, X1)\n",
    "results = model.fit(cov_type='HC0')\n",
    "print(results.summary())"
   ]
  },
  {
   "cell_type": "markdown",
   "metadata": {},
   "source": [
    "6. Ejecute un modelo Poisson para explicar el numero de enfermedades que tiene una persona. Seleccione las variables dependientes a incluir en el modelo final e interprete su significado. \n",
    "\n",
    "**R**: Una vez excluidas las variables que no contribuian a la varianza total del modelo (tampoco directamente), hay ciertas variables que contribuyen de forma significativa, aunque de magnitud menor, a la variacion en el numero de enfermedades contabilizadas. Por ejemplo, un incremento en 10 percentiles en el Indice de Masa Corporal (BMI) se traduce en un incremento (sobre el promedio) de 0.14 en el numero de enfermedades."
   ]
  },
  {
   "cell_type": "code",
   "execution_count": 92,
   "metadata": {},
   "outputs": [
    {
     "name": "stdout",
     "output_type": "stream",
     "text": [
      "                 Generalized Linear Model Regression Results                  \n",
      "==============================================================================\n",
      "Dep. Variable:                Disease   No. Observations:                 2351\n",
      "Model:                            GLM   Df Residuals:                     2333\n",
      "Model Family:                 Poisson   Df Model:                           17\n",
      "Link Function:                    Log   Scale:                          1.0000\n",
      "Method:                          IRLS   Log-Likelihood:                -3133.6\n",
      "Date:                Thu, 02 May 2024   Deviance:                       1685.3\n",
      "Time:                        16:29:47   Pearson chi2:                 1.31e+03\n",
      "No. Iterations:                     5   Pseudo R-squ. (CS):             0.3767\n",
      "Covariance Type:            nonrobust                                         \n",
      "===========================================================================================\n",
      "                              coef    std err          z      P>|z|      [0.025      0.975]\n",
      "-------------------------------------------------------------------------------------------\n",
      "const                      -0.8870      0.150     -5.929      0.000      -1.180      -0.594\n",
      "Glucose                    -0.0069      0.001     -8.282      0.000      -0.009      -0.005\n",
      "Cholesterol                 0.0103      0.001     11.078      0.000       0.008       0.012\n",
      "Hemoglobin                  0.0114      0.001     14.270      0.000       0.010       0.013\n",
      "Platelets                  -0.0124      0.001    -19.502      0.000      -0.014      -0.011\n",
      "Hematocrit                 -0.0027      0.001     -3.806      0.000      -0.004      -0.001\n",
      "MCV                         0.0110      0.001     15.420      0.000       0.010       0.012\n",
      "MCH                         0.0085      0.001     13.236      0.000       0.007       0.010\n",
      "BMI                         0.0137      0.001     12.223      0.000       0.011       0.016\n",
      "Systolic Blood Pressure    -0.0029      0.001     -3.582      0.000      -0.004      -0.001\n",
      "BP                         -0.0067      0.001     -7.633      0.000      -0.008      -0.005\n",
      "Triglycerides              -0.0047      0.001     -5.918      0.000      -0.006      -0.003\n",
      "HbA1c                       0.0032      0.001      4.614      0.000       0.002       0.004\n",
      "LDL Chol                   -0.0088      0.001    -10.848      0.000      -0.010      -0.007\n",
      "HDL Chol                   -0.0032      0.001     -4.736      0.000      -0.005      -0.002\n",
      "Heart Rate                  0.0019      0.001      2.486      0.013       0.000       0.003\n",
      "Creatinine                  0.0052      0.001      5.936      0.000       0.003       0.007\n",
      "C-reactive Protein          0.0051      0.001      6.186      0.000       0.003       0.007\n",
      "===========================================================================================\n"
     ]
    }
   ],
   "source": [
    "y = df['Disease']\n",
    "X2=df.drop(['Disease', 'dd','White Blood Cells','Red Blood Cells','Insulin'], axis=1)\n",
    "X2 = X2*100\n",
    "X2=sm.add_constant(X2)\n",
    "poisson=sm.GLM(y,X2,family=sm.families.Poisson()).fit()\n",
    "print(poisson.summary())"
   ]
  },
  {
   "cell_type": "markdown",
   "metadata": {},
   "source": [
    "7. Determine la existencia de sobre dispersion y posible valor optimo de alpha para un modelo Binomial Negativa.\n",
    "\n",
    "**R**: El analisis indica que la sobredispersion es baja, y el test muestra un valor de alpha estadisticamente significativo, pero sugiriendo que existe subdispersion (menor varianza que la media). "
   ]
  },
  {
   "cell_type": "code",
   "execution_count": 93,
   "metadata": {},
   "outputs": [
    {
     "name": "stderr",
     "output_type": "stream",
     "text": [
      "c:\\Users\\juanc\\anaconda3\\lib\\site-packages\\seaborn\\_oldcore.py:1119: FutureWarning: use_inf_as_na option is deprecated and will be removed in a future version. Convert inf values to NaN before operating instead.\n",
      "  with pd.option_context('mode.use_inf_as_na', True):\n"
     ]
    },
    {
     "data": {
      "text/plain": [
       "<Axes: xlabel='plambda', ylabel='Count'>"
      ]
     },
     "execution_count": 93,
     "metadata": {},
     "output_type": "execute_result"
    },
    {
     "data": {
      "image/png": "[encoded data removed]",
      "text/plain": [
       "<Figure size 640x480 with 1 Axes>"
      ]
     },
     "metadata": {},
     "output_type": "display_data"
    }
   ],
   "source": [
    "df['plambda'] = poisson.mu\n",
    "sns.histplot(data=df, x=\"plambda\")"
   ]
  },
  {
   "cell_type": "code",
   "execution_count": 97,
   "metadata": {},
   "outputs": [
    {
     "name": "stdout",
     "output_type": "stream",
     "text": [
      "                                 OLS Regression Results                                \n",
      "=======================================================================================\n",
      "Dep. Variable:                Disease   R-squared (uncentered):                   0.381\n",
      "Model:                            OLS   Adj. R-squared (uncentered):              0.381\n",
      "Method:                 Least Squares   F-statistic:                              1449.\n",
      "Date:                Thu, 02 May 2024   Prob (F-statistic):                   1.97e-247\n",
      "Time:                        16:31:11   Log-Likelihood:                         -2008.7\n",
      "No. Observations:                2351   AIC:                                      4019.\n",
      "Df Residuals:                    2350   BIC:                                      4025.\n",
      "Df Model:                           1                                                  \n",
      "Covariance Type:            nonrobust                                                  \n",
      "==============================================================================\n",
      "                 coef    std err          t      P>|t|      [0.025      0.975]\n",
      "------------------------------------------------------------------------------\n",
      "x1            -0.2466      0.006    -38.068      0.000      -0.259      -0.234\n",
      "==============================================================================\n",
      "Omnibus:                      581.822   Durbin-Watson:                   1.455\n",
      "Prob(Omnibus):                  0.000   Jarque-Bera (JB):             1196.992\n",
      "Skew:                           1.450   Prob(JB):                    1.19e-260\n",
      "Kurtosis:                       4.951   Cond. No.                         1.00\n",
      "==============================================================================\n",
      "\n",
      "Notes:\n",
      "[1] R² is computed without centering (uncentered) since the model does not contain a constant.\n",
      "[2] Standard Errors assume that the covariance matrix of the errors is correctly specified.\n"
     ]
    }
   ],
   "source": [
    "aux=((y-poisson.mu)**2-poisson.mu)/poisson.mu\n",
    "auxr=sm.OLS(aux,poisson.mu).fit()\n",
    "print(auxr.summary())"
   ]
  },
  {
   "cell_type": "markdown",
   "metadata": {},
   "source": [
    "8. Usando la informacion anterior, ejecute un modelo Binomial Negativa para responder la pregunta 6. Seleccione las variables dependientes a incluir en el modelo final e interprete su significado.\n",
    "\n",
    "**R**: Los resultados del modelo Binonial Negativa, con el valor de alpha sugerido en la regresion auxiliar, entrega un peor ajuste respecto del modelo Poisson (basado en el valor de la Log-Likelihood). Sin embargo, los valores estimados son arbitrariamente similares entre ambos modelos (y su interpretacion es exactamente la misma)."
   ]
  },
  {
   "cell_type": "code",
   "execution_count": 98,
   "metadata": {},
   "outputs": [
    {
     "name": "stdout",
     "output_type": "stream",
     "text": [
      "                 Generalized Linear Model Regression Results                  \n",
      "==============================================================================\n",
      "Dep. Variable:                Disease   No. Observations:                 2351\n",
      "Model:                            GLM   Df Residuals:                     2333\n",
      "Model Family:        NegativeBinomial   Df Model:                           17\n",
      "Link Function:                    Log   Scale:                          1.0000\n",
      "Method:                          IRLS   Log-Likelihood:                -3703.3\n",
      "Date:                Thu, 02 May 2024   Deviance:                       1005.4\n",
      "Time:                        16:36:58   Pearson chi2:                     672.\n",
      "No. Iterations:                    10   Pseudo R-squ. (CS):             0.2058\n",
      "Covariance Type:            nonrobust                                         \n",
      "===========================================================================================\n",
      "                              coef    std err          z      P>|z|      [0.025      0.975]\n",
      "-------------------------------------------------------------------------------------------\n",
      "const                      -0.9291      0.225     -4.134      0.000      -1.370      -0.489\n",
      "Glucose                    -0.0063      0.001     -4.867      0.000      -0.009      -0.004\n",
      "Cholesterol                 0.0110      0.001      8.006      0.000       0.008       0.014\n",
      "Hemoglobin                  0.0111      0.001      9.342      0.000       0.009       0.013\n",
      "Platelets                  -0.0140      0.001    -14.102      0.000      -0.016      -0.012\n",
      "Hematocrit                 -0.0037      0.001     -3.531      0.000      -0.006      -0.002\n",
      "MCV                         0.0132      0.001     12.359      0.000       0.011       0.015\n",
      "MCH                         0.0093      0.001      9.563      0.000       0.007       0.011\n",
      "BMI                         0.0136      0.002      8.632      0.000       0.010       0.017\n",
      "Systolic Blood Pressure    -0.0029      0.001     -2.344      0.019      -0.005      -0.000\n",
      "BP                         -0.0069      0.001     -5.327      0.000      -0.009      -0.004\n",
      "Triglycerides              -0.0058      0.001     -4.881      0.000      -0.008      -0.003\n",
      "HbA1c                       0.0041      0.001      3.835      0.000       0.002       0.006\n",
      "LDL Chol                   -0.0087      0.001     -7.063      0.000      -0.011      -0.006\n",
      "HDL Chol                   -0.0044      0.001     -4.082      0.000      -0.006      -0.002\n",
      "Heart Rate                  0.0026      0.001      2.258      0.024       0.000       0.005\n",
      "Creatinine                  0.0056      0.001      4.204      0.000       0.003       0.008\n",
      "C-reactive Protein          0.0048      0.001      3.809      0.000       0.002       0.007\n",
      "===========================================================================================\n"
     ]
    }
   ],
   "source": [
    "negbin=sm.GLM(y,X2,family=sm.families.NegativeBinomial(alpha=0.8)).fit()\n",
    "print(negbin.summary())"
   ]
  },
  {
   "cell_type": "code",
   "execution_count": 103,
   "metadata": {},
   "outputs": [
    {
     "data": {
      "text/plain": [
       "<seaborn.axisgrid.FacetGrid at 0x1d33cd8a9d0>"
      ]
     },
     "execution_count": 103,
     "metadata": {},
     "output_type": "execute_result"
    },
    {
     "data": {
      "image/png": "[encoded data removed]",
      "text/plain": [
       "<Figure size 500x500 with 1 Axes>"
      ]
     },
     "metadata": {},
     "output_type": "display_data"
    }
   ],
   "source": [
    "df['ypred'] = negbin.predict(X2)\n",
    "sns.lmplot(data=df, x='Disease', y='ypred')"
   ]
  },
  {
   "cell_type": "markdown",
   "metadata": {},
   "source": [
    "9. Comente los resultados obtenidos en 6, 7 y 8. ¿Cuáles y por qué existen las diferencias entre los resultados?. En su opinión, ¿Cuál sería el más adecuado para responder la pregunta de investgación y por qué? ¿Qué variables resultaron ser robustas a la especificación?\n",
    "\n",
    "**R**: En virtud de los resultados, ambos modelos entregan resultados similares, sin embargo el modelo Poisson es mas parsimonioso y explica una mayor fraccion de la varianza. La significancia de las variables en cada modelo son arbitrariamente similares (desde una perspectiva estadistica). Todas las variables que quedan en el modelo son robustas en su asociacion con el numero de enfermedades."
   ]
  }
 ],
 "metadata": {
  "hide_input": false,
  "kernelspec": {
   "display_name": "base",
   "language": "python",
   "name": "python3"
  },
  "language_info": {
   "codemirror_mode": {
    "name": "ipython",
    "version": 3
   },
   "file_extension": ".py",
   "mimetype": "text/x-python",
   "name": "python",
   "nbconvert_exporter": "python",
   "pygments_lexer": "ipython3",
   "version": "3.9.18"
  },
  "latex_envs": {
   "LaTeX_envs_menu_present": true,
   "autoclose": true,
   "autocomplete": true,
   "bibliofile": "biblio.bib",
   "cite_by": "apalike",
   "current_citInitial": 1,
   "eqLabelWithNumbers": true,
   "eqNumInitial": 1,
   "hotkeys": {
    "equation": "Ctrl-E",
    "itemize": "Ctrl-I"
   },
   "labels_anchors": false,
   "latex_user_defs": false,
   "report_style_numbering": false,
   "user_envs_cfg": false
  },
  "toc": {
   "base_numbering": 1,
   "nav_menu": {},
   "number_sections": true,
   "sideBar": true,
   "skip_h1_title": true,
   "title_cell": "Table of Contents",
   "title_sidebar": "Contents",
   "toc_cell": false,
   "toc_position": {
    "height": "calc(100% - 180px)",
    "left": "10px",
    "top": "150px",
    "width": "165px"
   },
   "toc_section_display": true,
   "toc_window_display": true
  }
 },
 "nbformat": 4,
 "nbformat_minor": 2
}
